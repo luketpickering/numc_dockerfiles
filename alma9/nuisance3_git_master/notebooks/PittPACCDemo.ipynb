{
 "cells": [
  {
   "cell_type": "markdown",
   "id": "029ffce1-b689-44a1-92f8-63384fa85c65",
   "metadata": {},
   "source": [
    "# PittPACC NUISANCE3 Demo"
   ]
  },
  {
   "cell_type": "markdown",
   "id": "b7b1a8fb-d0a5-4469-be08-56eec96ca9ec",
   "metadata": {},
   "source": [
    "## Reading event vectors\n",
    "\n",
    "NUISANCE3 uses 'input handlers' in a similar way to NUISANCE2, but with much stricter de-coupling of the input converter logic from the rest of the framework. An input handler's job is to read some vector and return an event stream in NuHepMC format.\n",
    "\n",
    "First, lets generate a small NuWro file using shell magic and some NUISANCE2 helper scripts"
   ]
  },
  {
   "cell_type": "code",
   "execution_count": 1,
   "id": "b6564816-b4ba-487f-96c0-b2d59b15e2e8",
   "metadata": {},
   "outputs": [],
   "source": [
    "%%bash\n",
    "if [ ! -e NuWro.numu.BNB_uBooNE.100k.root ]; then\n",
    "    mkdir -p nuwrogen\n",
    "    cd nuwrogen\n",
    "    nuis gen NuWro -E MicroBooNE -n 100000 -t Ar -P numu -o NuWro.numu.BNB_uBooNE.100k.root &> /dev/null\n",
    "    cp NuWro.numu.BNB_uBooNE.100k.root ../\n",
    "    cd ../\n",
    "    rm -r nuwrogen\n",
    "fi"
   ]
  },
  {
   "cell_type": "markdown",
   "id": "a917ab7f-49c7-48d8-828f-10e3b1f009e2",
   "metadata": {},
   "source": [
    "Success!\n",
    "\n",
    "Lets first import a few useful modules that we will use in this demo"
   ]
  },
  {
   "cell_type": "code",
   "execution_count": 2,
   "id": "c0fa610a-9bca-433f-bd5d-85bda77b9c38",
   "metadata": {},
   "outputs": [
    {
     "name": "stdout",
     "output_type": "stream",
     "text": [
      "Nuisance: Neutrino Interaction Systematics ANalyser Constraints from Experiments  -- Fit and compare.\n",
      "[ NUISANCE ]: Loading DEFAULT settings from : /root/software/NUISANCEMC/nuisance/build/Linux/parameters/config.xml\n",
      "[ NUISANCE ]: Finished nuisconfig.\n",
      "Welcome to JupyROOT 6.30/04\n"
     ]
    }
   ],
   "source": [
    "import numpy as np\n",
    "import matplotlib.pyplot as plt\n",
    "\n",
    "import pyNUISANCE as pn"
   ]
  },
  {
   "cell_type": "markdown",
   "id": "2f91817f-2fc5-42d5-b67b-da78e62db92d",
   "metadata": {},
   "source": [
    "Next we get an `eventinput` handle to the event stream of the file that we just created with the `pyNUISANCE.EventSource` factory function. Unlike NUISANCE2 we don't have to specify the file type, the EventSource factory can work it out in most cases."
   ]
  },
  {
   "cell_type": "code",
   "execution_count": 3,
   "id": "5c5046f3-ac50-4c56-9e04-bf27169c8023",
   "metadata": {},
   "outputs": [],
   "source": [
    "nuevs = pn.EventSource(\"NuWro.numu.BNB_uBooNE.100k.root\")\n",
    "if not nuevs:\n",
    "    print(\"failed to read NuWro.numu.BNB_uBooNE.100k.root\")"
   ]
  },
  {
   "cell_type": "markdown",
   "id": "2ebd7447-93a1-4795-b7eb-90193d5f59aa",
   "metadata": {},
   "source": [
    "We can loop over the events in the file sequentially in python like below:"
   ]
  },
  {
   "cell_type": "code",
   "execution_count": 4,
   "id": "bb7cc5ee-60db-4b03-b9cd-5600c7e017ed",
   "metadata": {},
   "outputs": [
    {
     "name": "stdout",
     "output_type": "stream",
     "text": [
      "<pyHepMC3.pyHepMC3.HepMC3.GenEvent object at 0xffff68ce9e70> 1.0\n",
      "<pyHepMC3.pyHepMC3.HepMC3.GenEvent object at 0xffff68cf60f0> 1.0\n",
      "<pyHepMC3.pyHepMC3.HepMC3.GenEvent object at 0xffff68cf6130> 1.0\n",
      "<pyHepMC3.pyHepMC3.HepMC3.GenEvent object at 0xffff68cf60f0> 1.0\n",
      "<pyHepMC3.pyHepMC3.HepMC3.GenEvent object at 0xffff68cf6170> 1.0\n",
      "<pyHepMC3.pyHepMC3.HepMC3.GenEvent object at 0xffff68cf61b0> 1.0\n"
     ]
    }
   ],
   "source": [
    "for i, (ev, cvw) in enumerate(nuevs):\n",
    "    print(ev,cvw)\n",
    "    if i >= 5:\n",
    "        break"
   ]
  },
  {
   "cell_type": "markdown",
   "id": "11df1d3d-0054-49a9-8d74-a37859930018",
   "metadata": {},
   "source": [
    "Here we can see that the objects returned from iterating on the event source are HepMC3 events. You may also notice the `cvw` variable that comes with every event, this is the Central Value Weight. Different generators store different information in this weight, for many generators it will be `1.0` for every event. However, you shouldn't neglect this weight in generator-agnostic code.\n",
    "\n",
    "We can use the `pyHepMC3` print functions to print out an event listing and take a look:"
   ]
  },
  {
   "cell_type": "code",
   "execution_count": 5,
   "id": "8a993746-0584-4333-b9c5-5fe3286d2ca3",
   "metadata": {},
   "outputs": [
    {
     "name": "stdout",
     "output_type": "stream",
     "text": [
      "--------------------------------\n",
      "--------- EVENT CONTENT --------\n",
      "--------------------------------\n",
      "\n",
      "Weights (1): \n",
      " 1Attributes:\n",
      "0: LabPos\n",
      "2: remnant_particle_number\n",
      "0: signal_process_id\n",
      "GenParticlePtr (11)\n",
      "GenParticle:   1 PDGID: 1000180400 (P,E)=+0.00e+00,+0.00e+00,+0.00e+00,+0.00e+00 Stat: 20 PV: 0 EV: -1 Attr: 0\n",
      "GenParticle:   2 PDGID: 2009900000 (P,E)=+0.00e+00,+0.00e+00,+0.00e+00,+0.00e+00 Stat: 3 PV: -1 EV: -3 Attr: 1 remnant_particle_number=1000170390\n",
      "GenParticle:   3 PDGID:  2212 (P,E)=+1.70e+01,+4.43e+00,+1.04e+02,+9.44e+02 Stat: 21 PV: -1 EV: -2 Attr: 0\n",
      "GenParticle:   4 PDGID:    14 (P,E)=+0.00e+00,+0.00e+00,+6.90e+02,+6.90e+02 Stat: 4 PV: 0 EV: -2 Attr: 0\n",
      "GenParticle:   5 PDGID:    13 (P,E)=-4.59e+01,+1.04e+02,+1.46e+02,+2.13e+02 Stat: 3 PV: -2 EV: -3 Attr: 0\n",
      "GenParticle:   6 PDGID:   211 (P,E)=+1.12e+02,+9.88e+01,+2.97e+02,+3.61e+02 Stat: 3 PV: -2 EV: -3 Attr: 0\n",
      "GenParticle:   7 PDGID:  2212 (P,E)=-4.91e+01,-1.98e+02,+3.51e+02,+1.02e+03 Stat: 3 PV: -2 EV: -3 Attr: 0\n",
      "GenParticle:   8 PDGID: 2009900000 (P,E)=+0.00e+00,+0.00e+00,+0.00e+00,+0.00e+00 Stat: 1 PV: -3 EV: 0 Attr: 0\n",
      "GenParticle:   9 PDGID:    13 (P,E)=-4.59e+01,+1.04e+02,+1.46e+02,+2.13e+02 Stat: 1 PV: -3 EV: 0 Attr: 0\n",
      "GenParticle:  10 PDGID:  2212 (P,E)=-3.61e+01,-1.46e+02,+2.58e+02,+9.85e+02 Stat: 1 PV: -3 EV: 0 Attr: 0\n",
      "GenParticle:  11 PDGID:   211 (P,E)=+1.12e+02,+9.88e+01,+2.97e+02,+3.61e+02 Stat: 1 PV: -3 EV: 0 Attr: 0\n",
      "GenVertexPtr (3)\n",
      "GenVertex:  -1 stat:  21 in: 1 out: 2 has_set_position: false (X,cT): 0, 0, 0, 0\n",
      "GenVertex:  -2 stat:   1 in: 2 out: 3 has_set_position: false (X,cT): 0, 0, 0, 0\n",
      "GenVertex:  -3 stat:   2 in: 4 out: 4 has_set_position: false (X,cT): 0, 0, 0, 0\n",
      "-----------------------------\n"
     ]
    }
   ],
   "source": [
    "import pyHepMC3.pyHepMC3.HepMC3 as hm3\n",
    "\n",
    "hm3.Print.content(nuevs.first()[0])"
   ]
  },
  {
   "cell_type": "markdown",
   "id": "f5ff79b7-a6dd-4820-80bf-135294d1853d",
   "metadata": {},
   "source": [
    "So now we can read event vectors from disk and get events from them in a common format. This is some progress.\n",
    "\n",
    "Note that every time you iterate on the `eventinput` instance, the file will be read from the start again.\n",
    "\n",
    "Before moving on, it is worth highlighting how you can access the 'run-level' metadata from an event vector. When using native HepMC3 input, the 'GenRunInfo' object is read from the file, but when using a nuisance3 `eventinput` plugin to convert between a generator-specific format and HepMC3 on the fly, that GenRunInfo will contain whatever relevant information the plugin author can glean from the generator-specific file or knows already about the relevant generator format.\n",
    "\n",
    "The NuWro converter plugin uses the code [here](https://github.com/NuHepMC/nuwro2hepmc3) for the conversion.\n",
    "\n",
    "We can use `pyHepMC3` print to look at the GenRunInfo.\n",
    "\n",
    "For more information on the NuHepMC run-level metadata specification, see [here](https://arxiv.org/pdf/2310.13211)."
   ]
  },
  {
   "cell_type": "code",
   "execution_count": 6,
   "id": "144aa668-1aeb-47ae-abaf-4844bddc4b15",
   "metadata": {},
   "outputs": [
    {
     "name": "stdout",
     "output_type": "stream",
     "text": [
      "________________________________________________________________________\n",
      "GenRunInfo:\n",
      " Names: ( CV )\n",
      " Tools: \n",
      "GenRunInfo::ToolInfo NuWro UNKNOWN-VERSION https://doi.org/10.1016/j.nuclphysbps.2012.09.136GenRunInfo::ToolInfo nuwro2hepmc3 0.9.1 github.com/NuHepMC/nuwro2hepmc3Attributes:\n",
      "NuHepMC.Conventions G.C.1 G.C.2 G.C.5 G.C.4 E.C.1\n",
      "NuHepMC.Exposure.NEvents 100000\n",
      "NuHepMC.FluxAveragedTotalCrossSection 0.00942725837682904\n",
      "NuHepMC.ParticleStatusIDs 1 2 3 4 20 21\n",
      "NuHepMC.ParticleStatusInfo[1].Description Physical final state particles produced by this simulation\n",
      "NuHepMC.ParticleStatusInfo[1].Name UndecayedPhysicalParticle\n",
      "NuHepMC.ParticleStatusInfo[20].Description The target particle in the hard scatter\n",
      "NuHepMC.ParticleStatusInfo[20].Name TargetParticle\n",
      "NuHepMC.ParticleStatusInfo[21].Description The nucleon involved in the hard scatter\n",
      "NuHepMC.ParticleStatusInfo[21].Name StruckNucleon\n",
      "NuHepMC.ParticleStatusInfo[2].Description Particle was decayed by the simulation\n",
      "NuHepMC.ParticleStatusInfo[2].Name DecayedPhysical\n",
      "NuHepMC.ParticleStatusInfo[3].Description Documentation line, not considered a real particle\n",
      "NuHepMC.ParticleStatusInfo[3].Name DocumentationLine\n",
      "NuHepMC.ParticleStatusInfo[4].Description Incoming beam particle\n",
      "NuHepMC.ParticleStatusInfo[4].Name IncomingBeamParticle\n",
      "NuHepMC.ProcessIDs 100 150 200 201 250 251 300 350 400 450 500 550 600 650 700 750\n",
      "NuHepMC.ProcessInfo[100].Description coherent\n",
      "NuHepMC.ProcessInfo[100].Name CC coh\n",
      "NuHepMC.ProcessInfo[150].Description coherent\n",
      "NuHepMC.ProcessInfo[150].Name NC coh\n",
      "NuHepMC.ProcessInfo[200].Description (quasi) elastic\n",
      "NuHepMC.ProcessInfo[200].Name CC qel\n",
      "NuHepMC.ProcessInfo[201].Description hyperon production\n",
      "NuHepMC.ProcessInfo[201].Name CC hyp\n",
      "NuHepMC.ProcessInfo[250].Description (quasi) elastic\n",
      "NuHepMC.ProcessInfo[250].Name NC qel\n",
      "NuHepMC.ProcessInfo[251].Description hyperon production\n",
      "NuHepMC.ProcessInfo[251].Name NC hyp\n",
      "NuHepMC.ProcessInfo[300].Description meson exhange current\n",
      "NuHepMC.ProcessInfo[300].Name CC mec\n",
      "NuHepMC.ProcessInfo[350].Description meson exhange current\n",
      "NuHepMC.ProcessInfo[350].Name NC mec\n",
      "NuHepMC.ProcessInfo[400].Description delta resonant\n",
      "NuHepMC.ProcessInfo[400].Name CC res\n",
      "NuHepMC.ProcessInfo[450].Description delta resonant\n",
      "NuHepMC.ProcessInfo[450].Name NC res\n",
      "NuHepMC.ProcessInfo[500].Description non-delta single pion\n",
      "NuHepMC.ProcessInfo[500].Name CC non-delta SPP\n",
      "NuHepMC.ProcessInfo[550].Description non-delta single pion\n",
      "NuHepMC.ProcessInfo[550].Name NC non-delta SPP\n",
      "NuHepMC.ProcessInfo[600].Description deep inelastic\n",
      "NuHepMC.ProcessInfo[600].Name CC dis\n",
      "NuHepMC.ProcessInfo[650].Description deep inelastic\n",
      "NuHepMC.ProcessInfo[650].Name NC dis\n",
      "NuHepMC.ProcessInfo[700].Description neutrino-lepton\n",
      "NuHepMC.ProcessInfo[700].Name CC lep\n",
      "NuHepMC.ProcessInfo[750].Description neutrino-lepton\n",
      "NuHepMC.ProcessInfo[750].Name NC lep\n",
      "NuHepMC.Provenance.NuWro.MEC_cm_direction  0\n",
      "NuHepMC.Provenance.NuWro.MEC_pauli_blocking  1\n",
      "NuHepMC.Provenance.NuWro.beam_atmo_files \n",
      "NuHepMC.Provenance.NuWro.beam_content \n",
      "NuHepMC.Provenance.NuWro.beam_direction  0 0 1\n",
      "NuHepMC.Provenance.NuWro.beam_energy  1000\n",
      "NuHepMC.Provenance.NuWro.beam_file_first  1\n",
      "NuHepMC.Provenance.NuWro.beam_file_limit  0\n",
      "NuHepMC.Provenance.NuWro.beam_folder  flux\n",
      "NuHepMC.Provenance.NuWro.beam_inputroot  /opt/nuisance/git_master/data/flux/bin_content_is_rate/BNB_uBooNE_numu_flux_2019.root\n",
      "NuHepMC.Provenance.NuWro.beam_inputroot_flux  numu\n",
      "NuHepMC.Provenance.NuWro.beam_inputroot_nue  \n",
      "NuHepMC.Provenance.NuWro.beam_inputroot_nueb  \n",
      "NuHepMC.Provenance.NuWro.beam_inputroot_numu  \n",
      "NuHepMC.Provenance.NuWro.beam_inputroot_numub  \n",
      "NuHepMC.Provenance.NuWro.beam_inputroot_nutau  \n",
      "NuHepMC.Provenance.NuWro.beam_inputroot_nutaub  \n",
      "NuHepMC.Provenance.NuWro.beam_length_units  cm\n",
      "NuHepMC.Provenance.NuWro.beam_offset  0 0 0\n",
      "NuHepMC.Provenance.NuWro.beam_particle  14\n",
      "NuHepMC.Provenance.NuWro.beam_placement  0\n",
      "NuHepMC.Provenance.NuWro.beam_pot_per_file  -1\n",
      "NuHepMC.Provenance.NuWro.beam_test_only  0\n",
      "NuHepMC.Provenance.NuWro.beam_type  5\n",
      "NuHepMC.Provenance.NuWro.beam_weighted  0\n",
      "NuHepMC.Provenance.NuWro.bkgrscaling  0\n",
      "NuHepMC.Provenance.NuWro.cc_smoothing  0\n",
      "NuHepMC.Provenance.NuWro.coh_kind  2\n",
      "NuHepMC.Provenance.NuWro.coh_mass_correction  1\n",
      "NuHepMC.Provenance.NuWro.coh_new  1\n",
      "NuHepMC.Provenance.NuWro.delta_FF_set  1\n",
      "NuHepMC.Provenance.NuWro.delta_angular  2\n",
      "NuHepMC.Provenance.NuWro.delta_s  0\n",
      "NuHepMC.Provenance.NuWro.delta_selfenergy  0\n",
      "NuHepMC.Provenance.NuWro.dyn_coh_cc  1\n",
      "NuHepMC.Provenance.NuWro.dyn_coh_nc  1\n",
      "NuHepMC.Provenance.NuWro.dyn_dis_cc  1\n",
      "NuHepMC.Provenance.NuWro.dyn_dis_nc  1\n",
      "NuHepMC.Provenance.NuWro.dyn_hyp_cc  1\n",
      "NuHepMC.Provenance.NuWro.dyn_lep  1\n",
      "NuHepMC.Provenance.NuWro.dyn_mec_cc  1\n",
      "NuHepMC.Provenance.NuWro.dyn_mec_nc  1\n",
      "NuHepMC.Provenance.NuWro.dyn_qel_cc  1\n",
      "NuHepMC.Provenance.NuWro.dyn_qel_el  0\n",
      "NuHepMC.Provenance.NuWro.dyn_qel_nc  1\n",
      "NuHepMC.Provenance.NuWro.dyn_res_cc  1\n",
      "NuHepMC.Provenance.NuWro.dyn_res_el  0\n",
      "NuHepMC.Provenance.NuWro.dyn_res_nc  1\n",
      "NuHepMC.Provenance.NuWro.e_spp_ff_set  4\n",
      "NuHepMC.Provenance.NuWro.eel_alg  old\n",
      "NuHepMC.Provenance.NuWro.el_costh_del  1\n",
      "NuHepMC.Provenance.NuWro.el_costh_lab  0.5\n",
      "NuHepMC.Provenance.NuWro.first_step  1\n",
      "NuHepMC.Provenance.NuWro.flux_correction  0\n",
      "NuHepMC.Provenance.NuWro.formation_length  1\n",
      "NuHepMC.Provenance.NuWro.formation_zone  fz-new\n",
      "NuHepMC.Provenance.NuWro.geo_d  2000 2000 5000\n",
      "NuHepMC.Provenance.NuWro.geo_file  target/ND280_v9r7p5.root\n",
      "NuHepMC.Provenance.NuWro.geo_name  ND280Geometry_v9r7p5\n",
      "NuHepMC.Provenance.NuWro.geo_o  0 0 0\n",
      "NuHepMC.Provenance.NuWro.geo_volume  \n",
      "NuHepMC.Provenance.NuWro.geom_density_convert  1\n",
      "NuHepMC.Provenance.NuWro.geom_length_units  cm\n",
      "NuHepMC.Provenance.NuWro.hyp_Lambda_Eb  27\n",
      "NuHepMC.Provenance.NuWro.hyp_Sigma_Eb  -70\n",
      "NuHepMC.Provenance.NuWro.hyp_axial_mass  1030\n",
      "NuHepMC.Provenance.NuWro.hyp_effmass  1\n",
      "NuHepMC.Provenance.NuWro.hyp_g2_Im_part  0\n",
      "NuHepMC.Provenance.NuWro.hyp_g2_Re_part  0\n",
      "NuHepMC.Provenance.NuWro.hyp_lambda  1\n",
      "NuHepMC.Provenance.NuWro.hyp_sigma_minus  1\n",
      "NuHepMC.Provenance.NuWro.hyp_sigma_zero  1\n",
      "NuHepMC.Provenance.NuWro.hyp_su3_sym_breaking  0\n",
      "NuHepMC.Provenance.NuWro.kaskada_NN_angle  3\n",
      "NuHepMC.Provenance.NuWro.kaskada_NN_corr  1\n",
      "NuHepMC.Provenance.NuWro.kaskada_NN_inel  2\n",
      "NuHepMC.Provenance.NuWro.kaskada_NN_mfp_scale  1\n",
      "NuHepMC.Provenance.NuWro.kaskada_NN_xsec  2\n",
      "NuHepMC.Provenance.NuWro.kaskada_on  1\n",
      "NuHepMC.Provenance.NuWro.kaskada_piN_xsec  1\n",
      "NuHepMC.Provenance.NuWro.kaskada_redo  0\n",
      "NuHepMC.Provenance.NuWro.kaskada_w  7\n",
      "NuHepMC.Provenance.NuWro.kaskada_writeall  0\n",
      "NuHepMC.Provenance.NuWro.mec_back_to_back_smearing  0\n",
      "NuHepMC.Provenance.NuWro.mec_central_motion  0\n",
      "NuHepMC.Provenance.NuWro.mec_kind  3\n",
      "NuHepMC.Provenance.NuWro.mec_pb_trials  30\n",
      "NuHepMC.Provenance.NuWro.mec_ratio_pp  0.85\n",
      "NuHepMC.Provenance.NuWro.mec_ratio_ppp  0.8\n",
      "NuHepMC.Provenance.NuWro.mec_scaling  0\n",
      "NuHepMC.Provenance.NuWro.mixed_order  1\n",
      "NuHepMC.Provenance.NuWro.nucleus_E_b  34\n",
      "NuHepMC.Provenance.NuWro.nucleus_kf  220\n",
      "NuHepMC.Provenance.NuWro.nucleus_model  1\n",
      "NuHepMC.Provenance.NuWro.nucleus_n  22\n",
      "NuHepMC.Provenance.NuWro.nucleus_p  18\n",
      "NuHepMC.Provenance.NuWro.nucleus_target  2\n",
      "NuHepMC.Provenance.NuWro.number_of_events  100000\n",
      "NuHepMC.Provenance.NuWro.number_of_test_events  2000000\n",
      "NuHepMC.Provenance.NuWro.path_to_data \n",
      "NuHepMC.Provenance.NuWro.pauli_blocking  1\n",
      "NuHepMC.Provenance.NuWro.pion_C5A  1.19\n",
      "NuHepMC.Provenance.NuWro.pion_axial_mass  0.94\n",
      "NuHepMC.Provenance.NuWro.qel_axial_ff_set  1\n",
      "NuHepMC.Provenance.NuWro.qel_cc_axial_mass  1030\n",
      "NuHepMC.Provenance.NuWro.qel_cc_vector_mass  840\n",
      "NuHepMC.Provenance.NuWro.qel_kinematics  0\n",
      "NuHepMC.Provenance.NuWro.qel_nc_axial_mass  1030\n",
      "NuHepMC.Provenance.NuWro.qel_rpa  1\n",
      "NuHepMC.Provenance.NuWro.qel_s_axial_mass  1030\n",
      "NuHepMC.Provenance.NuWro.qel_strange  1\n",
      "NuHepMC.Provenance.NuWro.qel_strangeEM  0\n",
      "NuHepMC.Provenance.NuWro.qel_vector_ff_set  2\n",
      "NuHepMC.Provenance.NuWro.random_seed  1537\n",
      "NuHepMC.Provenance.NuWro.res_dis_cut  1600\n",
      "NuHepMC.Provenance.NuWro.save_test_events  0\n",
      "NuHepMC.Provenance.NuWro.sf_coulomb  1\n",
      "NuHepMC.Provenance.NuWro.sf_fsi  1\n",
      "NuHepMC.Provenance.NuWro.sf_method  0\n",
      "NuHepMC.Provenance.NuWro.sf_pb  1\n",
      "NuHepMC.Provenance.NuWro.spp_precision  500\n",
      "NuHepMC.Provenance.NuWro.step  0.2\n",
      "NuHepMC.Provenance.NuWro.target_content \n",
      "NuHepMC.Provenance.NuWro.target_type  0\n",
      "NuHepMC.Provenance.NuWro.tau  8\n",
      "NuHepMC.Provenance.NuWro.user_events  0\n",
      "NuHepMC.Provenance.NuWro.user_params \n",
      "NuHepMC.Units.CrossSection.TargetScale PerTargetNucleon\n",
      "NuHepMC.Units.CrossSection.Unit pb\n",
      "NuHepMC.Version.Major 0\n",
      "NuHepMC.Version.Minor 9\n",
      "NuHepMC.Version.Patch 2\n",
      "NuHepMC.VertexStatusIDs 1 2 21\n",
      "NuHepMC.VertexStatusInfo[1].Description The neutrino hard-scatter vertex\n",
      "NuHepMC.VertexStatusInfo[1].Name PrimaryVertex\n",
      "NuHepMC.VertexStatusInfo[21].Description Impulse approximation vertex that represents the separation of the single target nucleon from the target nucleus ground state.\n",
      "NuHepMC.VertexStatusInfo[21].Name NucleonSeparationVertex\n",
      "NuHepMC.VertexStatusInfo[2].Description A single vertex representing the cascade\n",
      "NuHepMC.VertexStatusInfo[2].Name FSIVertex\n",
      "________________________________________________________________________\n"
     ]
    }
   ],
   "source": [
    "hm3.Print.listing(nuevs.run_info())"
   ]
  },
  {
   "cell_type": "markdown",
   "id": "8aca66a7-7210-4a14-bdd9-ebd02fce78af",
   "metadata": {},
   "source": [
    "## Event Analysis\n",
    "\n",
    "So, you're now free to write your analysis with whatever tools you want! The native `pyHepMC3` bindings are pretty clunky, [Scikit-HEP](https://scikit-hep.org) includes some much more ergonomic bindings under the `pyhepmc` package. The only problem is that the python types are not compatible with the native bindings and so to use `pyhepmc` you need to read the file off disk with `pyhepmc.open` and not using the NUISANCE3 `eventinput` framework. We can use `eventinput` to do the initial conversion, write the converted file to disk and then do follow-up analysis with `pyhepmc`.\n",
    "\n",
    "Scikit-HEP has a bunch of really really useful tools, and I recommend taking a look at them and including them in your workflows."
   ]
  },
  {
   "cell_type": "code",
   "execution_count": 7,
   "id": "f05b1538-73d3-435d-8a11-dd12755c1e63",
   "metadata": {},
   "outputs": [],
   "source": [
    "wrtr = hm3.WriterAscii(\"NuWro.numu.BNB_uBooNE.100k.hepmc3\")\n",
    "for ev, _ in nuevs:\n",
    "    wrtr.write_event(ev)\n",
    "wrtr.close()"
   ]
  },
  {
   "cell_type": "code",
   "execution_count": 8,
   "id": "4466ea42-b04c-4174-b75d-4d66b19352d6",
   "metadata": {
    "scrolled": true
   },
   "outputs": [
    {
     "name": "stdout",
     "output_type": "stream",
     "text": [
      "HepMC::Version 3.03.00\n",
      "HepMC::Asciiv3-START_EVENT_LISTING\n",
      "W CV\n",
      "T NuWro\\|UNKNOWN-VERSION\\|https://doi.org/10.1016/j.nuclphysbps.2012.09.136\n",
      "T nuwro2hepmc3\\|0.9.1\\|github.com/NuHepMC/nuwro2hepmc3\n",
      "A NuHepMC.Conventions G.C.1 G.C.2 G.C.5 G.C.4 E.C.1\n",
      "A NuHepMC.Exposure.NEvents 100000\n",
      "A NuHepMC.FluxAveragedTotalCrossSection 0.00942725837682904\n",
      "A NuHepMC.ParticleStatusIDs 1 2 3 4 20 21\n",
      "A NuHepMC.ParticleStatusInfo[1].Description Physical final state particles produced by this simulation\n",
      "A NuHepMC.ParticleStatusInfo[1].Name UndecayedPhysicalParticle\n",
      "A NuHepMC.ParticleStatusInfo[20].Description The target particle in the hard scatter\n",
      "A NuHepMC.ParticleStatusInfo[20].Name TargetParticle\n",
      "A NuHepMC.ParticleStatusInfo[21].Description The nucleon involved in the hard scatter\n",
      "A NuHepMC.ParticleStatusInfo[21].Name StruckNucleon\n",
      "A NuHepMC.ParticleStatusInfo[2].Description Particle was decayed by the simulation\n",
      "A NuHepMC.ParticleStatusInfo[2].Name DecayedPhysical\n",
      "A NuHepMC.ParticleStatusInfo[3].Description Documentation line, not considered a real particle\n",
      "A NuHepMC.ParticleStatusInfo[3].Name DocumentationLine\n",
      "A NuHepMC.ParticleStatusInfo[4].Description Incoming beam particle\n",
      "A NuHepMC.ParticleStatusInfo[4].Name IncomingBeamParticle\n",
      "A NuHepMC.ProcessIDs 100 150 200 201 250 251 300 350 400 450 500 550 600 650 700 750\n",
      "A NuHepMC.ProcessInfo[100].Description coherent\n",
      "A NuHepMC.ProcessInfo[100].Name CC coh\n",
      "A NuHepMC.ProcessInfo[150].Description coherent\n",
      "A NuHepMC.ProcessInfo[150].Name NC coh\n",
      "A NuHepMC.ProcessInfo[200].Description (quasi) elastic\n",
      "A NuHepMC.ProcessInfo[200].Name CC qel\n",
      "A NuHepMC.ProcessInfo[201].Description hyperon production\n",
      "A NuHepMC.ProcessInfo[201].Name CC hyp\n",
      "A NuHepMC.ProcessInfo[250].Description (quasi) elastic\n",
      "A NuHepMC.ProcessInfo[250].Name NC qel\n",
      "A NuHepMC.ProcessInfo[251].Description hyperon production\n",
      "A NuHepMC.ProcessInfo[251].Name NC hyp\n",
      "A NuHepMC.ProcessInfo[300].Description meson exhange current\n",
      "A NuHepMC.ProcessInfo[300].Name CC mec\n",
      "A NuHepMC.ProcessInfo[350].Description meson exhange current\n",
      "A NuHepMC.ProcessInfo[350].Name NC mec\n",
      "A NuHepMC.ProcessInfo[400].Description delta resonant\n",
      "A NuHepMC.ProcessInfo[400].Name CC res\n",
      "A NuHepMC.ProcessInfo[450].Description delta resonant\n",
      "A NuHepMC.ProcessInfo[450].Name NC res\n",
      "A NuHepMC.ProcessInfo[500].Description non-delta single pion\n",
      "A NuHepMC.ProcessInfo[500].Name CC non-delta SPP\n",
      "A NuHepMC.ProcessInfo[550].Description non-delta single pion\n",
      "A NuHepMC.ProcessInfo[550].Name NC non-delta SPP\n",
      "A NuHepMC.ProcessInfo[600].Description deep inelastic\n",
      "A NuHepMC.ProcessInfo[600].Name CC dis\n",
      "A NuHepMC.ProcessInfo[650].Description deep inelastic\n",
      "A NuHepMC.ProcessInfo[650].Name NC dis\n"
     ]
    }
   ],
   "source": [
    "%%bash\n",
    "head -50 NuWro.numu.BNB_uBooNE.100k.hepmc3"
   ]
  },
  {
   "cell_type": "code",
   "execution_count": 9,
   "id": "01ef6cd4-52cc-42fb-949e-9a1e90ba111c",
   "metadata": {},
   "outputs": [
    {
     "name": "stdout",
     "output_type": "stream",
     "text": [
      "Requirement already satisfied: pyhepmc in /usr/local/lib64/python3.9/site-packages (2.14.0)\n",
      "Requirement already satisfied: packaging in /usr/local/lib/python3.9/site-packages (from pyhepmc) (24.1)\n",
      "Requirement already satisfied: numpy>=1.21 in /usr/local/lib64/python3.9/site-packages (from pyhepmc) (1.22.4)\n",
      "\u001b[33mWARNING: Running pip as the 'root' user can result in broken permissions and conflicting behaviour with the system package manager. It is recommended to use a virtual environment instead: https://pip.pypa.io/warnings/venv\u001b[0m\n",
      "Note: you may need to restart the kernel to use updated packages.\n"
     ]
    }
   ],
   "source": [
    "%pip install pyhepmc"
   ]
  },
  {
   "cell_type": "code",
   "execution_count": 10,
   "id": "21e2d0e6-f383-4756-908e-b8949952752a",
   "metadata": {},
   "outputs": [
    {
     "name": "stdout",
     "output_type": "stream",
     "text": [
      "________________________________________________________________________\n",
      "GenEvent: #0\n",
      " Momentum units: MEV Position units: CM\n",
      " Entries in this event: 3 vertices, 11 particles, 1 weights.\n",
      " Position offset: 0, 0, 0, 0\n",
      "                                    GenParticle Legend\n",
      "         ID    PDG ID   ( px,       py,       pz,     E )   Stat ProdVtx\n",
      "________________________________________________________________________\n",
      "Vtx:     -1 stat:  21 (X,cT): 0\n",
      " I:       11000180400 +0.00e+00,+0.00e+00,+0.00e+00,+0.00e+00  20     0\n",
      " O:       22009900000 +0.00e+00,+0.00e+00,+0.00e+00,+0.00e+00   3    -1\n",
      "          3     2212 +1.70e+01,+4.43e+00,+1.04e+02,+9.44e+02  21    -1\n",
      "Vtx:     -2 stat:   1 (X,cT): 0\n",
      " I:       3     2212 +1.70e+01,+4.43e+00,+1.04e+02,+9.44e+02  21    -1\n",
      "          4       14 +0.00e+00,+0.00e+00,+6.90e+02,+6.90e+02   4     0\n",
      " O:       5       13 -4.59e+01,+1.04e+02,+1.46e+02,+2.13e+02   3    -2\n",
      "          6      211 +1.12e+02,+9.88e+01,+2.97e+02,+3.61e+02   3    -2\n",
      "          7     2212 -4.91e+01,-1.98e+02,+3.51e+02,+1.02e+03   3    -2\n",
      "Vtx:     -3 stat:   2 (X,cT): 0\n",
      " I:       22009900000 +0.00e+00,+0.00e+00,+0.00e+00,+0.00e+00   3    -1\n",
      "          5       13 -4.59e+01,+1.04e+02,+1.46e+02,+2.13e+02   3    -2\n",
      "          6      211 +1.12e+02,+9.88e+01,+2.97e+02,+3.61e+02   3    -2\n",
      "          7     2212 -4.91e+01,-1.98e+02,+3.51e+02,+1.02e+03   3    -2\n",
      " O:       82009900000 +0.00e+00,+0.00e+00,+0.00e+00,+0.00e+00   1    -3\n",
      "          9       13 -4.59e+01,+1.04e+02,+1.46e+02,+2.13e+02   1    -3\n",
      "         10     2212 -3.61e+01,-1.46e+02,+2.58e+02,+9.85e+02   1    -3\n",
      "         11      211 +1.12e+02,+9.88e+01,+2.97e+02,+3.61e+02   1    -3\n",
      "________________________________________________________________________\n",
      "\n"
     ]
    }
   ],
   "source": [
    "import pyhepmc\n",
    "\n",
    "with pyhepmc.open(\"NuWro.numu.BNB_uBooNE.100k.hepmc3\") as rdr:\n",
    "    ev = rdr.read()\n",
    "print(ev)"
   ]
  },
  {
   "cell_type": "code",
   "execution_count": 11,
   "id": "b76b1b04-1c92-400a-ab5d-271f6e761b9d",
   "metadata": {},
   "outputs": [
    {
     "data": {
      "text/html": [
       "<?xml version=\"1.0\" encoding=\"UTF-8\" standalone=\"no\"?>\n",
       "<!DOCTYPE svg PUBLIC \"-//W3C//DTD SVG 1.1//EN\"\n",
       " \"http://www.w3.org/Graphics/SVG/1.1/DTD/svg11.dtd\">\n",
       "<!-- Generated by graphviz version 2.44.0 (0)\n",
       " -->\n",
       "<!-- Title: NuWro&#45;UNKNOWN&#45;VERSION\n",
       "nuwro2hepmc3&#45;0.9.1\n",
       "event number = 0 Pages: 1 -->\n",
       "<svg width=\"576pt\" height=\"122pt\"\n",
       " viewBox=\"0.00 0.00 576.00 121.97\" xmlns=\"http://www.w3.org/2000/svg\" xmlns:xlink=\"http://www.w3.org/1999/xlink\">\n",
       "<g id=\"graph0\" class=\"graph\" transform=\"scale(0.74 0.74) rotate(0) translate(4 161.25)\">\n",
       "<title>NuWro&#45;UNKNOWN&#45;VERSION\n",
       "nuwro2hepmc3&#45;0.9.1\n",
       "event number = 0</title>\n",
       "<polygon fill=\"white\" stroke=\"transparent\" points=\"-4,4 -4,-161.25 776.4,-161.25 776.4,4 -4,4\"/>\n",
       "<!-- &#45;1 -->\n",
       "<g id=\"node1\" class=\"node\">\n",
       "<title>&#45;1</title>\n",
       "<g id=\"a_node1\"><a xlink:title=\"FourVector(0, 0, 0, 0) mm&#10;status = 21\">\n",
       "<ellipse fill=\"black\" stroke=\"black\" cx=\"116.4\" cy=\"-78.25\" rx=\"1.8\" ry=\"1.8\"/>\n",
       "</a>\n",
       "</g>\n",
       "</g>\n",
       "<!-- &#45;2 -->\n",
       "<g id=\"node2\" class=\"node\">\n",
       "<title>&#45;2</title>\n",
       "<g id=\"a_node2\"><a xlink:title=\"FourVector(0, 0, 0, 0) mm&#10;status = 1\">\n",
       "<ellipse fill=\"black\" stroke=\"black\" cx=\"347.7\" cy=\"-96.25\" rx=\"1.8\" ry=\"1.8\"/>\n",
       "</a>\n",
       "</g>\n",
       "</g>\n",
       "<!-- &#45;1&#45;&gt;&#45;2 -->\n",
       "<g id=\"edge3\" class=\"edge\">\n",
       "<title>&#45;1&#45;&gt;&#45;2</title>\n",
       "<g id=\"a_edge3\"><a xlink:title=\"PDGID = 2212&#10;FourVector(17, 4.43, 104, 944) GeV&#10;m = 938.3 GeV&#10;status = 21\">\n",
       "<path fill=\"none\" stroke=\"black\" stroke-width=\"3.69\" d=\"M118.42,-78.33C134.32,-79.58 330.46,-94.97 345.76,-96.17\"/>\n",
       "</a>\n",
       "</g>\n",
       "<g id=\"a_edge3&#45;label\"><a xlink:title=\"PDGID = 2212&#10;FourVector(17, 4.43, 104, 944) GeV&#10;m = 938.3 GeV&#10;status = 21\">\n",
       "<text text-anchor=\"middle\" x=\"184.7\" y=\"-91.05\" font-family=\"Times-Roman\" font-size=\"14.00\">p 0.94 GeV</text>\n",
       "</a>\n",
       "</g>\n",
       "</g>\n",
       "<!-- &#45;3 -->\n",
       "<g id=\"node3\" class=\"node\">\n",
       "<title>&#45;3</title>\n",
       "<g id=\"a_node3\"><a xlink:title=\"FourVector(0, 0, 0, 0) mm&#10;status = 2\">\n",
       "<ellipse fill=\"black\" stroke=\"black\" cx=\"538\" cy=\"-77.25\" rx=\"1.8\" ry=\"1.8\"/>\n",
       "</a>\n",
       "</g>\n",
       "</g>\n",
       "<!-- &#45;1&#45;&gt;&#45;3 -->\n",
       "<g id=\"edge2\" class=\"edge\">\n",
       "<title>&#45;1&#45;&gt;&#45;3</title>\n",
       "<g id=\"a_edge2\"><a xlink:title=\"PDGID = 2009900000&#10;FourVector(0, 0, 0, 0) GeV&#10;m = 0 GeV&#10;status = 3\">\n",
       "<path fill=\"none\" stroke=\"black\" stroke-width=\"0.5\" d=\"M118.42,-78.12C121.24,-77.77 129.39,-76.79 136.2,-76.25 187.22,-72.21 200.04,-71.58 251.2,-70.25 336.95,-68.01 358.47,-67.35 444.2,-70.25 477.15,-71.36 485.36,-72.39 518.2,-75.25 525,-75.84 533.16,-76.79 535.98,-77.12\"/>\n",
       "</a>\n",
       "</g>\n",
       "<g id=\"a_edge2&#45;label\"><a xlink:title=\"PDGID = 2009900000&#10;FourVector(0, 0, 0, 0) GeV&#10;m = 0 GeV&#10;status = 3\">\n",
       "<text text-anchor=\"middle\" x=\"347.7\" y=\"-74.05\" font-family=\"Times-Roman\" font-size=\"14.00\">PDGID(2009900000) 0 MeV</text>\n",
       "</a>\n",
       "</g>\n",
       "</g>\n",
       "<!-- &#45;2&#45;&gt;&#45;3 -->\n",
       "<g id=\"edge5\" class=\"edge\">\n",
       "<title>&#45;2&#45;&gt;&#45;3</title>\n",
       "<g id=\"a_edge5\"><a xlink:title=\"PDGID = 2212&#10;FourVector(&#45;49.1, &#45;198, 351, 1.02e+03) GeV&#10;m = 938.3 GeV&#10;status = 3\">\n",
       "<path fill=\"none\" stroke=\"black\" stroke-width=\"4\" d=\"M349.54,-96.16C362.49,-94.86 521.05,-78.86 535.89,-77.36\"/>\n",
       "</a>\n",
       "</g>\n",
       "<g id=\"a_edge5&#45;label\"><a xlink:title=\"PDGID = 2212&#10;FourVector(&#45;49.1, &#45;198, 351, 1.02e+03) GeV&#10;m = 938.3 GeV&#10;status = 3\">\n",
       "<text text-anchor=\"middle\" x=\"490.2\" y=\"-89.05\" font-family=\"Times-Roman\" font-size=\"14.00\">p 1 GeV</text>\n",
       "</a>\n",
       "</g>\n",
       "</g>\n",
       "<!-- out_8 -->\n",
       "<!-- &#45;3&#45;&gt;out_8 -->\n",
       "<g id=\"edge6\" class=\"edge\">\n",
       "<title>&#45;3&#45;&gt;out_8</title>\n",
       "<g id=\"a_edge6\"><a xlink:title=\"PDGID = 2009900000&#10;FourVector(0, 0, 0, 0) GeV&#10;m = 0 GeV&#10;status = 1\">\n",
       "<path fill=\"none\" stroke=\"black\" stroke-width=\"0.5\" d=\"M539.26,-78.63C540.37,-84.02 545.2,-103.8 557.8,-112.25 622.77,-155.81 725.03,-142.39 758.56,-136.42\"/>\n",
       "<polygon fill=\"black\" stroke=\"black\" stroke-width=\"0.5\" points=\"759.6,-139.79 768.74,-134.44 758.26,-132.92 759.6,-139.79\"/>\n",
       "</a>\n",
       "</g>\n",
       "<g id=\"a_edge6&#45;label\"><a xlink:title=\"PDGID = 2009900000&#10;FourVector(0, 0, 0, 0) GeV&#10;m = 0 GeV&#10;status = 1\">\n",
       "<text text-anchor=\"middle\" x=\"654.3\" y=\"-146.05\" font-family=\"Times-Roman\" font-size=\"14.00\">PDGID(2009900000) 0 MeV</text>\n",
       "</a>\n",
       "</g>\n",
       "</g>\n",
       "<!-- out_9 -->\n",
       "<!-- &#45;3&#45;&gt;out_9 -->\n",
       "<g id=\"edge7\" class=\"edge\">\n",
       "<title>&#45;3&#45;&gt;out_9</title>\n",
       "<g id=\"a_edge7\"><a xlink:title=\"PDGID = 13&#10;FourVector(&#45;45.9, 104, 146, 213) GeV&#10;m = 105.7 GeV&#10;status = 1\">\n",
       "<path fill=\"none\" stroke=\"black\" stroke-width=\"0.83\" d=\"M540.03,-77.33C554.36,-78.51 714.37,-91.7 758.43,-95.33\"/>\n",
       "<polygon fill=\"black\" stroke=\"black\" stroke-width=\"0.83\" points=\"758.4,-98.84 768.65,-96.17 758.97,-91.86 758.4,-98.84\"/>\n",
       "</a>\n",
       "</g>\n",
       "<g id=\"a_edge7&#45;label\"><a xlink:title=\"PDGID = 13&#10;FourVector(&#45;45.9, 104, 146, 213) GeV&#10;m = 105.7 GeV&#10;status = 1\">\n",
       "<text text-anchor=\"middle\" x=\"654.3\" y=\"-99.05\" font-family=\"Times-Roman\" font-size=\"14.00\">μ⁻ 0.21 GeV</text>\n",
       "</a>\n",
       "</g>\n",
       "</g>\n",
       "<!-- out_10 -->\n",
       "<!-- &#45;3&#45;&gt;out_10 -->\n",
       "<g id=\"edge8\" class=\"edge\">\n",
       "<title>&#45;3&#45;&gt;out_10</title>\n",
       "<g id=\"a_edge8\"><a xlink:title=\"PDGID = 2212&#10;FourVector(&#45;36.1, &#45;146, 258, 985) GeV&#10;m = 938.3 GeV&#10;status = 1\">\n",
       "<path fill=\"none\" stroke=\"black\" stroke-width=\"3.85\" d=\"M539.59,-76.38C541.65,-73.43 548.95,-63.7 557.8,-60.25 629.95,-32.07 726.76,-48.91 758.8,-55.76\"/>\n",
       "<polygon fill=\"black\" stroke=\"black\" stroke-width=\"3.85\" points=\"758.27,-59.23 768.8,-58.04 759.83,-52.4 758.27,-59.23\"/>\n",
       "</a>\n",
       "</g>\n",
       "<g id=\"a_edge8&#45;label\"><a xlink:title=\"PDGID = 2212&#10;FourVector(&#45;36.1, &#45;146, 258, 985) GeV&#10;m = 938.3 GeV&#10;status = 1\">\n",
       "<text text-anchor=\"middle\" x=\"654.3\" y=\"-64.05\" font-family=\"Times-Roman\" font-size=\"14.00\">p 0.98 GeV</text>\n",
       "</a>\n",
       "</g>\n",
       "</g>\n",
       "<!-- out_11 -->\n",
       "<!-- &#45;3&#45;&gt;out_11 -->\n",
       "<g id=\"edge9\" class=\"edge\">\n",
       "<title>&#45;3&#45;&gt;out_11</title>\n",
       "<g id=\"a_edge9\"><a xlink:title=\"PDGID = 211&#10;FourVector(112, 98.8, 297, 361) GeV&#10;m = 139.6 GeV&#10;status = 1\">\n",
       "<path fill=\"none\" stroke=\"black\" stroke-width=\"1.41\" d=\"M539,-75.63C539.11,-68.38 540.63,-38.58 557.8,-26.25 621.3,19.37 725.36,-6.62 758.85,-16.76\"/>\n",
       "<polygon fill=\"black\" stroke=\"black\" stroke-width=\"1.41\" points=\"758.14,-20.21 768.73,-19.94 760.28,-13.55 758.14,-20.21\"/>\n",
       "</a>\n",
       "</g>\n",
       "<g id=\"a_edge9&#45;label\"><a xlink:title=\"PDGID = 211&#10;FourVector(112, 98.8, 297, 361) GeV&#10;m = 139.6 GeV&#10;status = 1\">\n",
       "<text text-anchor=\"middle\" x=\"654.3\" y=\"-30.05\" font-family=\"Times-Roman\" font-size=\"14.00\">π⁺ 0.36 GeV</text>\n",
       "</a>\n",
       "</g>\n",
       "</g>\n",
       "<!-- in_1 -->\n",
       "<!-- in_1&#45;&gt;&#45;1 -->\n",
       "<g id=\"edge1\" class=\"edge\">\n",
       "<title>in_1&#45;&gt;&#45;1</title>\n",
       "<g id=\"a_edge1\"><a xlink:title=\"PDGID = 1000180400&#10;FourVector(0, 0, 0, 0) GeV&#10;m = 0 GeV&#10;status = 20\">\n",
       "<path fill=\"none\" stroke=\"black\" stroke-width=\"0.5\" d=\"M4.06,-78.25C13.85,-78.25 77.82,-78.25 104.13,-78.25\"/>\n",
       "<polygon fill=\"black\" stroke=\"black\" stroke-width=\"0.5\" points=\"104.29,-81.75 114.29,-78.25 104.29,-74.75 104.29,-81.75\"/>\n",
       "</a>\n",
       "</g>\n",
       "<g id=\"a_edge1&#45;label\"><a xlink:title=\"PDGID = 1000180400&#10;FourVector(0, 0, 0, 0) GeV&#10;m = 0 GeV&#10;status = 20\">\n",
       "<text text-anchor=\"middle\" x=\"59.1\" y=\"-82.05\" font-family=\"Times-Roman\" font-size=\"14.00\">⁴⁰Ar 0 MeV</text>\n",
       "</a>\n",
       "</g>\n",
       "</g>\n",
       "<!-- in_4 -->\n",
       "<!-- in_4&#45;&gt;&#45;2 -->\n",
       "<g id=\"edge4\" class=\"edge\">\n",
       "<title>in_4&#45;&gt;&#45;2</title>\n",
       "<g id=\"a_edge4\"><a xlink:title=\"PDGID = 14&#10;FourVector(0, 0, 690, 690) GeV&#10;m = 0 GeV&#10;status = 4\">\n",
       "<path fill=\"none\" stroke=\"black\" stroke-width=\"2.7\" d=\"M118.42,-132.09C132.7,-129.84 292.47,-104.76 335.88,-97.95\"/>\n",
       "<polygon fill=\"black\" stroke=\"black\" stroke-width=\"2.7\" points=\"336.42,-101.4 345.76,-96.4 335.33,-94.49 336.42,-101.4\"/>\n",
       "</a>\n",
       "</g>\n",
       "<g id=\"a_edge4&#45;label\"><a xlink:title=\"PDGID = 14&#10;FourVector(0, 0, 690, 690) GeV&#10;m = 0 GeV&#10;status = 4\">\n",
       "<text text-anchor=\"middle\" x=\"184.7\" y=\"-132.05\" font-family=\"Times-Roman\" font-size=\"14.00\">ν(μ) 0.69 GeV</text>\n",
       "</a>\n",
       "</g>\n",
       "</g>\n",
       "</g>\n",
       "</svg>\n"
      ],
      "text/plain": [
       "<GenEvent momentum_unit=0, length_unit=1, event_number=0, particles=11, vertices=3, run_info=GenRunInfo(tools=[ToolInfo(name='NuWro', version='UNKNOWN-VERSION', description='https://doi.org/10.1016/j.nuclphysbps.2012.09.136'), ToolInfo(name='nuwro2hepmc3', version='0.9.1', description='github.com/NuHepMC/nuwro2hepmc3')], weight_names=['CV'], attributes={NuHepMC.Conventions: G.C.1 G.C.2 G.C.5 G.C.4 E.C.1, NuHepMC.Exposure.NEvents: 100000, NuHepMC.FluxAveragedTotalCrossSection: 0.00942725837682904, NuHepMC.ParticleStatusIDs: 1 2 3 4 20 21, NuHepMC.ParticleStatusInfo[1].Description: Physical final state particles produced by this simulation, NuHepMC.ParticleStatusInfo[1].Name: UndecayedPhysicalParticle, NuHepMC.ParticleStatusInfo[20].Description: The target particle in the hard scatter, NuHepMC.ParticleStatusInfo[20].Name: TargetParticle, NuHepMC.ParticleStatusInfo[21].Description: The nucleon involved in the hard scatter, NuHepMC.ParticleStatusInfo[21].Name: StruckNucleon, NuHepMC.ParticleStatusInfo[2].Description: Particle was decayed by the simulation, NuHepMC.ParticleStatusInfo[2].Name: DecayedPhysical, NuHepMC.ParticleStatusInfo[3].Description: Documentation line, not considered a real particle, NuHepMC.ParticleStatusInfo[3].Name: DocumentationLine, NuHepMC.ParticleStatusInfo[4].Description: Incoming beam particle, NuHepMC.ParticleStatusInfo[4].Name: IncomingBeamParticle, NuHepMC.ProcessIDs: 100 150 200 201 250 251 300 350 400 450 500 550 600 650 700 750, NuHepMC.ProcessInfo[100].Description: coherent, NuHepMC.ProcessInfo[100].Name: CC coh, NuHepMC.ProcessInfo[150].Description: coherent, NuHepMC.ProcessInfo[150].Name: NC coh, NuHepMC.ProcessInfo[200].Description: (quasi) elastic, NuHepMC.ProcessInfo[200].Name: CC qel, NuHepMC.ProcessInfo[201].Description: hyperon production, NuHepMC.ProcessInfo[201].Name: CC hyp, NuHepMC.ProcessInfo[250].Description: (quasi) elastic, NuHepMC.ProcessInfo[250].Name: NC qel, NuHepMC.ProcessInfo[251].Description: hyperon production, NuHepMC.ProcessInfo[251].Name: NC hyp, NuHepMC.ProcessInfo[300].Description: meson exhange current, NuHepMC.ProcessInfo[300].Name: CC mec, NuHepMC.ProcessInfo[350].Description: meson exhange current, NuHepMC.ProcessInfo[350].Name: NC mec, NuHepMC.ProcessInfo[400].Description: delta resonant, NuHepMC.ProcessInfo[400].Name: CC res, NuHepMC.ProcessInfo[450].Description: delta resonant, NuHepMC.ProcessInfo[450].Name: NC res, NuHepMC.ProcessInfo[500].Description: non-delta single pion, NuHepMC.ProcessInfo[500].Name: CC non-delta SPP, NuHepMC.ProcessInfo[550].Description: non-delta single pion, NuHepMC.ProcessInfo[550].Name: NC non-delta SPP, NuHepMC.ProcessInfo[600].Description: deep inelastic, NuHepMC.ProcessInfo[600].Name: CC dis, NuHepMC.ProcessInfo[650].Description: deep inelastic, NuHepMC.ProcessInfo[650].Name: NC dis, NuHepMC.ProcessInfo[700].Description: neutrino-lepton, NuHepMC.ProcessInfo[700].Name: CC lep, NuHepMC.ProcessInfo[750].Description: neutrino-lepton, NuHepMC.ProcessInfo[750].Name: NC lep, NuHepMC.Provenance.NuWro.MEC_cm_direction:  0, NuHepMC.Provenance.NuWro.MEC_pauli_blocking:  1, NuHepMC.Provenance.NuWro.beam_atmo_files: , NuHepMC.Provenance.NuWro.beam_content: , NuHepMC.Provenance.NuWro.beam_direction:  0 0 1, NuHepMC.Provenance.NuWro.beam_energy:  1000, NuHepMC.Provenance.NuWro.beam_file_first:  1, NuHepMC.Provenance.NuWro.beam_file_limit:  0, NuHepMC.Provenance.NuWro.beam_folder:  flux, NuHepMC.Provenance.NuWro.beam_inputroot:  /opt/nuisance/git_master/data/flux/bin_content_is_rate/BNB_uBooNE_numu_flux_2019.root, NuHepMC.Provenance.NuWro.beam_inputroot_flux:  numu, NuHepMC.Provenance.NuWro.beam_inputroot_nue:  , NuHepMC.Provenance.NuWro.beam_inputroot_nueb:  , NuHepMC.Provenance.NuWro.beam_inputroot_numu:  , NuHepMC.Provenance.NuWro.beam_inputroot_numub:  , NuHepMC.Provenance.NuWro.beam_inputroot_nutau:  , NuHepMC.Provenance.NuWro.beam_inputroot_nutaub:  , NuHepMC.Provenance.NuWro.beam_length_units:  cm, NuHepMC.Provenance.NuWro.beam_offset:  0 0 0, NuHepMC.Provenance.NuWro.beam_particle:  14, NuHepMC.Provenance.NuWro.beam_placement:  0, NuHepMC.Provenance.NuWro.beam_pot_per_file:  -1, NuHepMC.Provenance.NuWro.beam_test_only:  0, NuHepMC.Provenance.NuWro.beam_type:  5, NuHepMC.Provenance.NuWro.beam_weighted:  0, NuHepMC.Provenance.NuWro.bkgrscaling:  0, NuHepMC.Provenance.NuWro.cc_smoothing:  0, NuHepMC.Provenance.NuWro.coh_kind:  2, NuHepMC.Provenance.NuWro.coh_mass_correction:  1, NuHepMC.Provenance.NuWro.coh_new:  1, NuHepMC.Provenance.NuWro.delta_FF_set:  1, NuHepMC.Provenance.NuWro.delta_angular:  2, NuHepMC.Provenance.NuWro.delta_s:  0, NuHepMC.Provenance.NuWro.delta_selfenergy:  0, NuHepMC.Provenance.NuWro.dyn_coh_cc:  1, NuHepMC.Provenance.NuWro.dyn_coh_nc:  1, NuHepMC.Provenance.NuWro.dyn_dis_cc:  1, NuHepMC.Provenance.NuWro.dyn_dis_nc:  1, NuHepMC.Provenance.NuWro.dyn_hyp_cc:  1, NuHepMC.Provenance.NuWro.dyn_lep:  1, NuHepMC.Provenance.NuWro.dyn_mec_cc:  1, NuHepMC.Provenance.NuWro.dyn_mec_nc:  1, NuHepMC.Provenance.NuWro.dyn_qel_cc:  1, NuHepMC.Provenance.NuWro.dyn_qel_el:  0, NuHepMC.Provenance.NuWro.dyn_qel_nc:  1, NuHepMC.Provenance.NuWro.dyn_res_cc:  1, NuHepMC.Provenance.NuWro.dyn_res_el:  0, NuHepMC.Provenance.NuWro.dyn_res_nc:  1, NuHepMC.Provenance.NuWro.e_spp_ff_set:  4, NuHepMC.Provenance.NuWro.eel_alg:  old, NuHepMC.Provenance.NuWro.el_costh_del:  1, NuHepMC.Provenance.NuWro.el_costh_lab:  0.5, NuHepMC.Provenance.NuWro.first_step:  1, NuHepMC.Provenance.NuWro.flux_correction:  0, NuHepMC.Provenance.NuWro.formation_length:  1, NuHepMC.Provenance.NuWro.formation_zone:  fz-new, NuHepMC.Provenance.NuWro.geo_d:  2000 2000 5000, NuHepMC.Provenance.NuWro.geo_file:  target/ND280_v9r7p5.root, NuHepMC.Provenance.NuWro.geo_name:  ND280Geometry_v9r7p5, NuHepMC.Provenance.NuWro.geo_o:  0 0 0, NuHepMC.Provenance.NuWro.geo_volume:  , NuHepMC.Provenance.NuWro.geom_density_convert:  1, NuHepMC.Provenance.NuWro.geom_length_units:  cm, NuHepMC.Provenance.NuWro.hyp_Lambda_Eb:  27, NuHepMC.Provenance.NuWro.hyp_Sigma_Eb:  -70, NuHepMC.Provenance.NuWro.hyp_axial_mass:  1030, NuHepMC.Provenance.NuWro.hyp_effmass:  1, NuHepMC.Provenance.NuWro.hyp_g2_Im_part:  0, NuHepMC.Provenance.NuWro.hyp_g2_Re_part:  0, NuHepMC.Provenance.NuWro.hyp_lambda:  1, NuHepMC.Provenance.NuWro.hyp_sigma_minus:  1, NuHepMC.Provenance.NuWro.hyp_sigma_zero:  1, NuHepMC.Provenance.NuWro.hyp_su3_sym_breaking:  0, NuHepMC.Provenance.NuWro.kaskada_NN_angle:  3, NuHepMC.Provenance.NuWro.kaskada_NN_corr:  1, NuHepMC.Provenance.NuWro.kaskada_NN_inel:  2, NuHepMC.Provenance.NuWro.kaskada_NN_mfp_scale:  1, NuHepMC.Provenance.NuWro.kaskada_NN_xsec:  2, NuHepMC.Provenance.NuWro.kaskada_on:  1, NuHepMC.Provenance.NuWro.kaskada_piN_xsec:  1, NuHepMC.Provenance.NuWro.kaskada_redo:  0, NuHepMC.Provenance.NuWro.kaskada_w:  7, NuHepMC.Provenance.NuWro.kaskada_writeall:  0, NuHepMC.Provenance.NuWro.mec_back_to_back_smearing:  0, NuHepMC.Provenance.NuWro.mec_central_motion:  0, NuHepMC.Provenance.NuWro.mec_kind:  3, NuHepMC.Provenance.NuWro.mec_pb_trials:  30, NuHepMC.Provenance.NuWro.mec_ratio_pp:  0.85, NuHepMC.Provenance.NuWro.mec_ratio_ppp:  0.8, NuHepMC.Provenance.NuWro.mec_scaling:  0, NuHepMC.Provenance.NuWro.mixed_order:  1, NuHepMC.Provenance.NuWro.nucleus_E_b:  34, NuHepMC.Provenance.NuWro.nucleus_kf:  220, NuHepMC.Provenance.NuWro.nucleus_model:  1, NuHepMC.Provenance.NuWro.nucleus_n:  22, NuHepMC.Provenance.NuWro.nucleus_p:  18, NuHepMC.Provenance.NuWro.nucleus_target:  2, NuHepMC.Provenance.NuWro.number_of_events:  100000, NuHepMC.Provenance.NuWro.number_of_test_events:  2000000, NuHepMC.Provenance.NuWro.path_to_data: , NuHepMC.Provenance.NuWro.pauli_blocking:  1, NuHepMC.Provenance.NuWro.pion_C5A:  1.19, NuHepMC.Provenance.NuWro.pion_axial_mass:  0.94, NuHepMC.Provenance.NuWro.qel_axial_ff_set:  1, NuHepMC.Provenance.NuWro.qel_cc_axial_mass:  1030, NuHepMC.Provenance.NuWro.qel_cc_vector_mass:  840, NuHepMC.Provenance.NuWro.qel_kinematics:  0, NuHepMC.Provenance.NuWro.qel_nc_axial_mass:  1030, NuHepMC.Provenance.NuWro.qel_rpa:  1, NuHepMC.Provenance.NuWro.qel_s_axial_mass:  1030, NuHepMC.Provenance.NuWro.qel_strange:  1, NuHepMC.Provenance.NuWro.qel_strangeEM:  0, NuHepMC.Provenance.NuWro.qel_vector_ff_set:  2, NuHepMC.Provenance.NuWro.random_seed:  1537, NuHepMC.Provenance.NuWro.res_dis_cut:  1600, NuHepMC.Provenance.NuWro.save_test_events:  0, NuHepMC.Provenance.NuWro.sf_coulomb:  1, NuHepMC.Provenance.NuWro.sf_fsi:  1, NuHepMC.Provenance.NuWro.sf_method:  0, NuHepMC.Provenance.NuWro.sf_pb:  1, NuHepMC.Provenance.NuWro.spp_precision:  500, NuHepMC.Provenance.NuWro.step:  0.2, NuHepMC.Provenance.NuWro.target_content: , NuHepMC.Provenance.NuWro.target_type:  0, NuHepMC.Provenance.NuWro.tau:  8, NuHepMC.Provenance.NuWro.user_events:  0, NuHepMC.Provenance.NuWro.user_params: , NuHepMC.Units.CrossSection.TargetScale: PerTargetNucleon, NuHepMC.Units.CrossSection.Unit: pb, NuHepMC.Version.Major: 0, NuHepMC.Version.Minor: 9, NuHepMC.Version.Patch: 2, NuHepMC.VertexStatusIDs: 1 2 21, NuHepMC.VertexStatusInfo[1].Description: The neutrino hard-scatter vertex, NuHepMC.VertexStatusInfo[1].Name: PrimaryVertex, NuHepMC.VertexStatusInfo[21].Description: Impulse approximation vertex that represents the separation of the single target nucleon from the target nucleus ground state., NuHepMC.VertexStatusInfo[21].Name: NucleonSeparationVertex, NuHepMC.VertexStatusInfo[2].Description: A single vertex representing the cascade, NuHepMC.VertexStatusInfo[2].Name: FSIVertex})>"
      ]
     },
     "execution_count": 11,
     "metadata": {},
     "output_type": "execute_result"
    }
   ],
   "source": [
    "ev"
   ]
  },
  {
   "cell_type": "markdown",
   "id": "5ccb1313-f38c-49fe-acad-fef5e32975d7",
   "metadata": {},
   "source": [
    "For this tutorial, I will mainly use `pyProSelecta` tooling, but now that you can loop on events and get them in a common format, you are welcome to write analyses however you want. **The main aim of NUISANCE3 is interoperability.**\n",
    "\n",
    "ProSelecta is a framework for writing declarative event selection and projection operators in C++. It provides a minimal set of 'helper' functions to achieve this, they are broken down into three categories:\n",
    "\n",
    "* `event`: Search events for particles by pdg MC codes\n",
    "* `part`: Operates on particles or lists thereof\n",
    "* `vect`: Some additional 3-vector functions supplementing HepMC3::FourVector\n",
    "\n",
    "More details [here](https://github.com/NUISANCEMC/ProSelecta/blob/main/README.md).\n",
    "\n",
    "I'm not going to step through this step-by-step, I'm just going to give an example of how we can convert an event stream into selected and projected tabular data (think 'flat tree') for onward analysis. First a simple example in 'pure' python, and then a more involved example leveraging cling to JIT some C++ for us."
   ]
  },
  {
   "cell_type": "code",
   "execution_count": 12,
   "id": "cd4c1389-1d41-479f-9918-d9ec9ae282f4",
   "metadata": {},
   "outputs": [],
   "source": [
    "import pyProSelecta as pps\n",
    "\n",
    "def sel_cc0pi(ev):\n",
    "    if not pps.event.has_beam_part(ev,14):\n",
    "        return False\n",
    "    beam_numu = pps.event.beam_part(ev,14)\n",
    "    \n",
    "    num_out_part = pps.event.num_out_part(ev)\n",
    "    num_out_nucleons = pps.event.num_out_part(ev, 2212) + pps.event.num_out_part(ev, 2112)\n",
    "    num_out_muon = pps.event.num_out_part(ev, 13)\n",
    "    \n",
    "    if num_out_muon != 1:\n",
    "        return False\n",
    "\n",
    "    return num_out_part == (num_out_nucleons + num_out_muon)\n",
    "        \n",
    "\n",
    "def enu_plep_gev(ev):\n",
    "    vals = [pps.kMissingDatum, pps.kMissingDatum]\n",
    "\n",
    "    if pps.event.has_beam_part(ev,14):\n",
    "        vals[0] = pps.event.beam_part(ev,14).momentum().e() / pps.unit.GeV\n",
    "\n",
    "    if pps.event.has_out_part(ev,13):\n",
    "        vals[1] = pps.event.hm_out_part(ev,13).momentum().p3mod() / pps.unit.GeV\n",
    "\n",
    "    return vals"
   ]
  },
  {
   "cell_type": "markdown",
   "id": "c1986acf-94df-43b1-80c7-0225d57b3436",
   "metadata": {},
   "source": [
    "ProSelecta has a very 'look before you leap' philosophy. The API aims to never return a nullptr and so if you try and fetch a particle without safetly checking that the particle exists, it will throw an exception.\n",
    "\n",
    "Additionally, projection functions that return multiple projections should always return the same number of projections, with invalid entries set to `pps.kMissingDatum`. This enables clean columnar data with clearly-flagged unfilled entries.\n",
    "\n",
    "Lets test these functions on a few events.\n",
    "\n",
    "**N.B.** ProSelecta works with the `pyHepMC3` bindings and not the `pyhepmc` bindings, we will use the `eventinput` that we set up earlier."
   ]
  },
  {
   "cell_type": "code",
   "execution_count": 13,
   "id": "a3ee5cd0-f633-414b-bcad-6abdb7339bf3",
   "metadata": {},
   "outputs": [
    {
     "name": "stdout",
     "output_type": "stream",
     "text": [
      "event 0 with weight 1.0, is CC0Pi? False, with enu = 0.69 GeV, and plep = 0.19 GeV\n",
      "event 1 with weight 1.0, is CC0Pi? False, with enu = 0.40 GeV\n",
      "event 2 with weight 1.0, is CC0Pi? False, with enu = 1.07 GeV, and plep = 0.23 GeV\n",
      "event 3 with weight 1.0, is CC0Pi? False, with enu = 1.25 GeV, and plep = 0.56 GeV\n",
      "event 4 with weight 1.0, is CC0Pi? True, with enu = 0.38 GeV, and plep = 0.17 GeV\n",
      "event 5 with weight 1.0, is CC0Pi? True, with enu = 0.45 GeV, and plep = 0.37 GeV\n"
     ]
    }
   ],
   "source": [
    "for i, (ev, cvw) in enumerate(nuevs):\n",
    "    sel = sel_cc0pi(ev)\n",
    "    vals = enu_plep_gev(ev)\n",
    "    if vals[1] != pps.kMissingDatum:\n",
    "        print(f\"event {i} with weight {cvw}, is CC0Pi? {sel}, with enu = {vals[0]:.2f} GeV, and plep = {vals[1]:.2f} GeV\")\n",
    "    else:\n",
    "        print(f\"event {i} with weight {cvw}, is CC0Pi? {sel}, with enu = {vals[0]:.2f} GeV\")\n",
    "    if i >= 5:\n",
    "        break"
   ]
  },
  {
   "cell_type": "markdown",
   "id": "ee79376d-1edf-4025-99a8-42723723f770",
   "metadata": {},
   "source": [
    "Now to produce a table of all selected events from the input file."
   ]
  },
  {
   "cell_type": "code",
   "execution_count": 14,
   "id": "b95150ee-561e-4851-885b-d631c706f466",
   "metadata": {},
   "outputs": [],
   "source": [
    "ev_frame = pn.EventFrameGen(nuevs) \\\n",
    "                .filter(sel_cc0pi) \\\n",
    "                .add_columns([\"enu\",\"plep\"], enu_plep_gev) \\\n",
    "                .all()"
   ]
  },
  {
   "cell_type": "code",
   "execution_count": 15,
   "id": "554b7eea-7bdd-46b2-b0d8-d180ed89a56d",
   "metadata": {},
   "outputs": [
    {
     "name": "stdout",
     "output_type": "stream",
     "text": [
      " -----------------------------------------------------------------------------------------\n",
      " | event.number | weight.cv | fatx_per_su$ | fatx_per_su$ | process.id |    enu |   plep |\n",
      " -----------------------------------------------------------------------------------------\n",
      " |            4 |         1 |      0.07542 |     0.001885 |        200 | 0.3762 | 0.1714 |\n",
      " |            5 |         1 |      0.06285 |     0.001571 |        200 | 0.4516 | 0.3732 |\n",
      " |            8 |         1 |       0.0419 |     0.001047 |        200 | 0.5129 | 0.4065 |\n",
      " |            9 |         1 |      0.03771 |    0.0009427 |        300 | 0.7989 | 0.1285 |\n",
      " |           11 |         1 |      0.03142 |    0.0007856 |        200 |  1.524 |  1.048 |\n",
      " |           13 |         1 |      0.02694 |    0.0006734 |        400 |  1.738 |  1.272 |\n",
      " |           14 |         1 |      0.02514 |    0.0006285 |        200 |  1.256 |  1.103 |\n",
      " |           15 |         1 |      0.02357 |    0.0005892 |        400 |  1.163 |  0.353 |\n",
      " |           19 |         1 |      0.01885 |    0.0004714 |        300 | 0.5391 | 0.4437 |\n",
      " |           21 |         1 |      0.01714 |    0.0004285 |        300 |  0.784 | 0.3441 |\n",
      " |           22 |         1 |       0.0164 |    0.0004099 |        500 |  1.007 |  0.152 |\n",
      " |           23 |         1 |      0.01571 |    0.0003928 |        200 |  1.084 | 0.8924 |\n",
      " |           25 |         1 |       0.0145 |    0.0003626 |        200 |  1.113 |  0.979 |\n",
      " |           27 |         1 |      0.01347 |    0.0003367 |        300 |  1.387 | 0.9544 |\n",
      " |           31 |         1 |      0.01178 |    0.0002946 |        500 | 0.7777 | 0.4367 |\n",
      " |           34 |         1 |      0.01077 |    0.0002694 |        200 | 0.9129 | 0.5759 |\n",
      " |           35 |         1 |      0.01047 |    0.0002619 |        200 |  1.218 |  1.093 |\n",
      " |           37 |         1 |     0.009923 |    0.0002481 |        200 | 0.5702 | 0.4253 |\n",
      " |           38 |         1 |     0.009669 |    0.0002417 |        200 | 0.8907 | 0.6822 |\n",
      " |           39 |         1 |     0.009427 |    0.0002357 |        300 | 0.9098 | 0.3303 |\n",
      " |           40 |         1 |     0.009197 |    0.0002299 |        200 |  1.912 |   1.41 |\n",
      " |          ... |       ... |          ... |          ... |        ... |    ... |    ... |\n",
      " -----------------------------------------------------------------------------------------\n",
      "Number of selected events: 53513\n"
     ]
    }
   ],
   "source": [
    "print(ev_frame)\n",
    "print(f\"Number of selected events: {ev_frame.num_rows}\")"
   ]
  },
  {
   "cell_type": "markdown",
   "id": "179ee22d-6477-40d3-a4b0-f1d0e39da5ba",
   "metadata": {},
   "source": [
    "These `EventFrame`s are great for working entirely in memory with only homogenous double-type columns. For saving to disk for later processing, or for interacting with other dataframe libraries, we provide a fully featured Apache Arrow interface that allows for typed columns, saving to disk in a variety of formats, and interop with a rich ecosystem of 'data science' tools."
   ]
  },
  {
   "cell_type": "code",
   "execution_count": 16,
   "id": "b0145d64-6154-4a7a-8cb3-34dff68e0836",
   "metadata": {},
   "outputs": [
    {
     "name": "stdout",
     "output_type": "stream",
     "text": [
      "pyarrow.RecordBatch\n",
      "event.number: int64\n",
      "weight.cv: double\n",
      "fatx_per_sumw.pb_per_target.estimate: double\n",
      "fatx_per_sumw.pb_per_nucleon.estimate: double\n",
      "process.id: int64\n",
      "enu: double\n",
      "plep: double\n"
     ]
    }
   ],
   "source": [
    "ev_frame_arrow = pn.EventFrameGen(nuevs) \\\n",
    "                        .filter(sel_cc0pi) \\\n",
    "                        .add_double_columns([\"enu\",\"plep\"], enu_plep_gev) \\\n",
    "                        .firstArrow(100000)\n",
    "print(ev_frame_arrow)"
   ]
  },
  {
   "cell_type": "markdown",
   "id": "64c41af4-515c-4e28-a76c-84205808d1fc",
   "metadata": {},
   "source": [
    "`pyarrow` has first class support for conversion to a `pandas` dataframe, and `pandas` v2 and later uses Arrow as the backing storage for it's dataframe implementation, so the below conversion is 'free'."
   ]
  },
  {
   "cell_type": "code",
   "execution_count": 17,
   "id": "dcd78712-b39c-467e-8a2e-49d456254b17",
   "metadata": {},
   "outputs": [
    {
     "data": {
      "text/html": [
       "<div>\n",
       "<style scoped>\n",
       "    .dataframe tbody tr th:only-of-type {\n",
       "        vertical-align: middle;\n",
       "    }\n",
       "\n",
       "    .dataframe tbody tr th {\n",
       "        vertical-align: top;\n",
       "    }\n",
       "\n",
       "    .dataframe thead th {\n",
       "        text-align: right;\n",
       "    }\n",
       "</style>\n",
       "<table border=\"1\" class=\"dataframe\">\n",
       "  <thead>\n",
       "    <tr style=\"text-align: right;\">\n",
       "      <th></th>\n",
       "      <th>event.number</th>\n",
       "      <th>weight.cv</th>\n",
       "      <th>fatx_per_sumw.pb_per_target.estimate</th>\n",
       "      <th>fatx_per_sumw.pb_per_nucleon.estimate</th>\n",
       "      <th>process.id</th>\n",
       "      <th>enu</th>\n",
       "      <th>plep</th>\n",
       "    </tr>\n",
       "  </thead>\n",
       "  <tbody>\n",
       "    <tr>\n",
       "      <th>0</th>\n",
       "      <td>4</td>\n",
       "      <td>1.0</td>\n",
       "      <td>0.075418</td>\n",
       "      <td>1.885452e-03</td>\n",
       "      <td>200</td>\n",
       "      <td>0.376179</td>\n",
       "      <td>0.171353</td>\n",
       "    </tr>\n",
       "    <tr>\n",
       "      <th>1</th>\n",
       "      <td>5</td>\n",
       "      <td>1.0</td>\n",
       "      <td>0.062848</td>\n",
       "      <td>1.571210e-03</td>\n",
       "      <td>200</td>\n",
       "      <td>0.451588</td>\n",
       "      <td>0.373230</td>\n",
       "    </tr>\n",
       "    <tr>\n",
       "      <th>2</th>\n",
       "      <td>8</td>\n",
       "      <td>1.0</td>\n",
       "      <td>0.041899</td>\n",
       "      <td>1.047473e-03</td>\n",
       "      <td>200</td>\n",
       "      <td>0.512935</td>\n",
       "      <td>0.406533</td>\n",
       "    </tr>\n",
       "    <tr>\n",
       "      <th>3</th>\n",
       "      <td>9</td>\n",
       "      <td>1.0</td>\n",
       "      <td>0.037709</td>\n",
       "      <td>9.427258e-04</td>\n",
       "      <td>300</td>\n",
       "      <td>0.798897</td>\n",
       "      <td>0.128503</td>\n",
       "    </tr>\n",
       "    <tr>\n",
       "      <th>4</th>\n",
       "      <td>11</td>\n",
       "      <td>1.0</td>\n",
       "      <td>0.031424</td>\n",
       "      <td>7.856049e-04</td>\n",
       "      <td>200</td>\n",
       "      <td>1.524072</td>\n",
       "      <td>1.047642</td>\n",
       "    </tr>\n",
       "    <tr>\n",
       "      <th>...</th>\n",
       "      <td>...</td>\n",
       "      <td>...</td>\n",
       "      <td>...</td>\n",
       "      <td>...</td>\n",
       "      <td>...</td>\n",
       "      <td>...</td>\n",
       "      <td>...</td>\n",
       "    </tr>\n",
       "    <tr>\n",
       "      <th>53508</th>\n",
       "      <td>99992</td>\n",
       "      <td>1.0</td>\n",
       "      <td>0.000004</td>\n",
       "      <td>9.427918e-08</td>\n",
       "      <td>200</td>\n",
       "      <td>1.378313</td>\n",
       "      <td>1.254548</td>\n",
       "    </tr>\n",
       "    <tr>\n",
       "      <th>53509</th>\n",
       "      <td>99993</td>\n",
       "      <td>1.0</td>\n",
       "      <td>0.000004</td>\n",
       "      <td>9.427824e-08</td>\n",
       "      <td>200</td>\n",
       "      <td>0.807081</td>\n",
       "      <td>0.644738</td>\n",
       "    </tr>\n",
       "    <tr>\n",
       "      <th>53510</th>\n",
       "      <td>99994</td>\n",
       "      <td>1.0</td>\n",
       "      <td>0.000004</td>\n",
       "      <td>9.427730e-08</td>\n",
       "      <td>200</td>\n",
       "      <td>1.165197</td>\n",
       "      <td>0.961034</td>\n",
       "    </tr>\n",
       "    <tr>\n",
       "      <th>53511</th>\n",
       "      <td>99996</td>\n",
       "      <td>1.0</td>\n",
       "      <td>0.000004</td>\n",
       "      <td>9.427541e-08</td>\n",
       "      <td>300</td>\n",
       "      <td>0.986174</td>\n",
       "      <td>0.530660</td>\n",
       "    </tr>\n",
       "    <tr>\n",
       "      <th>53512</th>\n",
       "      <td>99998</td>\n",
       "      <td>1.0</td>\n",
       "      <td>0.000004</td>\n",
       "      <td>9.427258e-08</td>\n",
       "      <td>200</td>\n",
       "      <td>0.535619</td>\n",
       "      <td>0.232071</td>\n",
       "    </tr>\n",
       "  </tbody>\n",
       "</table>\n",
       "<p>53513 rows × 7 columns</p>\n",
       "</div>"
      ],
      "text/plain": [
       "       event.number  weight.cv  fatx_per_sumw.pb_per_target.estimate  \\\n",
       "0                 4        1.0                              0.075418   \n",
       "1                 5        1.0                              0.062848   \n",
       "2                 8        1.0                              0.041899   \n",
       "3                 9        1.0                              0.037709   \n",
       "4                11        1.0                              0.031424   \n",
       "...             ...        ...                                   ...   \n",
       "53508         99992        1.0                              0.000004   \n",
       "53509         99993        1.0                              0.000004   \n",
       "53510         99994        1.0                              0.000004   \n",
       "53511         99996        1.0                              0.000004   \n",
       "53512         99998        1.0                              0.000004   \n",
       "\n",
       "       fatx_per_sumw.pb_per_nucleon.estimate  process.id       enu      plep  \n",
       "0                               1.885452e-03         200  0.376179  0.171353  \n",
       "1                               1.571210e-03         200  0.451588  0.373230  \n",
       "2                               1.047473e-03         200  0.512935  0.406533  \n",
       "3                               9.427258e-04         300  0.798897  0.128503  \n",
       "4                               7.856049e-04         200  1.524072  1.047642  \n",
       "...                                      ...         ...       ...       ...  \n",
       "53508                           9.427918e-08         200  1.378313  1.254548  \n",
       "53509                           9.427824e-08         200  0.807081  0.644738  \n",
       "53510                           9.427730e-08         200  1.165197  0.961034  \n",
       "53511                           9.427541e-08         300  0.986174  0.530660  \n",
       "53512                           9.427258e-08         200  0.535619  0.232071  \n",
       "\n",
       "[53513 rows x 7 columns]"
      ]
     },
     "execution_count": 17,
     "metadata": {},
     "output_type": "execute_result"
    }
   ],
   "source": [
    "df = ev_frame_arrow.to_pandas()\n",
    "df"
   ]
  },
  {
   "cell_type": "code",
   "execution_count": 18,
   "id": "d1ff9179-3efc-4722-bc46-29cd97457101",
   "metadata": {},
   "outputs": [
    {
     "data": {
      "text/plain": [
       "10       0.151974\n",
       "11       0.892445\n",
       "15       0.575909\n",
       "19       0.330313\n",
       "21       0.461838\n",
       "           ...   \n",
       "53490    0.895883\n",
       "53493    0.643593\n",
       "53495    0.520700\n",
       "53498    0.362779\n",
       "53511    0.530660\n",
       "Name: plep, Length: 9881, dtype: float64"
      ]
     },
     "execution_count": 18,
     "metadata": {},
     "output_type": "execute_result"
    }
   ],
   "source": [
    "df_slice = df[(df[\"enu\"] > 0.9) & (df[\"enu\"] < 1.1)]\n",
    "df_slice[\"plep\"]"
   ]
  },
  {
   "cell_type": "markdown",
   "id": "310ecdbc-0f59-4d69-99ab-5e1d036b5bb0",
   "metadata": {},
   "source": [
    " We can also use pandas to save the dataframe to disk and reload it for later use. The Apache parquet format offers a good compromise of speed and compression, the arrow-native feather format can also be used, which enables memory-mapped IO."
   ]
  },
  {
   "cell_type": "code",
   "execution_count": 19,
   "id": "f377c233-a04f-471b-8016-74b835d1bf43",
   "metadata": {},
   "outputs": [],
   "source": [
    "import pandas as pd\n",
    "import pyarrow as pa\n",
    "\n",
    "df_slice.to_parquet(\"NuWro.numu.BNB_uBooNE.CC0Pi.Flat.pq.sn\")\n",
    "df2 = pd.read_parquet(\"NuWro.numu.BNB_uBooNE.CC0Pi.Flat.pq.sn\")\n",
    "loaded_ev_frame_arrow = pa.Table.from_pandas(df2)"
   ]
  },
  {
   "cell_type": "markdown",
   "id": "d7f3182a-f3d3-4990-8973-68a21bb78df6",
   "metadata": {},
   "source": [
    "As Apache Arrow has become the *de facto* interop format for data science tools, we can use other data science libraries as well, like polars!"
   ]
  },
  {
   "cell_type": "code",
   "execution_count": 20,
   "id": "1a0fe850-2d34-441e-b371-1cd1f6c5d2b6",
   "metadata": {},
   "outputs": [
    {
     "data": {
      "text/html": [
       "<div><style>\n",
       ".dataframe > thead > tr,\n",
       ".dataframe > tbody > tr {\n",
       "  text-align: right;\n",
       "  white-space: pre-wrap;\n",
       "}\n",
       "</style>\n",
       "<small>shape: (9_881, 8)</small><table border=\"1\" class=\"dataframe\"><thead><tr><th>event.number</th><th>weight.cv</th><th>fatx_per_sumw.pb_per_target.estimate</th><th>fatx_per_sumw.pb_per_nucleon.estimate</th><th>process.id</th><th>enu</th><th>plep</th><th>__index_level_0__</th></tr><tr><td>i64</td><td>f64</td><td>f64</td><td>f64</td><td>i64</td><td>f64</td><td>f64</td><td>i64</td></tr></thead><tbody><tr><td>22</td><td>1.0</td><td>0.016395</td><td>0.00041</td><td>500</td><td>1.006763</td><td>0.151974</td><td>10</td></tr><tr><td>23</td><td>1.0</td><td>0.015712</td><td>0.000393</td><td>200</td><td>1.083625</td><td>0.892445</td><td>11</td></tr><tr><td>34</td><td>1.0</td><td>0.010774</td><td>0.000269</td><td>200</td><td>0.912881</td><td>0.575909</td><td>15</td></tr><tr><td>39</td><td>1.0</td><td>0.009427</td><td>0.000236</td><td>300</td><td>0.90976</td><td>0.330313</td><td>19</td></tr><tr><td>41</td><td>1.0</td><td>0.008978</td><td>0.000224</td><td>200</td><td>0.995198</td><td>0.461838</td><td>21</td></tr><tr><td>&hellip;</td><td>&hellip;</td><td>&hellip;</td><td>&hellip;</td><td>&hellip;</td><td>&hellip;</td><td>&hellip;</td><td>&hellip;</td></tr><tr><td>99959</td><td>1.0</td><td>0.000004</td><td>9.4310e-8</td><td>200</td><td>1.001494</td><td>0.895883</td><td>53490</td></tr><tr><td>99967</td><td>1.0</td><td>0.000004</td><td>9.4303e-8</td><td>200</td><td>0.951765</td><td>0.643593</td><td>53493</td></tr><tr><td>99970</td><td>1.0</td><td>0.000004</td><td>9.4300e-8</td><td>200</td><td>1.089699</td><td>0.5207</td><td>53495</td></tr><tr><td>99976</td><td>1.0</td><td>0.000004</td><td>9.4294e-8</td><td>400</td><td>1.011633</td><td>0.362779</td><td>53498</td></tr><tr><td>99996</td><td>1.0</td><td>0.000004</td><td>9.4275e-8</td><td>300</td><td>0.986174</td><td>0.53066</td><td>53511</td></tr></tbody></table></div>"
      ],
      "text/plain": [
       "shape: (9_881, 8)\n",
       "┌────────────┬───────────┬────────────┬────────────┬────────────┬──────────┬──────────┬────────────┐\n",
       "│ event.numb ┆ weight.cv ┆ fatx_per_s ┆ fatx_per_s ┆ process.id ┆ enu      ┆ plep     ┆ __index_le │\n",
       "│ er         ┆ ---       ┆ umw.pb_per ┆ umw.pb_per ┆ ---        ┆ ---      ┆ ---      ┆ vel_0__    │\n",
       "│ ---        ┆ f64       ┆ _target.es ┆ _nucleon.e ┆ i64        ┆ f64      ┆ f64      ┆ ---        │\n",
       "│ i64        ┆           ┆ …          ┆ …          ┆            ┆          ┆          ┆ i64        │\n",
       "│            ┆           ┆ ---        ┆ ---        ┆            ┆          ┆          ┆            │\n",
       "│            ┆           ┆ f64        ┆ f64        ┆            ┆          ┆          ┆            │\n",
       "╞════════════╪═══════════╪════════════╪════════════╪════════════╪══════════╪══════════╪════════════╡\n",
       "│ 22         ┆ 1.0       ┆ 0.016395   ┆ 0.00041    ┆ 500        ┆ 1.006763 ┆ 0.151974 ┆ 10         │\n",
       "│ 23         ┆ 1.0       ┆ 0.015712   ┆ 0.000393   ┆ 200        ┆ 1.083625 ┆ 0.892445 ┆ 11         │\n",
       "│ 34         ┆ 1.0       ┆ 0.010774   ┆ 0.000269   ┆ 200        ┆ 0.912881 ┆ 0.575909 ┆ 15         │\n",
       "│ 39         ┆ 1.0       ┆ 0.009427   ┆ 0.000236   ┆ 300        ┆ 0.90976  ┆ 0.330313 ┆ 19         │\n",
       "│ 41         ┆ 1.0       ┆ 0.008978   ┆ 0.000224   ┆ 200        ┆ 0.995198 ┆ 0.461838 ┆ 21         │\n",
       "│ …          ┆ …         ┆ …          ┆ …          ┆ …          ┆ …        ┆ …        ┆ …          │\n",
       "│ 99959      ┆ 1.0       ┆ 0.000004   ┆ 9.4310e-8  ┆ 200        ┆ 1.001494 ┆ 0.895883 ┆ 53490      │\n",
       "│ 99967      ┆ 1.0       ┆ 0.000004   ┆ 9.4303e-8  ┆ 200        ┆ 0.951765 ┆ 0.643593 ┆ 53493      │\n",
       "│ 99970      ┆ 1.0       ┆ 0.000004   ┆ 9.4300e-8  ┆ 200        ┆ 1.089699 ┆ 0.5207   ┆ 53495      │\n",
       "│ 99976      ┆ 1.0       ┆ 0.000004   ┆ 9.4294e-8  ┆ 400        ┆ 1.011633 ┆ 0.362779 ┆ 53498      │\n",
       "│ 99996      ┆ 1.0       ┆ 0.000004   ┆ 9.4275e-8  ┆ 300        ┆ 0.986174 ┆ 0.53066  ┆ 53511      │\n",
       "└────────────┴───────────┴────────────┴────────────┴────────────┴──────────┴──────────┴────────────┘"
      ]
     },
     "execution_count": 20,
     "metadata": {},
     "output_type": "execute_result"
    }
   ],
   "source": [
    "import polars as pl\n",
    "pl.from_arrow(loaded_ev_frame_arrow)"
   ]
  },
  {
   "cell_type": "markdown",
   "id": "8980d734-0084-471c-bc54-ae6b2838e8d3",
   "metadata": {},
   "source": [
    "## Histograms\n",
    "\n",
    "Now we can histogram the event data up and take a look!\n",
    "\n",
    "There are a number of binning primitives, here we will use the `lin_space` and `lin_spaceND` functions to construct the binning, these take blocks of `[low_edge, up_edge, num_bins]` to define a uniform binning; similar to the numpy `linspace` function.\n",
    "\n",
    "You are absolutely free to loop over the events in python and fill the histogram objects directly like you might with a `TH1`, but the looping in python is significantly slower and there are overheads associated with the python wrappers that make tight loop calls to NUISANCE3 C++ types inefficient.\n",
    "\n",
    "You are also free to use your favorite histogramming library, NUISANCE3 provides the HistFrame type for use in its data comparisons code, but if you're familiar with another library and are doing a generator study, feel free, `hist` from Scikit-Hep is pretty good!\n",
    "\n",
    "The python interface to the NUISANCE3 histogram objects comes with a `matplotlib` interface, accessed by `HistFrame.mpl()` as below, this makes quickly plotting histograms simple, especially for non-uniform 2D histograms which are quite fiddly to do correctly in bare `matplotlib`. The helper functions broadly mirror the `matplotlib` plotting primitives that they use and pass through most kwargs and so, with some exceptions, should function very similarly to using `plot`, `hist`, `line`, `errorbar` directly."
   ]
  },
  {
   "cell_type": "code",
   "execution_count": 21,
   "id": "5bd22987-bd3a-439b-9dc6-e5c9e09582a7",
   "metadata": {},
   "outputs": [
    {
     "data": {
      "image/png": "[encoded data removed]",
      "text/plain": [
       "<Figure size 640x480 with 1 Axes>"
      ]
     },
     "metadata": {},
     "output_type": "display_data"
    }
   ],
   "source": [
    "binning = pn.Binning.lin_space(0.2, 2, 50, r\"$E_\\nu$ [GeV]\")\n",
    "hist = pn.HistFrame(binning)\n",
    "\n",
    "for ev,cvw in nuevs:\n",
    "    if sel_cc0pi(ev):\n",
    "        hist.fill(enu_plep_gev(ev), cvw)\n",
    "\n",
    "hist.mpl().hist(histtype=\"step\", color=\"#F002\")\n",
    "plt.show()"
   ]
  },
  {
   "cell_type": "markdown",
   "id": "bc4b2753-ebdc-4fb4-8442-1975e58824a6",
   "metadata": {},
   "source": [
    "For the rest of this demo, we will use the `EventFrame` type for simplicity as we don't need any dataframe functionality or to save things to disk. The `fill` function below can be thought of similarly to `TTree::Draw` in the sense that they execute the histogram filling loop for you, this allows the C++ backend to fill the histogram very quickly.\n",
    "\n",
    "To show off some more features, we'll also go to 2D."
   ]
  },
  {
   "cell_type": "code",
   "execution_count": 22,
   "id": "8533cebf-8ece-4d1e-b197-63636bfc8025",
   "metadata": {},
   "outputs": [
    {
     "data": {
      "image/png": "[encoded data removed]",
      "text/plain": [
       "<Figure size 640x480 with 1 Axes>"
      ]
     },
     "metadata": {},
     "output_type": "display_data"
    }
   ],
   "source": [
    "hist = pn.HistFrame(pn.Binning.lin_spaceND([[0.2,2,50],[0.2,2,50]],[r\"$E_\\nu$ [GeV]\",r\"$p_\\ell$ [GeV/c]\"]))\n",
    "hist.fill(ev_frame, [\"enu\", \"plep\"], [pn.HistFrame.fill_column(0), ])\n",
    "hist.mpl().hist2d()\n",
    "plt.show()"
   ]
  },
  {
   "cell_type": "markdown",
   "id": "0d092b8a-d5a2-496b-88ee-85b80226adcb",
   "metadata": {},
   "source": [
    "We can break up the histogram by interaction mode with a variation of the filling helper, `fill_procid_columns_from_EventFrame` which adds a 'column' to the `HistFrame` for every interaction channel encountered. \n",
    "\n",
    "You can think of `HistFrame` columns a bit like 'stacks' in a ROOT histogram, but there are no constraints at all on what the data in each column represents, just that each column represents a set of data assigned to every row in the `HistFrame`, where each row corresponds to a single bin. This structure has many uses, a common use beyond keeping track of sub-samples of a total is to represent systematically varied versions of the histogram, either randomly sampled 'universes' or specific variations used to build histfactory-like response functions (or *bin splines* in some experimental neutrino analyser parlance). We will see an example of this later."
   ]
  },
  {
   "cell_type": "code",
   "execution_count": 23,
   "id": "1f47f583-961e-4081-a5de-5316149521c8",
   "metadata": {},
   "outputs": [
    {
     "name": "stdout",
     "output_type": "stream",
     "text": [
      "0: Column: name=total\n",
      "1: Column: name=ProcId:200\n",
      "2: Column: name=ProcId:300\n",
      "3: Column: name=ProcId:400\n",
      "4: Column: name=ProcId:500\n",
      "5: Column: name=ProcId:600\n"
     ]
    }
   ],
   "source": [
    "hist = pn.HistFrame(pn.Binning.lin_spaceND([[0.2,2,50],[0.2,2,50]],[r\"$E_\\nu$ [GeV]\",r\"$p_\\ell$ [GeV/c]\"]), \"total\")\n",
    "hist.fill(ev_frame, [\"enu\", \"plep\"], [pn.HistFrame.fill_column(\"total\"), pn.HistFrame.split_by_ProcID()])\n",
    "print(\"\\n\".join([ f\"{i}: {x}\" for i,x in enumerate(hist.column_info) ] ))"
   ]
  },
  {
   "cell_type": "markdown",
   "id": "ff894033-3964-4ca4-b3e9-4f2e2e292107",
   "metadata": {},
   "source": [
    "The interaction process ids are neccessarily generator-specific, but [NuHepMC](https://arxiv.org/pdf/2310.13211#page=11) provides a convention for common blocks of identifiers in E.C.1, *e.g.* 200 is CCQE. It is a requirement of NuHepMC that the process ids are documented in the file itself. We can check back to the GenRunInfo metadata to determine what the different identifers mean.\n",
    "\n",
    "The `matplotlib` helpers we used on the `HistFrame` before take args to to plot specific columns or to draw to specific axes, by default they plot the first column to the `plt.get_gca()` axis."
   ]
  },
  {
   "cell_type": "code",
   "execution_count": 24,
   "id": "7bd1b82e-3fec-4760-8749-44fc3fd5c1e5",
   "metadata": {},
   "outputs": [
    {
     "data": {
      "image/png": "[encoded data removed]",
      "text/plain": [
       "<Figure size 800x800 with 4 Axes>"
      ]
     },
     "metadata": {},
     "output_type": "display_data"
    }
   ],
   "source": [
    "fig, ((ax1,ax2),(ax3,ax4)) = plt.subplots(2,2, figsize=(8,8))\n",
    "\n",
    "hist.mpl().hist2d(column=\"total\", plot_axis=ax1)\n",
    "ax1.text(1, 1.5, \"Total\", c=\"white\", fontsize=\"xx-large\")\n",
    "hist.mpl().hist2d(column=\"ProcId:200\", plot_axis=ax2)\n",
    "ax2.text(1, 1.5, \"CCQE\", c=\"white\", fontsize=\"xx-large\")\n",
    "hist.mpl().hist2d(column=\"ProcId:300\", plot_axis=ax3)\n",
    "ax3.text(1, 1.5, \"MEC\", c=\"white\", fontsize=\"xx-large\")\n",
    "hist.mpl().hist2d(column=\"ProcId:400\", plot_axis=ax4)\n",
    "ax4.text(1, 1.5, \"SPP\", c=\"white\", fontsize=\"xx-large\")\n",
    "fig.show()"
   ]
  },
  {
   "cell_type": "markdown",
   "id": "44ccb58d-46c6-43b1-bf43-8208e1c255e9",
   "metadata": {},
   "source": [
    "The NUISANCE3 Histogramming utility also provide slice and projection facilities for working with N-dimensional histograms."
   ]
  },
  {
   "cell_type": "code",
   "execution_count": 25,
   "id": "243241a7-d3e6-4836-b655-3e98db258687",
   "metadata": {},
   "outputs": [
    {
     "data": {
      "image/png": "[encoded data removed]",
      "text/plain": [
       "<Figure size 800x400 with 2 Axes>"
      ]
     },
     "metadata": {},
     "output_type": "display_data"
    }
   ],
   "source": [
    "hist_enu = hist.project(0)\n",
    "hist_pl = hist.project(1)\n",
    "\n",
    "fig, (ax1,ax2) = plt.subplots(1,2, figsize=(8,4))\n",
    "hist_enu.mpl().hist_all(plot_axis=ax1, histtype=\"step\", labels=[\"Total\",\"QE\",\"MEC\",\"1Pi\",\"SIS\",\"DIS\"])\n",
    "hist_pl.mpl().hist_all(plot_axis=ax2, histtype=\"step\")\n",
    "ax1.legend()\n",
    "fig.show()"
   ]
  },
  {
   "cell_type": "code",
   "execution_count": 26,
   "id": "557fe6da-c544-40ca-b52e-4bbec521aa6c",
   "metadata": {},
   "outputs": [
    {
     "data": {
      "image/png": "[encoded data removed]",
      "text/plain": [
       "<Figure size 800x400 with 2 Axes>"
      ]
     },
     "metadata": {},
     "output_type": "display_data"
    }
   ],
   "source": [
    "fig, (ax1,ax2) = plt.subplots(1,2, figsize=(8,4))\n",
    "\n",
    "#slice a range along the first axis, result is 2D\n",
    "hist.slice(0, [0.5,1.5]).mpl().hist2d(plot_axis=ax1)\n",
    "#slice at the bin containing a single value along the first axis, result is 1D\n",
    "hist.slice(0, 1).mpl().hist_all(plot_axis=ax2, histtype=\"step\", labels=[\"Total\",\"QE\",\"MEC\",\"1Pi\",\"SIS\",\"DIS\"])\n",
    "ax2.legend()\n",
    "plt.show()"
   ]
  },
  {
   "cell_type": "markdown",
   "id": "b7e91981-3314-46ae-a52f-061e9dd6a892",
   "metadata": {},
   "source": [
    "## A Data Comparison\n",
    "\n",
    "NUISANCE3 will interface dynamically to HepData for automated data comparisons. At the time of writing the 350+ samples in NUISANCE2 have not been migrated to HepData, so we provide a NUISANCE2 interface, which lets you use some of the measurements from NUISANCE2 in NUISANCE3.\n",
    "\n",
    "We have not yet discussed scaling an event rate to a cross section. The ability to do this seemlessly in a generator-agnostic way is a core goal of NuHepMC, as a result it is fairly easy to do in NUISANCE. Both `eventinput` instances and `EventFrames` carefully track the sum of weights squared and the reported flux-averaged total cross section. The scale factor to take a weighted-filled histogram to a cross section prediction is simply to scale by the ratio of the two.\n",
    "\n",
    "Another detail that I will not dwell on much are that there are two types of binned objects, a `HistFrame` and a `BinnedValues`. A `HistFrame` can be filled and tracks the sum of fill weights and the sum of fill weights squared for each bin. A `BinnedValues` is static and has a value and an error associated with each bin. A `HistFrame` can be `finalise`d to a `BinnedValues` and a `BinnedValues` can spawn an empty `HistFrame` ready for filling.\n",
    "\n",
    "Here, instead of producing a table of *only* selected events, we will add the result of applying the selection as another column, this highlights the power of this approach to broadcast multiple selections and projections over a single input file and perform MC studies on a single dataframe-like object."
   ]
  },
  {
   "cell_type": "code",
   "execution_count": 27,
   "id": "38618543-34a9-4612-b1fd-d01fcb3c26b9",
   "metadata": {},
   "outputs": [
    {
     "name": "stdout",
     "output_type": "stream",
     "text": [
      "StatUtils.cxx::GetInvert[l. 1006] : \u001b[35m[LOG Sample]:-- \u001b[0m : Measurement1D.cxx::FinaliseMeasurement[l. 562] : Finalising Measurement: MicroBooNE_CC1MuNp_XSec_1DPmu_nu\n",
      "StatUtils.cxx::SetDataErrorFromCov[l. 1244] : StatUtils.cxx::SetDataErrorFromCov[l. 1248] : StatUtils.cxx::SetDataErrorFromCov[l. 1249] : StatUtils.cxx::SetDataErrorFromCov[l. 1244] : StatUtils.cxx::SetDataErrorFromCov[l. 1248] : StatUtils.cxx::SetDataErrorFromCov[l. 1249] : StatUtils.cxx::SetDataErrorFromCov[l. 1244] : StatUtils.cxx::SetDataErrorFromCov[l. 1248] : StatUtils.cxx::SetDataErrorFromCov[l. 1249] : StatUtils.cxx::SetDataErrorFromCov[l. 1244] : StatUtils.cxx::SetDataErrorFromCov[l. 1248] : StatUtils.cxx::SetDataErrorFromCov[l. 1249] : StatUtils.cxx::SetDataErrorFromCov[l. 1244] : StatUtils.cxx::SetDataErrorFromCov[l. 1248] : StatUtils.cxx::SetDataErrorFromCov[l. 1249] : StatUtils.cxx::SetDataErrorFromCov[l. 1244] : StatUtils.cxx::SetDataErrorFromCov[l. 1248] : StatUtils.cxx::SetDataErrorFromCov[l. 1249] : [Record:critical]: NUISANCE2Record::analysis(MicroBooNE_CC1MuNp_XSec_1DPmu_nu)\n",
      "\u001b[1m\u001b[32m[LOG Fitter]: \u001b[0m : SampleList.cxx::LoadPlugins[l. 449] : Searching for dynamic sample manifests in: /root/software/numc_dockerfiles/alma9/nuisance3_git_master/notebooks/\n",
      "\u001b[1m\u001b[32m[LOG Fitter]: \u001b[0m : SampleList.cxx::DynamicSampleFactory[l. 405] : Loaded 0 from 0 shared object libraries.\n",
      "\u001b[35m[LOG Sample]:-- \u001b[0m : Measurement1D.cxx::FinaliseSampleSettings[l. 151] : Finalising Sample Settings: MicroBooNE_CC1MuNp_XSec_1DPmu_nu\n",
      "\u001b[35m[LOG Sample]:-- \u001b[0m : Measurement1D.cxx::SetDataFromRootFile[l. 213] : Reading data from root file: /root/software/NUISANCEMC/nuisance/build/Linux/data//MicroBooNE/CC1MuNp/CCNp_data_MC_cov_dataRelease.root;DataXsec_mumom\n",
      "\u001b[35m[LOG Sample]:-- \u001b[0m : Measurement1D.cxx::SetCovarFromRootFile[l. 302] : Reading covariance from root file: /root/software/NUISANCEMC/nuisance/build/Linux/data//MicroBooNE/CC1MuNp/CCNp_data_MC_cov_dataRelease.root;CovarianceMatrix_mumom\n"
     ]
    },
    {
     "name": "stderr",
     "output_type": "stream",
     "text": [
      "\u001b[31m[ERR WARN  ]: \u001b[0mAllowing SVD inverse if matrices are singular, use with extreme caution!\n",
      "\u001b[31m[ERR WARN  ]: \u001b[0mData error does not match covariance error for bin 1 (0.1-0.18)\n",
      "\u001b[31m[ERR WARN  ]: \u001b[0mData error: 5.2855e-38\n",
      "\u001b[31m[ERR WARN  ]: \u001b[0mCov error:  1.32137e-39\n",
      "\u001b[31m[ERR WARN  ]: \u001b[0mData error does not match covariance error for bin 2 (0.18-0.3)\n",
      "\u001b[31m[ERR WARN  ]: \u001b[0mData error: 4.83024e-38\n",
      "\u001b[31m[ERR WARN  ]: \u001b[0mCov error:  1.20756e-39\n",
      "\u001b[31m[ERR WARN  ]: \u001b[0mData error does not match covariance error for bin 3 (0.3-0.48)\n",
      "\u001b[31m[ERR WARN  ]: \u001b[0mData error: 6.60283e-38\n",
      "\u001b[31m[ERR WARN  ]: \u001b[0mCov error:  1.65071e-39\n",
      "\u001b[31m[ERR WARN  ]: \u001b[0mData error does not match covariance error for bin 4 (0.48-0.75)\n",
      "\u001b[31m[ERR WARN  ]: \u001b[0mData error: 4.63694e-38\n",
      "\u001b[31m[ERR WARN  ]: \u001b[0mCov error:  1.15923e-39\n",
      "\u001b[31m[ERR WARN  ]: \u001b[0mData error does not match covariance error for bin 5 (0.75-1.14)\n",
      "\u001b[31m[ERR WARN  ]: \u001b[0mData error: 1.65438e-38\n",
      "\u001b[31m[ERR WARN  ]: \u001b[0mCov error:  4.13596e-40\n",
      "\u001b[31m[ERR WARN  ]: \u001b[0mData error does not match covariance error for bin 6 (1.14-2.5)\n",
      "\u001b[31m[ERR WARN  ]: \u001b[0mData error: 2.02749e-39\n",
      "\u001b[31m[ERR WARN  ]: \u001b[0mCov error:  5.06872e-41\n"
     ]
    }
   ],
   "source": [
    "rf = pn.RecordFactory()\n",
    "nuis2 = rf.make_record({\"type\":\"nuisance2\"})\n",
    "MicroBooNE_CC1MuNp_XSec_1DPmu_nu = nuis2.analysis(\"MicroBooNE_CC1MuNp_XSec_1DPmu_nu\")"
   ]
  },
  {
   "cell_type": "code",
   "execution_count": 43,
   "id": "b099e5c2-1611-49b1-bf21-18769b9f8de5",
   "metadata": {},
   "outputs": [],
   "source": [
    "ev_frame = pn.EventFrameGen(nuevs)\\\n",
    "            .add_int_column(\"mbsel\", MicroBooNE_CC1MuNp_XSec_1DPmu_nu.get_selection().op) \\\n",
    "            .add_double_column(\"Pmu\", MicroBooNE_CC1MuNp_XSec_1DPmu_nu.get_projections()[0].op)\\\n",
    "            .all()\n",
    "nuevs_ni = nuevs.norm_info(pn.nhm.FATXUtils.cm2ten38_PerNucleon)\n",
    "fatx_ptn = nuevs_ni.fatx\n",
    "sumweights = nuevs_ni.sumweights"
   ]
  },
  {
   "cell_type": "code",
   "execution_count": 44,
   "id": "24b03a41-ab22-4056-8bae-26328bf66a17",
   "metadata": {},
   "outputs": [
    {
     "name": "stdout",
     "output_type": "stream",
     "text": [
      "['event.number', 'weight.cv', 'fatx_per_sumw.pb_per_target.estimate', 'fatx_per_sumw.pb_per_nucleon.estimate', 'process.id', 'mbsel', 'Pmu']\n",
      " -------------------------------------------------------------------------------------------\n",
      " | event.number | weight.cv | fatx_per_su$ | fatx_per_su$ | process.id | mbsel |       Pmu |\n",
      " -------------------------------------------------------------------------------------------\n",
      " |            0 |         1 |       0.3771 |     0.009427 |        400 |     0 | 3.736e+09 |\n",
      " |            1 |         1 |       0.1885 |     0.004714 |        250 |     0 | 3.736e+09 |\n",
      " |            2 |         1 |       0.1257 |     0.003142 |        500 |     0 | 3.736e+09 |\n",
      " |            3 |         1 |      0.09427 |     0.002357 |        500 |     0 | 3.736e+09 |\n",
      " |            4 |         1 |      0.07542 |     0.001885 |        200 |     1 |    0.1714 |\n",
      " |            5 |         1 |      0.06285 |     0.001571 |        200 |     0 | 3.736e+09 |\n",
      " |            6 |         1 |      0.05387 |     0.001347 |        250 |     0 | 3.736e+09 |\n",
      " |            7 |         1 |      0.04714 |     0.001178 |        500 |     0 | 3.736e+09 |\n",
      " |            8 |         1 |       0.0419 |     0.001047 |        200 |     0 | 3.736e+09 |\n",
      " |            9 |         1 |      0.03771 |    0.0009427 |        300 |     1 |    0.1285 |\n",
      " |           10 |         1 |      0.03428 |     0.000857 |        250 |     0 | 3.736e+09 |\n",
      " |           11 |         1 |      0.03142 |    0.0007856 |        200 |     0 | 3.736e+09 |\n",
      " |           12 |         1 |      0.02901 |    0.0007252 |        400 |     0 | 3.736e+09 |\n",
      " |           13 |         1 |      0.02694 |    0.0006734 |        400 |     1 |     1.272 |\n",
      " |           14 |         1 |      0.02514 |    0.0006285 |        200 |     1 |     1.103 |\n",
      " |           15 |         1 |      0.02357 |    0.0005892 |        400 |     1 |     0.353 |\n",
      " |           16 |         1 |      0.02218 |    0.0005545 |        500 |     0 | 3.736e+09 |\n",
      " |           17 |         1 |      0.02095 |    0.0005237 |        250 |     0 | 3.736e+09 |\n",
      " |           18 |         1 |      0.01985 |    0.0004962 |        250 |     0 | 3.736e+09 |\n",
      " |           19 |         1 |      0.01885 |    0.0004714 |        300 |     0 | 3.736e+09 |\n",
      " |           20 |         1 |      0.01796 |    0.0004489 |        400 |     0 | 3.736e+09 |\n",
      " |          ... |       ... |          ... |          ... |        ... |   ... |       ... |\n",
      " -------------------------------------------------------------------------------------------\n"
     ]
    }
   ],
   "source": [
    "print(ev_frame.column_names)\n",
    "print(ev_frame)"
   ]
  },
  {
   "cell_type": "code",
   "execution_count": 52,
   "id": "865d4360-3030-4eb3-bdc3-4af35baae85f",
   "metadata": {},
   "outputs": [
    {
     "name": "stdout",
     "output_type": "stream",
     "text": [
      "The average cross section scale factor per event: 9.427258376829043e-06 cm^-38/N \n",
      "  for a total eventweight of 100000.0.\n"
     ]
    }
   ],
   "source": [
    "print(f\"\"\"The average cross section scale factor per event: {fatx_ptn/sumweights} cm^-38/N \n",
    "  for a total eventweight of {sumweights}.\"\"\")"
   ]
  },
  {
   "cell_type": "markdown",
   "id": "7ae9436f-ae8c-4640-b278-91ac4d6854f0",
   "metadata": {},
   "source": [
    "When filling the `HistFrame`, we now have to use another method from the family of fill functions, one that takes a column identifier to use as a selection."
   ]
  },
  {
   "cell_type": "code",
   "execution_count": 70,
   "id": "ab0fbdbc-14a6-46f7-948f-833205a42d47",
   "metadata": {},
   "outputs": [
    {
     "data": {
      "image/png": "[encoded data removed]",
      "text/plain": [
       "<Figure size 640x480 with 1 Axes>"
      ]
     },
     "metadata": {},
     "output_type": "display_data"
    }
   ],
   "source": [
    "data = MicroBooNE_CC1MuNp_XSec_1DPmu_nu.get_data()[0]\n",
    "\n",
    "data.mpl().errorbar(marker=\".\", markersize=7.5, color=\"#000\", label=\"data\", linewidth=0, elinewidth=1, capsize=2.5)\n",
    "\n",
    "mc = data.make_HistFrame()\n",
    "\n",
    "mc.fill(ev_frame, [\"Pmu\"], [ pn.HistFrame.fill_column(0), pn.HistFrame.fill_if(\"mbsel\")])\n",
    "\n",
    "#required because this analysis is in cm^2 /Ar40 not the nuisance2 default of 1E-38 cm2/N\n",
    "ana_scale = 1E-38 * 40.0\n",
    "\n",
    "mcpred = mc.finalise(True).scale(ana_scale * (fatx_ptn/sumweights))\n",
    "\n",
    "mcpred.mpl().hist(histtype=\"step\")\n",
    "plt.ylabel(r\"d$\\sigma$/d$p_{\\mu}$ [cm$^{2}$ /(GeV/c) /$^{40}$Ar]\")\n",
    "plt.xlabel(r\"$p_{\\mu}$ [GeV/c]\")\n",
    "plt.show()"
   ]
  },
  {
   "cell_type": "code",
   "execution_count": null,
   "id": "a954edcc-b863-442c-84e7-4d378bf995ad",
   "metadata": {},
   "outputs": [],
   "source": [
    "import os\n",
    "os.environ[\"NUISANCE_RECORD_DATABASE\"] = os.getcwd()"
   ]
  },
  {
   "cell_type": "markdown",
   "id": "ff2cde67-f5de-4e4b-aace-e7b90982b93d",
   "metadata": {},
   "source": [
    "The tools work on a reference format that allows referencing objects within a record (and sometimes objects within objects). The reference format is below:\n",
    "\n",
    "```\n",
    "[<type=hepdata>:][<id>][/<resource[:<qualifier>]>]\n",
    "```\n",
    "\n",
    "It might seem weird that *all* parts of the reference are optional, such that `ref = \"\"` is a valid reference. That is because references are evaluated in a context, which is used to populate defaults for each part of the reference. This means that a reference can be inter- or intra- record, which is very useful.\n",
    "\n",
    "References are resolved to a local path to referenced object. In the example below we want a local path to the HepData sanbox record, 1713917002."
   ]
  },
  {
   "cell_type": "code",
   "execution_count": null,
   "id": "65cab94d-5fb9-45fb-97fc-b76798394967",
   "metadata": {},
   "outputs": [],
   "source": [
    "%%time \n",
    "recordid=1713917002\n",
    "submission_path, resource_path, refcontext = pn.hpd.get_local_path_to_resource(reftype=\"hepdata-sandbox\", recordid=recordid)\n",
    "ref = pn.hpd.context_to_ref(**refcontext)\n",
    "print(f\"{ref}\\n  -> {resource_path}\")"
   ]
  },
  {
   "cell_type": "markdown",
   "id": "4345c27b-1d48-4062-9ee9-0fafaf7171ce",
   "metadata": {},
   "source": [
    "So now we have a local copy, and a path to that local copy, of the reference. If you think it executes a bit slowly, that is because it is downloading and unzipping the HepData record. \n",
    "\n",
    "If you run it again, it will still be slow... because it has to check if it has the latest version of the record in the local cache. You can stop it checking by using the version-qualified reference that is returned with the resource path."
   ]
  },
  {
   "cell_type": "code",
   "execution_count": null,
   "id": "45cf6677-772e-4e42-8866-fbbd729205df",
   "metadata": {},
   "outputs": [],
   "source": [
    "%%time\n",
    "submission_path, resource_path, refcontext = pn.hpd.get_local_path_to_resource(ref)"
   ]
  },
  {
   "cell_type": "markdown",
   "id": "4f7090ec-0d52-4014-9d61-d4a05eca916c",
   "metadata": {},
   "source": [
    "Okay, that was a bit detailed, but for automation purposes, it is important that we can programatically fetch and resolve HepData records.\n",
    "\n",
    "Next we want to query the information in the record. I won't go into as much detail here, but `records` contain `tables` which correspond to measurements, and tables container `qualifiers` which are simple key-value meta-data that we use to store lots of interesting things.\n",
    "\n",
    "Lets look at the tables that this record holds and any additional resources that are contained in the record."
   ]
  },
  {
   "cell_type": "code",
   "execution_count": null,
   "id": "5c108e71-32b5-4324-b7ba-8b9630634ce9",
   "metadata": {},
   "outputs": [],
   "source": [
    "table_names = pn.hpd.get_table_names(ref)\n",
    "pretty_table_names = \"\\n  \".join(table_names)\n",
    "print(f\"Tables:\\n  {pretty_table_names}\")"
   ]
  },
  {
   "cell_type": "code",
   "execution_count": null,
   "id": "80a7bf08-9422-4513-8b97-02ea9dd8243f",
   "metadata": {},
   "outputs": [],
   "source": [
    "additional_resources = pn.hpd.get_local_additional_resources(ref)\n",
    "pretty_additional_resources = \"\\n  \".join(additional_resources[\"common\"])\n",
    "print(f\"Additional Resources:\\n  {pretty_additional_resources}\")"
   ]
  },
  {
   "cell_type": "markdown",
   "id": "b0cbce20-5992-45a8-b705-944d45b47b1f",
   "metadata": {},
   "source": [
    "The most important file here is `analysis.cxx`, which is a ProSelecta analysis file, lets take a look at it!"
   ]
  },
  {
   "cell_type": "code",
   "execution_count": null,
   "id": "28aa9ad1-046a-4beb-b51b-3c7f1c87531c",
   "metadata": {},
   "outputs": [],
   "source": [
    "analysis_file = pn.hpd.get_local_path_to_resource(f\"{ref}/analysis.cxx\")[1]\n",
    "for line in open(analysis_file):\n",
    "    print(line.rstrip())"
   ]
  },
  {
   "cell_type": "markdown",
   "id": "5ad49793-282d-41ab-95a2-938def760056",
   "metadata": {},
   "source": [
    "Neat, we can ask ProSelecta to JIT this file and then grab handles to functions out of it so that we can apply selections and projections for this measurement"
   ]
  },
  {
   "cell_type": "code",
   "execution_count": null,
   "id": "97b548ed-ac0d-4c08-b1c5-fe4da16c6419",
   "metadata": {},
   "outputs": [],
   "source": [
    "import pyProSelecta as pps\n",
    "pps.load_file(analysis_file)"
   ]
  },
  {
   "cell_type": "markdown",
   "id": "6ccebeb7-cf74-43fa-babb-1d4284129102",
   "metadata": {},
   "source": [
    "There are quite a few functions in the analysis file because there are quite a few tables in the record. We need to know which functions correspond to which record, this is where qualifiers come into play!\n",
    "\n",
    "We're going to make the rest of the code 'table agnostic', but we'll pick just one table as the example, lets do `cross_section-alpha3d`"
   ]
  },
  {
   "cell_type": "code",
   "execution_count": null,
   "id": "2e9f264a-d835-4f77-8c0a-bae33cec8450",
   "metadata": {},
   "outputs": [],
   "source": [
    "def measurement_details(ref, table_name):\n",
    "    table_file, refcontext = pn.hpd.get_local_path_to_resource(f\"{ref}/{table_name}\")[1:]\n",
    "\n",
    "    print(f\"Table: {table_name}\")\n",
    "    \n",
    "    indep_vars = pn.hpd.get_independent_variables(table_file)\n",
    "    print(f\"  Independent_variables: {indep_vars}\")\n",
    "    \n",
    "    quals = pn.hpd.get_qualifiers(table_file)\n",
    "    pretty_quals = \"\\n    \".join([f\"{k}: {v}\" for k,v in quals.items()])\n",
    "    print(f\"  Qualifiers:\\n    {pretty_quals}\")\n",
    "\n",
    "    return indep_vars, quals, refcontext\n",
    "\n",
    "table_name = \"cross_section-alpha3d\"\n",
    "indep_vars, quals, refcontext = measurement_details(ref, table_name)"
   ]
  },
  {
   "cell_type": "markdown",
   "id": "a3f7708d-7ff9-4103-9a70-13ad4af3ef58",
   "metadata": {},
   "source": [
    "First, lets check the 'flux'. The `probe_spectrum` qualifier contains a reference to the most appropriate flux file to use for this measurement.\n",
    "\n",
    "We can convert the HepData-native yaml version of the flux histogram into a NUISANCE `BinnedValues` object and plot it (or convert it to a root file for use with `nuis gen`... see the threads of automation!)\n",
    "\n",
    "We evaluate the `probe_spectrum` reference in the full context of the record, we can see that in this case, the reference points to another table in the same record, but in general the most appropriate flux prediction could be stored in another record."
   ]
  },
  {
   "cell_type": "code",
   "execution_count": null,
   "id": "351729ab-e1e2-4052-9cb9-3db91cb97911",
   "metadata": {},
   "outputs": [],
   "source": [
    "flux_table = pn.hpd.get_table(quals[\"probe_spectrum\"], **refcontext)\n",
    "ub_flux = pn.convert.HistFrame.from_yaml_str(str(flux_table))\n",
    "ub_flux.mpl().hist(histtype=\"step\")\n",
    "plt.show()"
   ]
  },
  {
   "cell_type": "markdown",
   "id": "ddaf80ed-2896-4c42-b063-6865f70dadb3",
   "metadata": {},
   "source": [
    "Next we need to get handles to the selection and projection functions. The name of the selection function is stored as the value for the `select` qualifier and each independent variable needs one projection function, which is also stored as a qualifier."
   ]
  },
  {
   "cell_type": "code",
   "execution_count": null,
   "id": "fe4ee93f-661e-4045-b0aa-26f7cc49e5a9",
   "metadata": {},
   "outputs": [],
   "source": [
    "selfunc = pps.select.get(quals[\"select\"])\n",
    "projfunc = pps.project.get(quals[f\"project:{indep_vars[0]}\"])"
   ]
  },
  {
   "cell_type": "markdown",
   "id": "79bf35fc-990b-4893-9cbf-efedf59cc1b4",
   "metadata": {},
   "source": [
    "We can then use these to make a data frame containing everything we need to make a prediction of the MC truth for this measurement. For fun, I'm going to include all of the projections in this table."
   ]
  },
  {
   "cell_type": "code",
   "execution_count": null,
   "id": "67d9ed74-8466-4379-bbd8-a9cc1bdf6d60",
   "metadata": {},
   "outputs": [],
   "source": [
    "ev_frame_gen = pn.EventFrameGen(nuevs).filter(selfunc)\n",
    "\n",
    "for tbl in table_names:\n",
    "    tf = pn.hpd.get_local_path_to_resource(f\"{ref}/{tbl}\")[1]\n",
    "    iv = pn.hpd.get_independent_variables(tf)\n",
    "    q = pn.hpd.get_qualifiers(tf)\n",
    "    if \"select\" not in q: #only want measurements\n",
    "        continue\n",
    "    ev_frame_gen.add_column(f\"{iv[0]}\", pps.project.get(q[f\"project:{iv[0]}\"]))\n",
    "    \n",
    "ev_frame = ev_frame_gen.all()"
   ]
  },
  {
   "cell_type": "code",
   "execution_count": null,
   "id": "d65746fe-5722-46f5-9d84-66f211b92c4b",
   "metadata": {},
   "outputs": [],
   "source": [
    "print(ev_frame)"
   ]
  },
  {
   "cell_type": "markdown",
   "id": "10f4619a-91c5-46ba-a812-a08b74e0d3b5",
   "metadata": {},
   "source": [
    "Hopefully it is clear how powerful this is. \n",
    "\n",
    "We aren't constrained to filling variables only from the same record, we can include the selections from any number of measurements, whether those measurements are on Argon, in the microboone flux, it doesn't matter. The dataframe structure allows rapid prototyping and development of MC studies towards new measurements.\n",
    "\n",
    "Without further ado, lets make a comparison, the details of this comparison are more involved than the NUISANCE2 example earlier as we need to apply the smearing matrix before 'finalising' the HistFrame. Because HistFrames are just backed by Eigen 2D arrays, which are exposed as numpy objects, this is trivial to do, as shown below."
   ]
  },
  {
   "cell_type": "code",
   "execution_count": null,
   "id": "de08aeeb-9dd0-4805-ab04-51c889509dc2",
   "metadata": {},
   "outputs": [],
   "source": [
    "def make_comp(ref, table_name):\n",
    "    indep_vars, quals, refcontext = measurement_details(ref, table_name)\n",
    "\n",
    "    xs_table = pn.hpd.get_table(table_name, **refcontext)\n",
    "    xs_data = pn.convert.HistFrame.from_yaml_str(str(xs_table))\n",
    "    \n",
    "    xs_data.mpl().errorbar(marker=\".\", markersize=7.5, color=\"#000\", label=\"data\", linewidth=0, elinewidth=1, capsize=2.5)\n",
    "\n",
    "    # fatx is in pb/A, but need cm^-38 /A\n",
    "    sf = ev_frame.norm_info().fatx_per_sumweights() * (1E2)\n",
    "    \n",
    "    smearing_table = pn.hpd.get_table(quals[\"smearing\"], **refcontext)\n",
    "    smearing_mat = pn.convert.Covariance.from_yaml_str(str(smearing_table))\n",
    "    \n",
    "    xs_mc = xs_data.make_HistFrame()\n",
    "    xs_mc.fill_from_EventFrame(ev_frame, [indep_vars[0],])\n",
    "    \n",
    "    xs_mc.sumweights = smearing_mat.T @ (xs_mc.sumweights * sf)\n",
    "    xs_mc.variances = (smearing_mat @ smearing_mat) @ xs_mc.variances * (sf**2)\n",
    "    \n",
    "    xs_mc_pred = xs_mc.finalise()\n",
    "    xs_mc_pred.mpl().hist(histtype=\"step\", label=\"NuWro\", errorband_color=\"#F003\", color=\"red\")\n",
    "\n",
    "    plt.ylabel(r\"$\\frac{d\\sigma}{d\\alpha_{3D}} 10^{-38}$ cm$^{2}$ /degrees /Ar\")\n",
    "    plt.xlabel(r\"$\\alpha_{3D}$ [degrees]\")\n",
    "    plt.legend()\n",
    "\n",
    "make_comp(ref, table_name)\n",
    "plt.show()"
   ]
  },
  {
   "cell_type": "markdown",
   "id": "b1761c45-42f6-43d2-9e0a-c5d0c1de5938",
   "metadata": {},
   "source": [
    "The thing to note here is that nothing in the making of the above plot is specialised other than by the name of the measurement that you want to compare to..."
   ]
  },
  {
   "cell_type": "code",
   "execution_count": null,
   "id": "651e60b5-5a95-43f8-87c5-fdc4da415c41",
   "metadata": {},
   "outputs": [],
   "source": [
    "fig, ((ax1,ax2),(ax3,ax4)) = plt.subplots(2,2, figsize=(8,8))\n",
    "\n",
    "plt.sca(ax1)\n",
    "make_comp(ref, \"cross_section-phi3d\")\n",
    "plt.sca(ax2)\n",
    "make_comp(ref, \"cross_section-pn_para\")\n",
    "plt.sca(ax3)\n",
    "make_comp(ref, \"cross_section-pn_perp\")\n",
    "plt.sca(ax4)\n",
    "make_comp(ref, \"cross_section-pn\")\n",
    "plt.show()"
   ]
  },
  {
   "cell_type": "code",
   "execution_count": null,
   "id": "05a34c06-e9d9-4bc9-a1d4-4f0a82a6d7cb",
   "metadata": {},
   "outputs": [],
   "source": [
    "%%bash\n",
    "\n",
    "# make sure NUISANCE2 is the NUISANCE in the path\n",
    "export PATH=/opt/nuisance/git_master/bin:${PATH}\n",
    "\n",
    "if [ ! -e NuWro.numu.BNB_uBooNE.100k.v1.root ]; then\n",
    "    mkdir -p nuwrogenv1\n",
    "    cd nuwrogenv1\n",
    "    nuis gen NuWro -E MicroBooNE -n 100000 -t Ar -P numu -o NuWro.numu.BNB_uBooNE.100k.v1.root -p MEC_cm_direction=1 &> /dev/null\n",
    "    cp NuWro.numu.BNB_uBooNE.100k.v1.root ../\n",
    "    cd ../\n",
    "    rm -r nuwrogenv1\n",
    "fi\n",
    "\n",
    "if [ ! -e NuWro.numu.BNB_uBooNE.100k.v2.root ]; then\n",
    "    mkdir -p nuwrogenv2\n",
    "    cd nuwrogenv2\n",
    "    nuis gen NuWro -E MicroBooNE -n 100000 -t Ar -P numu -o NuWro.numu.BNB_uBooNE.100k.v2.root -p MEC_cm_direction=-1 &> /dev/null\n",
    "    cp NuWro.numu.BNB_uBooNE.100k.v2.root ../\n",
    "    cd ../\n",
    "    rm -r nuwrogenv2\n",
    "fi"
   ]
  },
  {
   "cell_type": "code",
   "execution_count": null,
   "id": "513ffd32-6d35-46f3-8540-a4308a9e15d1",
   "metadata": {},
   "outputs": [],
   "source": [
    "nuevsv1 = pn.EventSource(\"NuWro.numu.BNB_uBooNE.100k.v1.root\")\n",
    "nuevsv2 = pn.EventSource(\"NuWro.numu.BNB_uBooNE.100k.v2.root\")\n",
    "\n",
    "ev_framev1 = pn.EventFrameGen(nuevsv1)\\\n",
    "             .filter(selfunc) \\\n",
    "             .add_column(indep_vars[0], projfunc).all()\n",
    "ev_framev2 = pn.EventFrameGen(nuevsv2)\\\n",
    "             .filter(selfunc) \\\n",
    "             .add_column(indep_vars[0], projfunc).all()\n",
    "\n",
    "indep_vars, quals, refcontext = measurement_details(ref, table_name)\n",
    "\n",
    "xs_table = pn.hpd.get_table(table_name, **refcontext)\n",
    "xs_data = pn.convert.HistFrame.from_yaml_str(str(xs_table))\n",
    "\n",
    "# fatx is in pb/A, but need cm^-38 /A\n",
    "sf = ev_frame.norm_info().fatx_per_sumweights() * (1E2)\n",
    "\n",
    "smearing_table = pn.hpd.get_table(quals[\"smearing\"], **refcontext)\n",
    "smearing_mat = pn.convert.Covariance.from_yaml_str(str(smearing_table))\n",
    "\n",
    "xs_mc = xs_data.make_HistFrame()\n",
    "xs_mc.fill_from_EventFrame(ev_frame, [indep_vars[0],])\n",
    "\n",
    "xs_mc.sumweights = smearing_mat.T @ (xs_mc.sumweights * sf)\n",
    "xs_mc.variances = (smearing_mat @ smearing_mat) @ xs_mc.variances * (sf**2)\n",
    "\n",
    "xs_mc_pred = xs_mc.finalise()\n",
    "\n",
    "xs_mcv1 = xs_data.make_HistFrame()\n",
    "xs_mcv2 = xs_data.make_HistFrame()\n",
    "xs_mcv1.fill_from_EventFrame(ev_framev1, [indep_vars[0], ])\n",
    "xs_mcv2.fill_from_EventFrame(ev_framev2, [indep_vars[0], ])\n",
    "\n",
    "xs_mcv1.sumweights = smearing_mat.T @ (xs_mcv1.sumweights * sf)\n",
    "xs_mcv1.variances = (smearing_mat @ smearing_mat) @ xs_mcv1.variances * (sf**2)\n",
    "\n",
    "xs_mcv1_pred = xs_mcv1.finalise()\n",
    "\n",
    "xs_mcv2.sumweights = smearing_mat.T @ (xs_mcv2.sumweights * sf)\n",
    "xs_mcv2.variances = (smearing_mat @ smearing_mat) @ xs_mcv2.variances * (sf**2)\n",
    "\n",
    "xs_mcv2_pred = xs_mcv2.finalise()\n"
   ]
  },
  {
   "cell_type": "code",
   "execution_count": null,
   "id": "60ceee03-6ab4-4dac-99d2-f8946a773321",
   "metadata": {},
   "outputs": [],
   "source": [
    "xs_mc_pred.mpl().hist(histtype=\"step\", label=\"NuWro\", errorband_color=\"#00F3\", color=\"red\")\n",
    "\n",
    "xs_mcv1_pred.mpl().hist(histtype=\"step\", label=\"NuWro, MEC_cm_direction=1\", errorband_color=\"#0F03\", color=\"green\")\n",
    "\n",
    "xs_mcv2_pred.mpl().hist(histtype=\"step\", label=\"NuWro, MEC_cm_direction=-1\", errorband_color=\"#00F3\", color=\"blue\")\n",
    "\n",
    "xs_data.mpl().errorbar(marker=\".\", markersize=7.5, color=\"#000\", label=\"data\", linewidth=0, elinewidth=1, capsize=2.5)\n",
    "\n",
    "plt.ylabel(r\"$\\frac{d\\sigma}{d\\alpha_{3D}} 10^{-38}$ cm$^{2}$ /degrees /Ar\")\n",
    "plt.xlabel(r\"$\\alpha_{3D}$ [degrees]\")\n",
    "plt.legend()\n",
    "plt.show()"
   ]
  },
  {
   "cell_type": "markdown",
   "id": "494f2a62-7de8-42c0-9512-27a6edf0d225",
   "metadata": {},
   "source": [
    "## ReWeighted\n",
    "\n",
    "For ReWeighting, we need some NEUT (or GENIE) events"
   ]
  },
  {
   "cell_type": "code",
   "execution_count": null,
   "id": "b35b64b3-b8e8-4a16-87b6-695e65d5b199",
   "metadata": {},
   "outputs": [],
   "source": [
    "%%bash\n",
    "\n",
    "# make sure NUISANCE2 is the NUISANCE in the path\n",
    "export PATH=/opt/nuisance/git_master/bin:${PATH}\n",
    "\n",
    "if [ ! -e NEUT.numu.BNB_uBooNE.100k.root ]; then\n",
    "    mkdir -p neutgen\n",
    "    cd neutgen\n",
    "    nuis gen NEUT -E MicroBooNE -n 100000 -t Ar -P numu -o NEUT.numu.BNB_uBooNE.100k.root -x NEUT-MDLQE=2 &> /dev/null\n",
    "    cp NEUT.numu.BNB_uBooNE.100k.root ../\n",
    "    cp *.card ../\n",
    "    cd ../\n",
    "    rm -r neutgen\n",
    "fi"
   ]
  },
  {
   "cell_type": "code",
   "execution_count": null,
   "id": "fd78f696-2467-41fa-bdc6-89f120436706",
   "metadata": {},
   "outputs": [],
   "source": [
    "nutevs = pn.EventSource(\"NEUT.numu.BNB_uBooNE.100k.root\")\n",
    "if not nutevs:\n",
    "    print(\"failed to read NEUT.numu.BNB_uBooNE.100k.root\")"
   ]
  },
  {
   "cell_type": "code",
   "execution_count": null,
   "id": "28fed39d-8740-4887-a4e3-ed7a1bd6adc6",
   "metadata": {},
   "outputs": [],
   "source": [
    "%env NIWG_ROOT=/opt/t2kreweight/24.05.02"
   ]
  },
  {
   "cell_type": "code",
   "execution_count": null,
   "id": "36a397e2-0db4-41fe-8979-6011cef9e3d9",
   "metadata": {},
   "outputs": [],
   "source": [
    "wf = pn.WeightCalcFactory()\n",
    "t2krw = wf.make(nutevs, {\"plugin_name\":\"T2KReWeight\", \"neut_cardname\": \"neutvect.numu.numu.BNB_uBooNE_numu_flux_2019.11383.card\"})"
   ]
  },
  {
   "cell_type": "code",
   "execution_count": null,
   "id": "e4cc28f4-4a20-4cb3-bf68-be531e4e4aae",
   "metadata": {},
   "outputs": [],
   "source": [
    "def wghtsp(ev,maqe):\n",
    "    def wghts(ev):\n",
    "        t2krw.set_parameters({\"MaCCQE\": 1.4})\n",
    "    resp = np.array([0,0])\n",
    "    t2krw.set_parameters({\"MaCCQE\": 1.4})\n",
    "    resp[0] = t2krw.calc_weight(ev)\n",
    "    t2krw.set_parameters({\"MaCCQE\": 1.0})\n",
    "    resp[1] = t2krw.calc_weight(ev)\n",
    "    return resp"
   ]
  },
  {
   "cell_type": "code",
   "execution_count": null,
   "id": "5270a0f1-51e5-4f3b-9aad-f4d82554dd6e",
   "metadata": {},
   "outputs": [],
   "source": [
    "nevf = pn.EventFrameGen(nutevs)\\\n",
    "  .filter(selfunc) \\\n",
    "  .add_column(\"alpha3d\", projfunc) \\\n",
    "  .add_double_columns([\"MaCCQE=1.4\",\"MaCCQE=1.0\"], wghts) \\\n",
    "  .all()"
   ]
  },
  {
   "cell_type": "code",
   "execution_count": null,
   "id": "578af838-f4c2-4780-9ee3-013eb4a1714d",
   "metadata": {},
   "outputs": [],
   "source": [
    "print(fg)"
   ]
  }
 ],
 "metadata": {
  "kernelspec": {
   "display_name": "Python 3 (ipykernel)",
   "language": "python",
   "name": "python3"
  },
  "language_info": {
   "codemirror_mode": {
    "name": "ipython",
    "version": 3
   },
   "file_extension": ".py",
   "mimetype": "text/x-python",
   "name": "python",
   "nbconvert_exporter": "python",
   "pygments_lexer": "ipython3",
   "version": "3.9.18"
  }
 },
 "nbformat": 4,
 "nbformat_minor": 5
}
