{
 "cells": [
  {
   "cell_type": "markdown",
   "id": "029ffce1-b689-44a1-92f8-63384fa85c65",
   "metadata": {},
   "source": [
    "# PittPACC NUISANCE3 Demo"
   ]
  },
  {
   "cell_type": "markdown",
   "id": "b7b1a8fb-d0a5-4469-be08-56eec96ca9ec",
   "metadata": {},
   "source": [
    "## Reading event vectors\n",
    "\n",
    "NUISANCE3 uses 'input handlers' in a similar way to NUISANCE2, but with much stricter de-coupling of the input converter logic from the rest of the framework. An input handler's job is to read some vector and return an event stream in NuHepMC format.\n",
    "\n",
    "First, lets generate a small NuWro file using shell magic and some NUISANCE2 helper scripts"
   ]
  },
  {
   "cell_type": "code",
   "execution_count": 1,
   "id": "b6564816-b4ba-487f-96c0-b2d59b15e2e8",
   "metadata": {},
   "outputs": [],
   "source": [
    "%%bash\n",
    "if [ ! -e NuWro.numu.BNB_uBooNE.100k.root ]; then\n",
    "    mkdir -p nuwrogen\n",
    "    cd nuwrogen\n",
    "    nuis gen NuWro -E MicroBooNE -n 100000 -t Ar -P numu -o NuWro.numu.BNB_uBooNE.100k.root &> /dev/null\n",
    "    cp NuWro.numu.BNB_uBooNE.100k.root ../\n",
    "    cd ../\n",
    "    rm -r nuwrogen\n",
    "fi"
   ]
  },
  {
   "cell_type": "markdown",
   "id": "a917ab7f-49c7-48d8-828f-10e3b1f009e2",
   "metadata": {},
   "source": [
    "Success!\n",
    "\n",
    "Lets first import a few useful modules that we will use in this demo"
   ]
  },
  {
   "cell_type": "code",
   "execution_count": 2,
   "id": "c0fa610a-9bca-433f-bd5d-85bda77b9c38",
   "metadata": {},
   "outputs": [
    {
     "name": "stdout",
     "output_type": "stream",
     "text": [
      "Welcome to JupyROOT 6.30/04\n"
     ]
    }
   ],
   "source": [
    "import numpy as np\n",
    "import matplotlib.pyplot as plt\n",
    "\n",
    "import pyNUISANCE as pn"
   ]
  },
  {
   "cell_type": "markdown",
   "id": "2f91817f-2fc5-42d5-b67b-da78e62db92d",
   "metadata": {},
   "source": [
    "Next we get an `eventinput` handle to the event stream of the file that we just created with the `pyNUISANCE.EventSource` factory function. Unlike NUISANCE2 we don't have to specify the file type, the EventSource factory can work it out in most cases."
   ]
  },
  {
   "cell_type": "code",
   "execution_count": 3,
   "id": "5c5046f3-ac50-4c56-9e04-bf27169c8023",
   "metadata": {},
   "outputs": [],
   "source": [
    "nuevs = pn.EventSource(\"NuWro.numu.BNB_uBooNE.100k.root\")\n",
    "if not nuevs:\n",
    "    print(\"failed to read NuWro.numu.BNB_uBooNE.100k.root\")"
   ]
  },
  {
   "cell_type": "markdown",
   "id": "2ebd7447-93a1-4795-b7eb-90193d5f59aa",
   "metadata": {},
   "source": [
    "We can loop over the events in the file sequentially in python like below:"
   ]
  },
  {
   "cell_type": "code",
   "execution_count": 4,
   "id": "bb7cc5ee-60db-4b03-b9cd-5600c7e017ed",
   "metadata": {},
   "outputs": [
    {
     "name": "stdout",
     "output_type": "stream",
     "text": [
      "<pyHepMC3.pyHepMC3.HepMC3.GenEvent object at 0xffff4d247730> 1.0\n",
      "<pyHepMC3.pyHepMC3.HepMC3.GenEvent object at 0xffff4d24cd30> 1.0\n",
      "<pyHepMC3.pyHepMC3.HepMC3.GenEvent object at 0xffff700184f0> 1.0\n",
      "<pyHepMC3.pyHepMC3.HepMC3.GenEvent object at 0xffff4d247730> 1.0\n",
      "<pyHepMC3.pyHepMC3.HepMC3.GenEvent object at 0xffff4d271c70> 1.0\n",
      "<pyHepMC3.pyHepMC3.HepMC3.GenEvent object at 0xffff4d275e30> 1.0\n"
     ]
    }
   ],
   "source": [
    "for i, (ev, cvw) in enumerate(nuevs):\n",
    "    print(ev,cvw)\n",
    "    if i >= 5:\n",
    "        break"
   ]
  },
  {
   "cell_type": "markdown",
   "id": "11df1d3d-0054-49a9-8d74-a37859930018",
   "metadata": {},
   "source": [
    "Here we can see that the objects returned from iterating on the event source are HepMC3 events. You may also notice the `cvw` variable that comes with every event, this is the Central Value Weight. Different generators store different information in this weight, for many generators it will be `1.0` for every event. However, you shouldn't neglect this weight in generator-agnostic code.\n",
    "\n",
    "We can use the `pyHepMC3` print functions to print out an event listing and take a look:"
   ]
  },
  {
   "cell_type": "code",
   "execution_count": 5,
   "id": "8a993746-0584-4333-b9c5-5fe3286d2ca3",
   "metadata": {},
   "outputs": [
    {
     "name": "stdout",
     "output_type": "stream",
     "text": [
      "--------------------------------\n",
      "--------- EVENT CONTENT --------\n",
      "--------------------------------\n",
      "\n",
      "Weights (1): \n",
      " 1Attributes:\n",
      "0: LabPos\n",
      "2: remnant_particle_number\n",
      "0: signal_process_id\n",
      "GenParticlePtr (11)\n",
      "GenParticle:   1 PDGID: 1000180400 (P,E)=+0.00e+00,+0.00e+00,+0.00e+00,+0.00e+00 Stat: 20 PV: 0 EV: -1 Attr: 0\n",
      "GenParticle:   2 PDGID: 2009900000 (P,E)=+0.00e+00,+0.00e+00,+0.00e+00,+0.00e+00 Stat: 3 PV: -1 EV: -3 Attr: 1 remnant_particle_number=1000170390\n",
      "GenParticle:   3 PDGID:  2212 (P,E)=+1.70e+01,+4.43e+00,+1.04e+02,+9.44e+02 Stat: 21 PV: -1 EV: -2 Attr: 0\n",
      "GenParticle:   4 PDGID:    14 (P,E)=+0.00e+00,+0.00e+00,+6.90e+02,+6.90e+02 Stat: 4 PV: 0 EV: -2 Attr: 0\n",
      "GenParticle:   5 PDGID:    13 (P,E)=-4.59e+01,+1.04e+02,+1.46e+02,+2.13e+02 Stat: 3 PV: -2 EV: -3 Attr: 0\n",
      "GenParticle:   6 PDGID:   211 (P,E)=+1.12e+02,+9.88e+01,+2.97e+02,+3.61e+02 Stat: 3 PV: -2 EV: -3 Attr: 0\n",
      "GenParticle:   7 PDGID:  2212 (P,E)=-4.91e+01,-1.98e+02,+3.51e+02,+1.02e+03 Stat: 3 PV: -2 EV: -3 Attr: 0\n",
      "GenParticle:   8 PDGID: 2009900000 (P,E)=+0.00e+00,+0.00e+00,+0.00e+00,+0.00e+00 Stat: 1 PV: -3 EV: 0 Attr: 0\n",
      "GenParticle:   9 PDGID:    13 (P,E)=-4.59e+01,+1.04e+02,+1.46e+02,+2.13e+02 Stat: 1 PV: -3 EV: 0 Attr: 0\n",
      "GenParticle:  10 PDGID:  2212 (P,E)=-3.61e+01,-1.46e+02,+2.58e+02,+9.85e+02 Stat: 1 PV: -3 EV: 0 Attr: 0\n",
      "GenParticle:  11 PDGID:   211 (P,E)=+1.12e+02,+9.88e+01,+2.97e+02,+3.61e+02 Stat: 1 PV: -3 EV: 0 Attr: 0\n",
      "GenVertexPtr (3)\n",
      "GenVertex:  -1 stat:  21 in: 1 out: 2 has_set_position: false (X,cT): 0, 0, 0, 0\n",
      "GenVertex:  -2 stat:   1 in: 2 out: 3 has_set_position: false (X,cT): 0, 0, 0, 0\n",
      "GenVertex:  -3 stat:   2 in: 4 out: 4 has_set_position: false (X,cT): 0, 0, 0, 0\n",
      "-----------------------------\n"
     ]
    }
   ],
   "source": [
    "import pyHepMC3.pyHepMC3.HepMC3 as hm3\n",
    "\n",
    "hm3.Print.content(nuevs.first()[0])"
   ]
  },
  {
   "cell_type": "markdown",
   "id": "f5ff79b7-a6dd-4820-80bf-135294d1853d",
   "metadata": {},
   "source": [
    "So now we can read event vectors from disk and get events from them in a common format. This is some progress.\n",
    "\n",
    "Note that every time you iterate on the `eventinput` instance, the file will be read from the start again.\n",
    "\n",
    "Before moving on, it is worth highlighting how you can access the 'run-level' metadata from an event vector. When using native HepMC3 input, the 'GenRunInfo' object is read from the file, but when using a nuisance3 `eventinput` plugin to convert between a generator-specific format and HepMC3 on the fly, that GenRunInfo will contain whatever relevant information the plugin author can glean from the generator-specific file or knows already about the relevant generator format.\n",
    "\n",
    "The NuWro converter plugin uses the code [here](https://github.com/NuHepMC/nuwro2hepmc3) for the conversion.\n",
    "\n",
    "We can use `pyHepMC3` print to look at the GenRunInfo.\n",
    "\n",
    "For more information on the NuHepMC run-level metadata specification, see [here](https://arxiv.org/pdf/2310.13211)."
   ]
  },
  {
   "cell_type": "code",
   "execution_count": 6,
   "id": "144aa668-1aeb-47ae-abaf-4844bddc4b15",
   "metadata": {},
   "outputs": [
    {
     "name": "stdout",
     "output_type": "stream",
     "text": [
      "________________________________________________________________________\n",
      "GenRunInfo:\n",
      " Names: ( CV )\n",
      " Tools: \n",
      "GenRunInfo::ToolInfo NuWro UNKNOWN-VERSION https://doi.org/10.1016/j.nuclphysbps.2012.09.136GenRunInfo::ToolInfo nuwro2hepmc3 0.9 github.com/NuHepMC/nuwro2hepmc3Attributes:\n",
      "NuHepMC.Conventions G.C.1 G.C.2 G.C.5 G.C.4 E.C.1\n",
      "NuHepMC.Exposure.NEvents 100000\n",
      "NuHepMC.FluxAveragedTotalCrossSection 0.00942725837682904\n",
      "NuHepMC.ParticleStatusIDs 1 2 3 4 20 21\n",
      "NuHepMC.ParticleStatusInfo[1].Description Physical final state particles produced by this simulation\n",
      "NuHepMC.ParticleStatusInfo[1].Name UndecayedPhysicalParticle\n",
      "NuHepMC.ParticleStatusInfo[20].Description The target particle in the hard scatter\n",
      "NuHepMC.ParticleStatusInfo[20].Name TargetParticle\n",
      "NuHepMC.ParticleStatusInfo[21].Description The nucleon involved in the hard scatter\n",
      "NuHepMC.ParticleStatusInfo[21].Name StruckNucleon\n",
      "NuHepMC.ParticleStatusInfo[2].Description Particle was decayed by the simulation\n",
      "NuHepMC.ParticleStatusInfo[2].Name DecayedPhysical\n",
      "NuHepMC.ParticleStatusInfo[3].Description Documentation line, not considered a real particle\n",
      "NuHepMC.ParticleStatusInfo[3].Name DocumentationLine\n",
      "NuHepMC.ParticleStatusInfo[4].Description Incoming beam particle\n",
      "NuHepMC.ParticleStatusInfo[4].Name IncomingBeamParticle\n",
      "NuHepMC.ProcessIDs 100 150 200 201 250 251 300 350 400 450 500 550 600 650 700 750\n",
      "NuHepMC.ProcessInfo[100].Description coherent\n",
      "NuHepMC.ProcessInfo[100].Name CC coh\n",
      "NuHepMC.ProcessInfo[150].Description coherent\n",
      "NuHepMC.ProcessInfo[150].Name NC coh\n",
      "NuHepMC.ProcessInfo[200].Description (quasi) elastic\n",
      "NuHepMC.ProcessInfo[200].Name CC qel\n",
      "NuHepMC.ProcessInfo[201].Description hyperon production\n",
      "NuHepMC.ProcessInfo[201].Name CC hyp\n",
      "NuHepMC.ProcessInfo[250].Description (quasi) elastic\n",
      "NuHepMC.ProcessInfo[250].Name NC qel\n",
      "NuHepMC.ProcessInfo[251].Description hyperon production\n",
      "NuHepMC.ProcessInfo[251].Name NC hyp\n",
      "NuHepMC.ProcessInfo[300].Description meson exhange current\n",
      "NuHepMC.ProcessInfo[300].Name CC mec\n",
      "NuHepMC.ProcessInfo[350].Description meson exhange current\n",
      "NuHepMC.ProcessInfo[350].Name NC mec\n",
      "NuHepMC.ProcessInfo[400].Description delta resonant\n",
      "NuHepMC.ProcessInfo[400].Name CC res\n",
      "NuHepMC.ProcessInfo[450].Description delta resonant\n",
      "NuHepMC.ProcessInfo[450].Name NC res\n",
      "NuHepMC.ProcessInfo[500].Description non-delta single pion\n",
      "NuHepMC.ProcessInfo[500].Name CC non-delta SPP\n",
      "NuHepMC.ProcessInfo[550].Description non-delta single pion\n",
      "NuHepMC.ProcessInfo[550].Name NC non-delta SPP\n",
      "NuHepMC.ProcessInfo[600].Description deep inelastic\n",
      "NuHepMC.ProcessInfo[600].Name CC dis\n",
      "NuHepMC.ProcessInfo[650].Description deep inelastic\n",
      "NuHepMC.ProcessInfo[650].Name NC dis\n",
      "NuHepMC.ProcessInfo[700].Description neutrino-lepton\n",
      "NuHepMC.ProcessInfo[700].Name CC lep\n",
      "NuHepMC.ProcessInfo[750].Description neutrino-lepton\n",
      "NuHepMC.ProcessInfo[750].Name NC lep\n",
      "NuHepMC.Provenance.NuWro.MEC_cm_direction  0\n",
      "NuHepMC.Provenance.NuWro.MEC_pauli_blocking  1\n",
      "NuHepMC.Provenance.NuWro.beam_atmo_files \n",
      "NuHepMC.Provenance.NuWro.beam_content \n",
      "NuHepMC.Provenance.NuWro.beam_direction  0 0 1\n",
      "NuHepMC.Provenance.NuWro.beam_energy  1000\n",
      "NuHepMC.Provenance.NuWro.beam_file_first  1\n",
      "NuHepMC.Provenance.NuWro.beam_file_limit  0\n",
      "NuHepMC.Provenance.NuWro.beam_folder  flux\n",
      "NuHepMC.Provenance.NuWro.beam_inputroot  /opt/nuisance/git_master/data/flux/bin_content_is_rate/BNB_uBooNE_numu_flux_2019.root\n",
      "NuHepMC.Provenance.NuWro.beam_inputroot_flux  numu\n",
      "NuHepMC.Provenance.NuWro.beam_inputroot_nue  \n",
      "NuHepMC.Provenance.NuWro.beam_inputroot_nueb  \n",
      "NuHepMC.Provenance.NuWro.beam_inputroot_numu  \n",
      "NuHepMC.Provenance.NuWro.beam_inputroot_numub  \n",
      "NuHepMC.Provenance.NuWro.beam_inputroot_nutau  \n",
      "NuHepMC.Provenance.NuWro.beam_inputroot_nutaub  \n",
      "NuHepMC.Provenance.NuWro.beam_length_units  cm\n",
      "NuHepMC.Provenance.NuWro.beam_offset  0 0 0\n",
      "NuHepMC.Provenance.NuWro.beam_particle  14\n",
      "NuHepMC.Provenance.NuWro.beam_placement  0\n",
      "NuHepMC.Provenance.NuWro.beam_pot_per_file  -1\n",
      "NuHepMC.Provenance.NuWro.beam_test_only  0\n",
      "NuHepMC.Provenance.NuWro.beam_type  5\n",
      "NuHepMC.Provenance.NuWro.beam_weighted  0\n",
      "NuHepMC.Provenance.NuWro.bkgrscaling  0\n",
      "NuHepMC.Provenance.NuWro.cc_smoothing  0\n",
      "NuHepMC.Provenance.NuWro.coh_kind  2\n",
      "NuHepMC.Provenance.NuWro.coh_mass_correction  1\n",
      "NuHepMC.Provenance.NuWro.coh_new  1\n",
      "NuHepMC.Provenance.NuWro.delta_FF_set  1\n",
      "NuHepMC.Provenance.NuWro.delta_angular  2\n",
      "NuHepMC.Provenance.NuWro.delta_s  0\n",
      "NuHepMC.Provenance.NuWro.delta_selfenergy  0\n",
      "NuHepMC.Provenance.NuWro.dyn_coh_cc  1\n",
      "NuHepMC.Provenance.NuWro.dyn_coh_nc  1\n",
      "NuHepMC.Provenance.NuWro.dyn_dis_cc  1\n",
      "NuHepMC.Provenance.NuWro.dyn_dis_nc  1\n",
      "NuHepMC.Provenance.NuWro.dyn_hyp_cc  1\n",
      "NuHepMC.Provenance.NuWro.dyn_lep  1\n",
      "NuHepMC.Provenance.NuWro.dyn_mec_cc  1\n",
      "NuHepMC.Provenance.NuWro.dyn_mec_nc  1\n",
      "NuHepMC.Provenance.NuWro.dyn_qel_cc  1\n",
      "NuHepMC.Provenance.NuWro.dyn_qel_el  0\n",
      "NuHepMC.Provenance.NuWro.dyn_qel_nc  1\n",
      "NuHepMC.Provenance.NuWro.dyn_res_cc  1\n",
      "NuHepMC.Provenance.NuWro.dyn_res_el  0\n",
      "NuHepMC.Provenance.NuWro.dyn_res_nc  1\n",
      "NuHepMC.Provenance.NuWro.e_spp_ff_set  4\n",
      "NuHepMC.Provenance.NuWro.eel_alg  old\n",
      "NuHepMC.Provenance.NuWro.el_costh_del  1\n",
      "NuHepMC.Provenance.NuWro.el_costh_lab  0.5\n",
      "NuHepMC.Provenance.NuWro.first_step  1\n",
      "NuHepMC.Provenance.NuWro.flux_correction  0\n",
      "NuHepMC.Provenance.NuWro.formation_length  1\n",
      "NuHepMC.Provenance.NuWro.formation_zone  fz-new\n",
      "NuHepMC.Provenance.NuWro.geo_d  2000 2000 5000\n",
      "NuHepMC.Provenance.NuWro.geo_file  target/ND280_v9r7p5.root\n",
      "NuHepMC.Provenance.NuWro.geo_name  ND280Geometry_v9r7p5\n",
      "NuHepMC.Provenance.NuWro.geo_o  0 0 0\n",
      "NuHepMC.Provenance.NuWro.geo_volume  \n",
      "NuHepMC.Provenance.NuWro.geom_density_convert  1\n",
      "NuHepMC.Provenance.NuWro.geom_length_units  cm\n",
      "NuHepMC.Provenance.NuWro.hyp_Lambda_Eb  27\n",
      "NuHepMC.Provenance.NuWro.hyp_Sigma_Eb  -70\n",
      "NuHepMC.Provenance.NuWro.hyp_axial_mass  1030\n",
      "NuHepMC.Provenance.NuWro.hyp_effmass  1\n",
      "NuHepMC.Provenance.NuWro.hyp_g2_Im_part  0\n",
      "NuHepMC.Provenance.NuWro.hyp_g2_Re_part  0\n",
      "NuHepMC.Provenance.NuWro.hyp_lambda  1\n",
      "NuHepMC.Provenance.NuWro.hyp_sigma_minus  1\n",
      "NuHepMC.Provenance.NuWro.hyp_sigma_zero  1\n",
      "NuHepMC.Provenance.NuWro.hyp_su3_sym_breaking  0\n",
      "NuHepMC.Provenance.NuWro.kaskada_NN_angle  3\n",
      "NuHepMC.Provenance.NuWro.kaskada_NN_corr  1\n",
      "NuHepMC.Provenance.NuWro.kaskada_NN_inel  2\n",
      "NuHepMC.Provenance.NuWro.kaskada_NN_mfp_scale  1\n",
      "NuHepMC.Provenance.NuWro.kaskada_NN_xsec  2\n",
      "NuHepMC.Provenance.NuWro.kaskada_on  1\n",
      "NuHepMC.Provenance.NuWro.kaskada_piN_xsec  1\n",
      "NuHepMC.Provenance.NuWro.kaskada_redo  0\n",
      "NuHepMC.Provenance.NuWro.kaskada_w  7\n",
      "NuHepMC.Provenance.NuWro.kaskada_writeall  0\n",
      "NuHepMC.Provenance.NuWro.mec_back_to_back_smearing  0\n",
      "NuHepMC.Provenance.NuWro.mec_central_motion  0\n",
      "NuHepMC.Provenance.NuWro.mec_kind  3\n",
      "NuHepMC.Provenance.NuWro.mec_pb_trials  30\n",
      "NuHepMC.Provenance.NuWro.mec_ratio_pp  0.85\n",
      "NuHepMC.Provenance.NuWro.mec_ratio_ppp  0.8\n",
      "NuHepMC.Provenance.NuWro.mec_scaling  0\n",
      "NuHepMC.Provenance.NuWro.mixed_order  1\n",
      "NuHepMC.Provenance.NuWro.nucleus_E_b  34\n",
      "NuHepMC.Provenance.NuWro.nucleus_kf  220\n",
      "NuHepMC.Provenance.NuWro.nucleus_model  1\n",
      "NuHepMC.Provenance.NuWro.nucleus_n  22\n",
      "NuHepMC.Provenance.NuWro.nucleus_p  18\n",
      "NuHepMC.Provenance.NuWro.nucleus_target  2\n",
      "NuHepMC.Provenance.NuWro.number_of_events  100000\n",
      "NuHepMC.Provenance.NuWro.number_of_test_events  2000000\n",
      "NuHepMC.Provenance.NuWro.path_to_data \n",
      "NuHepMC.Provenance.NuWro.pauli_blocking  1\n",
      "NuHepMC.Provenance.NuWro.pion_C5A  1.19\n",
      "NuHepMC.Provenance.NuWro.pion_axial_mass  0.94\n",
      "NuHepMC.Provenance.NuWro.qel_axial_ff_set  1\n",
      "NuHepMC.Provenance.NuWro.qel_cc_axial_mass  1030\n",
      "NuHepMC.Provenance.NuWro.qel_cc_vector_mass  840\n",
      "NuHepMC.Provenance.NuWro.qel_kinematics  0\n",
      "NuHepMC.Provenance.NuWro.qel_nc_axial_mass  1030\n",
      "NuHepMC.Provenance.NuWro.qel_rpa  1\n",
      "NuHepMC.Provenance.NuWro.qel_s_axial_mass  1030\n",
      "NuHepMC.Provenance.NuWro.qel_strange  1\n",
      "NuHepMC.Provenance.NuWro.qel_strangeEM  0\n",
      "NuHepMC.Provenance.NuWro.qel_vector_ff_set  2\n",
      "NuHepMC.Provenance.NuWro.random_seed  1537\n",
      "NuHepMC.Provenance.NuWro.res_dis_cut  1600\n",
      "NuHepMC.Provenance.NuWro.save_test_events  0\n",
      "NuHepMC.Provenance.NuWro.sf_coulomb  1\n",
      "NuHepMC.Provenance.NuWro.sf_fsi  1\n",
      "NuHepMC.Provenance.NuWro.sf_method  0\n",
      "NuHepMC.Provenance.NuWro.sf_pb  1\n",
      "NuHepMC.Provenance.NuWro.spp_precision  500\n",
      "NuHepMC.Provenance.NuWro.step  0.2\n",
      "NuHepMC.Provenance.NuWro.target_content \n",
      "NuHepMC.Provenance.NuWro.target_type  0\n",
      "NuHepMC.Provenance.NuWro.tau  8\n",
      "NuHepMC.Provenance.NuWro.user_events  0\n",
      "NuHepMC.Provenance.NuWro.user_params \n",
      "NuHepMC.Units.CrossSection.TargetScale PerTargetNucleon\n",
      "NuHepMC.Units.CrossSection.Unit pb\n",
      "NuHepMC.Version.Major 0\n",
      "NuHepMC.Version.Minor 9\n",
      "NuHepMC.Version.Patch 0\n",
      "NuHepMC.VertexStatusIDs 1 2 21\n",
      "NuHepMC.VertexStatusInfo[1].Description The neutrino hard-scatter vertex\n",
      "NuHepMC.VertexStatusInfo[1].Name PrimaryVertex\n",
      "NuHepMC.VertexStatusInfo[21].Description Impulse approximation vertex that represents the separation of the single target nucleon from the target nucleus ground state.\n",
      "NuHepMC.VertexStatusInfo[21].Name NucleonSeparationVertex\n",
      "NuHepMC.VertexStatusInfo[2].Description A single vertex representing the cascade\n",
      "NuHepMC.VertexStatusInfo[2].Name FSIVertex\n",
      "________________________________________________________________________\n"
     ]
    }
   ],
   "source": [
    "hm3.Print.listing(nuevs.run_info())"
   ]
  },
  {
   "cell_type": "markdown",
   "id": "8aca66a7-7210-4a14-bdd9-ebd02fce78af",
   "metadata": {},
   "source": [
    "## Event Analysis\n",
    "\n",
    "So, you're now free to write your analysis with whatever tools you want! The native `pyHepMC3` bindings are pretty clunky, [Scikit-HEP](https://scikit-hep.org) includes some much more ergonomic bindings under the `pyhepmc` package. The only problem is that the python types are not compatible with the native bindings and so to use `pyhepmc` you need to read the file off disk with `pyhepmc.open` and not using the NUISANCE3 `eventinput` framework. We can use `eventinput` to do the initial conversion, write the converted file to disk and then do follow-up analysis with `pyhepmc`.\n",
    "\n",
    "Scikit-HEP has a bunch of really really useful tools, and I recommend taking a look at them and including them in your workflows."
   ]
  },
  {
   "cell_type": "code",
   "execution_count": 7,
   "id": "f05b1538-73d3-435d-8a11-dd12755c1e63",
   "metadata": {},
   "outputs": [],
   "source": [
    "wrtr = hm3.WriterAscii(\"NuWro.numu.BNB_uBooNE.100k.hepmc3\")\n",
    "for ev, _ in nuevs:\n",
    "    wrtr.write_event(ev)\n",
    "wrtr.close()"
   ]
  },
  {
   "cell_type": "code",
   "execution_count": 6,
   "id": "4466ea42-b04c-4174-b75d-4d66b19352d6",
   "metadata": {},
   "outputs": [
    {
     "name": "stdout",
     "output_type": "stream",
     "text": [
      "HepMC::Version 3.03.00\n",
      "HepMC::Asciiv3-START_EVENT_LISTING\n",
      "W CV\n",
      "T NuWro\\|UNKNOWN-VERSION\\|https://doi.org/10.1016/j.nuclphysbps.2012.09.136\n",
      "T nuwro2hepmc3\\|0.9\\|github.com/NuHepMC/nuwro2hepmc3\n",
      "A NuHepMC.Conventions G.C.1 G.C.2 G.C.5 G.C.4 E.C.1\n",
      "A NuHepMC.Exposure.NEvents 100000\n",
      "A NuHepMC.FluxAveragedTotalCrossSection 0.00942725837682904\n",
      "A NuHepMC.ParticleStatusIDs 1 2 3 4 20 21\n",
      "A NuHepMC.ParticleStatusInfo[1].Description Physical final state particles produced by this simulation\n",
      "A NuHepMC.ParticleStatusInfo[1].Name UndecayedPhysicalParticle\n",
      "A NuHepMC.ParticleStatusInfo[20].Description The target particle in the hard scatter\n",
      "A NuHepMC.ParticleStatusInfo[20].Name TargetParticle\n",
      "A NuHepMC.ParticleStatusInfo[21].Description The nucleon involved in the hard scatter\n",
      "A NuHepMC.ParticleStatusInfo[21].Name StruckNucleon\n",
      "A NuHepMC.ParticleStatusInfo[2].Description Particle was decayed by the simulation\n",
      "A NuHepMC.ParticleStatusInfo[2].Name DecayedPhysical\n",
      "A NuHepMC.ParticleStatusInfo[3].Description Documentation line, not considered a real particle\n",
      "A NuHepMC.ParticleStatusInfo[3].Name DocumentationLine\n",
      "A NuHepMC.ParticleStatusInfo[4].Description Incoming beam particle\n",
      "A NuHepMC.ParticleStatusInfo[4].Name IncomingBeamParticle\n",
      "A NuHepMC.ProcessIDs 100 150 200 201 250 251 300 350 400 450 500 550 600 650 700 750\n",
      "A NuHepMC.ProcessInfo[100].Description coherent\n",
      "A NuHepMC.ProcessInfo[100].Name CC coh\n",
      "A NuHepMC.ProcessInfo[150].Description coherent\n",
      "A NuHepMC.ProcessInfo[150].Name NC coh\n",
      "A NuHepMC.ProcessInfo[200].Description (quasi) elastic\n",
      "A NuHepMC.ProcessInfo[200].Name CC qel\n",
      "A NuHepMC.ProcessInfo[201].Description hyperon production\n",
      "A NuHepMC.ProcessInfo[201].Name CC hyp\n",
      "A NuHepMC.ProcessInfo[250].Description (quasi) elastic\n",
      "A NuHepMC.ProcessInfo[250].Name NC qel\n",
      "A NuHepMC.ProcessInfo[251].Description hyperon production\n",
      "A NuHepMC.ProcessInfo[251].Name NC hyp\n",
      "A NuHepMC.ProcessInfo[300].Description meson exhange current\n",
      "A NuHepMC.ProcessInfo[300].Name CC mec\n",
      "A NuHepMC.ProcessInfo[350].Description meson exhange current\n",
      "A NuHepMC.ProcessInfo[350].Name NC mec\n",
      "A NuHepMC.ProcessInfo[400].Description delta resonant\n",
      "A NuHepMC.ProcessInfo[400].Name CC res\n",
      "A NuHepMC.ProcessInfo[450].Description delta resonant\n",
      "A NuHepMC.ProcessInfo[450].Name NC res\n",
      "A NuHepMC.ProcessInfo[500].Description non-delta single pion\n",
      "A NuHepMC.ProcessInfo[500].Name CC non-delta SPP\n",
      "A NuHepMC.ProcessInfo[550].Description non-delta single pion\n",
      "A NuHepMC.ProcessInfo[550].Name NC non-delta SPP\n",
      "A NuHepMC.ProcessInfo[600].Description deep inelastic\n",
      "A NuHepMC.ProcessInfo[600].Name CC dis\n",
      "A NuHepMC.ProcessInfo[650].Description deep inelastic\n",
      "A NuHepMC.ProcessInfo[650].Name NC dis\n"
     ]
    }
   ],
   "source": [
    "%%bash\n",
    "head -50 NuWro.numu.BNB_uBooNE.100k.hepmc3"
   ]
  },
  {
   "cell_type": "code",
   "execution_count": 8,
   "id": "21e2d0e6-f383-4756-908e-b8949952752a",
   "metadata": {},
   "outputs": [
    {
     "name": "stdout",
     "output_type": "stream",
     "text": [
      "________________________________________________________________________\n",
      "GenEvent: #0\n",
      " Momentum units: MEV Position units: CM\n",
      " Entries in this event: 3 vertices, 11 particles, 1 weights.\n",
      " Position offset: 0, 0, 0, 0\n",
      "                                    GenParticle Legend\n",
      "         ID    PDG ID   ( px,       py,       pz,     E )   Stat ProdVtx\n",
      "________________________________________________________________________\n",
      "Vtx:     -1 stat:  21 (X,cT): 0\n",
      " I:       11000180400 +0.00e+00,+0.00e+00,+0.00e+00,+0.00e+00  20     0\n",
      " O:       22009900000 +0.00e+00,+0.00e+00,+0.00e+00,+0.00e+00   3    -1\n",
      "          3     2212 +1.70e+01,+4.43e+00,+1.04e+02,+9.44e+02  21    -1\n",
      "Vtx:     -2 stat:   1 (X,cT): 0\n",
      " I:       3     2212 +1.70e+01,+4.43e+00,+1.04e+02,+9.44e+02  21    -1\n",
      "          4       14 +0.00e+00,+0.00e+00,+6.90e+02,+6.90e+02   4     0\n",
      " O:       5       13 -4.59e+01,+1.04e+02,+1.46e+02,+2.13e+02   3    -2\n",
      "          6      211 +1.12e+02,+9.88e+01,+2.97e+02,+3.61e+02   3    -2\n",
      "          7     2212 -4.91e+01,-1.98e+02,+3.51e+02,+1.02e+03   3    -2\n",
      "Vtx:     -3 stat:   2 (X,cT): 0\n",
      " I:       22009900000 +0.00e+00,+0.00e+00,+0.00e+00,+0.00e+00   3    -1\n",
      "          5       13 -4.59e+01,+1.04e+02,+1.46e+02,+2.13e+02   3    -2\n",
      "          6      211 +1.12e+02,+9.88e+01,+2.97e+02,+3.61e+02   3    -2\n",
      "          7     2212 -4.91e+01,-1.98e+02,+3.51e+02,+1.02e+03   3    -2\n",
      " O:       82009900000 +0.00e+00,+0.00e+00,+0.00e+00,+0.00e+00   1    -3\n",
      "          9       13 -4.59e+01,+1.04e+02,+1.46e+02,+2.13e+02   1    -3\n",
      "         10     2212 -3.61e+01,-1.46e+02,+2.58e+02,+9.85e+02   1    -3\n",
      "         11      211 +1.12e+02,+9.88e+01,+2.97e+02,+3.61e+02   1    -3\n",
      "________________________________________________________________________\n",
      "\n"
     ]
    }
   ],
   "source": [
    "import pyhepmc\n",
    "\n",
    "with pyhepmc.open(\"NuWro.numu.BNB_uBooNE.100k.hepmc3\") as rdr:\n",
    "    ev = rdr.read()\n",
    "print(ev)"
   ]
  },
  {
   "cell_type": "code",
   "execution_count": 9,
   "id": "b76b1b04-1c92-400a-ab5d-271f6e761b9d",
   "metadata": {},
   "outputs": [
    {
     "data": {
      "text/html": [
       "<?xml version=\"1.0\" encoding=\"UTF-8\" standalone=\"no\"?>\n",
       "<!DOCTYPE svg PUBLIC \"-//W3C//DTD SVG 1.1//EN\"\n",
       " \"http://www.w3.org/Graphics/SVG/1.1/DTD/svg11.dtd\">\n",
       "<!-- Generated by graphviz version 2.44.0 (0)\n",
       " -->\n",
       "<!-- Title: NuWro&#45;UNKNOWN&#45;VERSION\n",
       "nuwro2hepmc3&#45;0.9\n",
       "event number = 0 Pages: 1 -->\n",
       "<svg width=\"576pt\" height=\"122pt\"\n",
       " viewBox=\"0.00 0.00 576.00 121.97\" xmlns=\"http://www.w3.org/2000/svg\" xmlns:xlink=\"http://www.w3.org/1999/xlink\">\n",
       "<g id=\"graph0\" class=\"graph\" transform=\"scale(0.74 0.74) rotate(0) translate(4 161.25)\">\n",
       "<title>NuWro&#45;UNKNOWN&#45;VERSION\n",
       "nuwro2hepmc3&#45;0.9\n",
       "event number = 0</title>\n",
       "<polygon fill=\"white\" stroke=\"transparent\" points=\"-4,4 -4,-161.25 776.4,-161.25 776.4,4 -4,4\"/>\n",
       "<!-- &#45;1 -->\n",
       "<g id=\"node1\" class=\"node\">\n",
       "<title>&#45;1</title>\n",
       "<g id=\"a_node1\"><a xlink:title=\"FourVector(0, 0, 0, 0) mm&#10;status = 21\">\n",
       "<ellipse fill=\"black\" stroke=\"black\" cx=\"116.4\" cy=\"-78.25\" rx=\"1.8\" ry=\"1.8\"/>\n",
       "</a>\n",
       "</g>\n",
       "</g>\n",
       "<!-- &#45;2 -->\n",
       "<g id=\"node2\" class=\"node\">\n",
       "<title>&#45;2</title>\n",
       "<g id=\"a_node2\"><a xlink:title=\"FourVector(0, 0, 0, 0) mm&#10;status = 1\">\n",
       "<ellipse fill=\"black\" stroke=\"black\" cx=\"347.7\" cy=\"-96.25\" rx=\"1.8\" ry=\"1.8\"/>\n",
       "</a>\n",
       "</g>\n",
       "</g>\n",
       "<!-- &#45;1&#45;&gt;&#45;2 -->\n",
       "<g id=\"edge3\" class=\"edge\">\n",
       "<title>&#45;1&#45;&gt;&#45;2</title>\n",
       "<g id=\"a_edge3\"><a xlink:title=\"PDGID = 2212&#10;FourVector(17, 4.43, 104, 944) GeV&#10;m = 938.3 GeV&#10;status = 21\">\n",
       "<path fill=\"none\" stroke=\"black\" stroke-width=\"3.69\" d=\"M118.42,-78.33C134.32,-79.58 330.46,-94.97 345.76,-96.17\"/>\n",
       "</a>\n",
       "</g>\n",
       "<g id=\"a_edge3&#45;label\"><a xlink:title=\"PDGID = 2212&#10;FourVector(17, 4.43, 104, 944) GeV&#10;m = 938.3 GeV&#10;status = 21\">\n",
       "<text text-anchor=\"middle\" x=\"184.7\" y=\"-91.05\" font-family=\"Times-Roman\" font-size=\"14.00\">p 0.94 GeV</text>\n",
       "</a>\n",
       "</g>\n",
       "</g>\n",
       "<!-- &#45;3 -->\n",
       "<g id=\"node3\" class=\"node\">\n",
       "<title>&#45;3</title>\n",
       "<g id=\"a_node3\"><a xlink:title=\"FourVector(0, 0, 0, 0) mm&#10;status = 2\">\n",
       "<ellipse fill=\"black\" stroke=\"black\" cx=\"538\" cy=\"-77.25\" rx=\"1.8\" ry=\"1.8\"/>\n",
       "</a>\n",
       "</g>\n",
       "</g>\n",
       "<!-- &#45;1&#45;&gt;&#45;3 -->\n",
       "<g id=\"edge2\" class=\"edge\">\n",
       "<title>&#45;1&#45;&gt;&#45;3</title>\n",
       "<g id=\"a_edge2\"><a xlink:title=\"PDGID = 2009900000&#10;FourVector(0, 0, 0, 0) GeV&#10;m = 0 GeV&#10;status = 3\">\n",
       "<path fill=\"none\" stroke=\"black\" stroke-width=\"0.5\" d=\"M118.42,-78.12C121.24,-77.77 129.39,-76.79 136.2,-76.25 187.22,-72.21 200.04,-71.58 251.2,-70.25 336.95,-68.01 358.47,-67.35 444.2,-70.25 477.15,-71.36 485.36,-72.39 518.2,-75.25 525,-75.84 533.16,-76.79 535.98,-77.12\"/>\n",
       "</a>\n",
       "</g>\n",
       "<g id=\"a_edge2&#45;label\"><a xlink:title=\"PDGID = 2009900000&#10;FourVector(0, 0, 0, 0) GeV&#10;m = 0 GeV&#10;status = 3\">\n",
       "<text text-anchor=\"middle\" x=\"347.7\" y=\"-74.05\" font-family=\"Times-Roman\" font-size=\"14.00\">PDGID(2009900000) 0 MeV</text>\n",
       "</a>\n",
       "</g>\n",
       "</g>\n",
       "<!-- &#45;2&#45;&gt;&#45;3 -->\n",
       "<g id=\"edge5\" class=\"edge\">\n",
       "<title>&#45;2&#45;&gt;&#45;3</title>\n",
       "<g id=\"a_edge5\"><a xlink:title=\"PDGID = 2212&#10;FourVector(&#45;49.1, &#45;198, 351, 1.02e+03) GeV&#10;m = 938.3 GeV&#10;status = 3\">\n",
       "<path fill=\"none\" stroke=\"black\" stroke-width=\"4\" d=\"M349.54,-96.16C362.49,-94.86 521.05,-78.86 535.89,-77.36\"/>\n",
       "</a>\n",
       "</g>\n",
       "<g id=\"a_edge5&#45;label\"><a xlink:title=\"PDGID = 2212&#10;FourVector(&#45;49.1, &#45;198, 351, 1.02e+03) GeV&#10;m = 938.3 GeV&#10;status = 3\">\n",
       "<text text-anchor=\"middle\" x=\"490.2\" y=\"-89.05\" font-family=\"Times-Roman\" font-size=\"14.00\">p 1 GeV</text>\n",
       "</a>\n",
       "</g>\n",
       "</g>\n",
       "<!-- out_8 -->\n",
       "<!-- &#45;3&#45;&gt;out_8 -->\n",
       "<g id=\"edge6\" class=\"edge\">\n",
       "<title>&#45;3&#45;&gt;out_8</title>\n",
       "<g id=\"a_edge6\"><a xlink:title=\"PDGID = 2009900000&#10;FourVector(0, 0, 0, 0) GeV&#10;m = 0 GeV&#10;status = 1\">\n",
       "<path fill=\"none\" stroke=\"black\" stroke-width=\"0.5\" d=\"M539.26,-78.63C540.37,-84.02 545.2,-103.8 557.8,-112.25 622.77,-155.81 725.03,-142.39 758.56,-136.42\"/>\n",
       "<polygon fill=\"black\" stroke=\"black\" stroke-width=\"0.5\" points=\"759.6,-139.79 768.74,-134.44 758.26,-132.92 759.6,-139.79\"/>\n",
       "</a>\n",
       "</g>\n",
       "<g id=\"a_edge6&#45;label\"><a xlink:title=\"PDGID = 2009900000&#10;FourVector(0, 0, 0, 0) GeV&#10;m = 0 GeV&#10;status = 1\">\n",
       "<text text-anchor=\"middle\" x=\"654.3\" y=\"-146.05\" font-family=\"Times-Roman\" font-size=\"14.00\">PDGID(2009900000) 0 MeV</text>\n",
       "</a>\n",
       "</g>\n",
       "</g>\n",
       "<!-- out_9 -->\n",
       "<!-- &#45;3&#45;&gt;out_9 -->\n",
       "<g id=\"edge7\" class=\"edge\">\n",
       "<title>&#45;3&#45;&gt;out_9</title>\n",
       "<g id=\"a_edge7\"><a xlink:title=\"PDGID = 13&#10;FourVector(&#45;45.9, 104, 146, 213) GeV&#10;m = 105.7 GeV&#10;status = 1\">\n",
       "<path fill=\"none\" stroke=\"black\" stroke-width=\"0.83\" d=\"M540.03,-77.33C554.36,-78.51 714.37,-91.7 758.43,-95.33\"/>\n",
       "<polygon fill=\"black\" stroke=\"black\" stroke-width=\"0.83\" points=\"758.4,-98.84 768.65,-96.17 758.97,-91.86 758.4,-98.84\"/>\n",
       "</a>\n",
       "</g>\n",
       "<g id=\"a_edge7&#45;label\"><a xlink:title=\"PDGID = 13&#10;FourVector(&#45;45.9, 104, 146, 213) GeV&#10;m = 105.7 GeV&#10;status = 1\">\n",
       "<text text-anchor=\"middle\" x=\"654.3\" y=\"-99.05\" font-family=\"Times-Roman\" font-size=\"14.00\">μ⁻ 0.21 GeV</text>\n",
       "</a>\n",
       "</g>\n",
       "</g>\n",
       "<!-- out_10 -->\n",
       "<!-- &#45;3&#45;&gt;out_10 -->\n",
       "<g id=\"edge8\" class=\"edge\">\n",
       "<title>&#45;3&#45;&gt;out_10</title>\n",
       "<g id=\"a_edge8\"><a xlink:title=\"PDGID = 2212&#10;FourVector(&#45;36.1, &#45;146, 258, 985) GeV&#10;m = 938.3 GeV&#10;status = 1\">\n",
       "<path fill=\"none\" stroke=\"black\" stroke-width=\"3.85\" d=\"M539.59,-76.38C541.65,-73.43 548.95,-63.7 557.8,-60.25 629.95,-32.07 726.76,-48.91 758.8,-55.76\"/>\n",
       "<polygon fill=\"black\" stroke=\"black\" stroke-width=\"3.85\" points=\"758.27,-59.23 768.8,-58.04 759.83,-52.4 758.27,-59.23\"/>\n",
       "</a>\n",
       "</g>\n",
       "<g id=\"a_edge8&#45;label\"><a xlink:title=\"PDGID = 2212&#10;FourVector(&#45;36.1, &#45;146, 258, 985) GeV&#10;m = 938.3 GeV&#10;status = 1\">\n",
       "<text text-anchor=\"middle\" x=\"654.3\" y=\"-64.05\" font-family=\"Times-Roman\" font-size=\"14.00\">p 0.98 GeV</text>\n",
       "</a>\n",
       "</g>\n",
       "</g>\n",
       "<!-- out_11 -->\n",
       "<!-- &#45;3&#45;&gt;out_11 -->\n",
       "<g id=\"edge9\" class=\"edge\">\n",
       "<title>&#45;3&#45;&gt;out_11</title>\n",
       "<g id=\"a_edge9\"><a xlink:title=\"PDGID = 211&#10;FourVector(112, 98.8, 297, 361) GeV&#10;m = 139.6 GeV&#10;status = 1\">\n",
       "<path fill=\"none\" stroke=\"black\" stroke-width=\"1.41\" d=\"M539,-75.63C539.11,-68.38 540.63,-38.58 557.8,-26.25 621.3,19.37 725.36,-6.62 758.85,-16.76\"/>\n",
       "<polygon fill=\"black\" stroke=\"black\" stroke-width=\"1.41\" points=\"758.14,-20.21 768.73,-19.94 760.28,-13.55 758.14,-20.21\"/>\n",
       "</a>\n",
       "</g>\n",
       "<g id=\"a_edge9&#45;label\"><a xlink:title=\"PDGID = 211&#10;FourVector(112, 98.8, 297, 361) GeV&#10;m = 139.6 GeV&#10;status = 1\">\n",
       "<text text-anchor=\"middle\" x=\"654.3\" y=\"-30.05\" font-family=\"Times-Roman\" font-size=\"14.00\">π⁺ 0.36 GeV</text>\n",
       "</a>\n",
       "</g>\n",
       "</g>\n",
       "<!-- in_1 -->\n",
       "<!-- in_1&#45;&gt;&#45;1 -->\n",
       "<g id=\"edge1\" class=\"edge\">\n",
       "<title>in_1&#45;&gt;&#45;1</title>\n",
       "<g id=\"a_edge1\"><a xlink:title=\"PDGID = 1000180400&#10;FourVector(0, 0, 0, 0) GeV&#10;m = 0 GeV&#10;status = 20\">\n",
       "<path fill=\"none\" stroke=\"black\" stroke-width=\"0.5\" d=\"M4.06,-78.25C13.85,-78.25 77.82,-78.25 104.13,-78.25\"/>\n",
       "<polygon fill=\"black\" stroke=\"black\" stroke-width=\"0.5\" points=\"104.29,-81.75 114.29,-78.25 104.29,-74.75 104.29,-81.75\"/>\n",
       "</a>\n",
       "</g>\n",
       "<g id=\"a_edge1&#45;label\"><a xlink:title=\"PDGID = 1000180400&#10;FourVector(0, 0, 0, 0) GeV&#10;m = 0 GeV&#10;status = 20\">\n",
       "<text text-anchor=\"middle\" x=\"59.1\" y=\"-82.05\" font-family=\"Times-Roman\" font-size=\"14.00\">⁴⁰Ar 0 MeV</text>\n",
       "</a>\n",
       "</g>\n",
       "</g>\n",
       "<!-- in_4 -->\n",
       "<!-- in_4&#45;&gt;&#45;2 -->\n",
       "<g id=\"edge4\" class=\"edge\">\n",
       "<title>in_4&#45;&gt;&#45;2</title>\n",
       "<g id=\"a_edge4\"><a xlink:title=\"PDGID = 14&#10;FourVector(0, 0, 690, 690) GeV&#10;m = 0 GeV&#10;status = 4\">\n",
       "<path fill=\"none\" stroke=\"black\" stroke-width=\"2.7\" d=\"M118.42,-132.09C132.7,-129.84 292.47,-104.76 335.88,-97.95\"/>\n",
       "<polygon fill=\"black\" stroke=\"black\" stroke-width=\"2.7\" points=\"336.42,-101.4 345.76,-96.4 335.33,-94.49 336.42,-101.4\"/>\n",
       "</a>\n",
       "</g>\n",
       "<g id=\"a_edge4&#45;label\"><a xlink:title=\"PDGID = 14&#10;FourVector(0, 0, 690, 690) GeV&#10;m = 0 GeV&#10;status = 4\">\n",
       "<text text-anchor=\"middle\" x=\"184.7\" y=\"-132.05\" font-family=\"Times-Roman\" font-size=\"14.00\">ν(μ) 0.69 GeV</text>\n",
       "</a>\n",
       "</g>\n",
       "</g>\n",
       "</g>\n",
       "</svg>\n"
      ],
      "text/plain": [
       "<GenEvent momentum_unit=0, length_unit=1, event_number=0, particles=11, vertices=3, run_info=GenRunInfo(tools=[ToolInfo(name='NuWro', version='UNKNOWN-VERSION', description='https://doi.org/10.1016/j.nuclphysbps.2012.09.136'), ToolInfo(name='nuwro2hepmc3', version='0.9', description='github.com/NuHepMC/nuwro2hepmc3')], weight_names=['CV'], attributes={NuHepMC.Conventions: G.C.1 G.C.2 G.C.5 G.C.4 E.C.1, NuHepMC.Exposure.NEvents: 100000, NuHepMC.FluxAveragedTotalCrossSection: 0.00942725837682904, NuHepMC.ParticleStatusIDs: 1 2 3 4 20 21, NuHepMC.ParticleStatusInfo[1].Description: Physical final state particles produced by this simulation, NuHepMC.ParticleStatusInfo[1].Name: UndecayedPhysicalParticle, NuHepMC.ParticleStatusInfo[20].Description: The target particle in the hard scatter, NuHepMC.ParticleStatusInfo[20].Name: TargetParticle, NuHepMC.ParticleStatusInfo[21].Description: The nucleon involved in the hard scatter, NuHepMC.ParticleStatusInfo[21].Name: StruckNucleon, NuHepMC.ParticleStatusInfo[2].Description: Particle was decayed by the simulation, NuHepMC.ParticleStatusInfo[2].Name: DecayedPhysical, NuHepMC.ParticleStatusInfo[3].Description: Documentation line, not considered a real particle, NuHepMC.ParticleStatusInfo[3].Name: DocumentationLine, NuHepMC.ParticleStatusInfo[4].Description: Incoming beam particle, NuHepMC.ParticleStatusInfo[4].Name: IncomingBeamParticle, NuHepMC.ProcessIDs: 100 150 200 201 250 251 300 350 400 450 500 550 600 650 700 750, NuHepMC.ProcessInfo[100].Description: coherent, NuHepMC.ProcessInfo[100].Name: CC coh, NuHepMC.ProcessInfo[150].Description: coherent, NuHepMC.ProcessInfo[150].Name: NC coh, NuHepMC.ProcessInfo[200].Description: (quasi) elastic, NuHepMC.ProcessInfo[200].Name: CC qel, NuHepMC.ProcessInfo[201].Description: hyperon production, NuHepMC.ProcessInfo[201].Name: CC hyp, NuHepMC.ProcessInfo[250].Description: (quasi) elastic, NuHepMC.ProcessInfo[250].Name: NC qel, NuHepMC.ProcessInfo[251].Description: hyperon production, NuHepMC.ProcessInfo[251].Name: NC hyp, NuHepMC.ProcessInfo[300].Description: meson exhange current, NuHepMC.ProcessInfo[300].Name: CC mec, NuHepMC.ProcessInfo[350].Description: meson exhange current, NuHepMC.ProcessInfo[350].Name: NC mec, NuHepMC.ProcessInfo[400].Description: delta resonant, NuHepMC.ProcessInfo[400].Name: CC res, NuHepMC.ProcessInfo[450].Description: delta resonant, NuHepMC.ProcessInfo[450].Name: NC res, NuHepMC.ProcessInfo[500].Description: non-delta single pion, NuHepMC.ProcessInfo[500].Name: CC non-delta SPP, NuHepMC.ProcessInfo[550].Description: non-delta single pion, NuHepMC.ProcessInfo[550].Name: NC non-delta SPP, NuHepMC.ProcessInfo[600].Description: deep inelastic, NuHepMC.ProcessInfo[600].Name: CC dis, NuHepMC.ProcessInfo[650].Description: deep inelastic, NuHepMC.ProcessInfo[650].Name: NC dis, NuHepMC.ProcessInfo[700].Description: neutrino-lepton, NuHepMC.ProcessInfo[700].Name: CC lep, NuHepMC.ProcessInfo[750].Description: neutrino-lepton, NuHepMC.ProcessInfo[750].Name: NC lep, NuHepMC.Provenance.NuWro.MEC_cm_direction:  0, NuHepMC.Provenance.NuWro.MEC_pauli_blocking:  1, NuHepMC.Provenance.NuWro.beam_atmo_files: , NuHepMC.Provenance.NuWro.beam_content: , NuHepMC.Provenance.NuWro.beam_direction:  0 0 1, NuHepMC.Provenance.NuWro.beam_energy:  1000, NuHepMC.Provenance.NuWro.beam_file_first:  1, NuHepMC.Provenance.NuWro.beam_file_limit:  0, NuHepMC.Provenance.NuWro.beam_folder:  flux, NuHepMC.Provenance.NuWro.beam_inputroot:  /opt/nuisance/git_master/data/flux/bin_content_is_rate/BNB_uBooNE_numu_flux_2019.root, NuHepMC.Provenance.NuWro.beam_inputroot_flux:  numu, NuHepMC.Provenance.NuWro.beam_inputroot_nue:  , NuHepMC.Provenance.NuWro.beam_inputroot_nueb:  , NuHepMC.Provenance.NuWro.beam_inputroot_numu:  , NuHepMC.Provenance.NuWro.beam_inputroot_numub:  , NuHepMC.Provenance.NuWro.beam_inputroot_nutau:  , NuHepMC.Provenance.NuWro.beam_inputroot_nutaub:  , NuHepMC.Provenance.NuWro.beam_length_units:  cm, NuHepMC.Provenance.NuWro.beam_offset:  0 0 0, NuHepMC.Provenance.NuWro.beam_particle:  14, NuHepMC.Provenance.NuWro.beam_placement:  0, NuHepMC.Provenance.NuWro.beam_pot_per_file:  -1, NuHepMC.Provenance.NuWro.beam_test_only:  0, NuHepMC.Provenance.NuWro.beam_type:  5, NuHepMC.Provenance.NuWro.beam_weighted:  0, NuHepMC.Provenance.NuWro.bkgrscaling:  0, NuHepMC.Provenance.NuWro.cc_smoothing:  0, NuHepMC.Provenance.NuWro.coh_kind:  2, NuHepMC.Provenance.NuWro.coh_mass_correction:  1, NuHepMC.Provenance.NuWro.coh_new:  1, NuHepMC.Provenance.NuWro.delta_FF_set:  1, NuHepMC.Provenance.NuWro.delta_angular:  2, NuHepMC.Provenance.NuWro.delta_s:  0, NuHepMC.Provenance.NuWro.delta_selfenergy:  0, NuHepMC.Provenance.NuWro.dyn_coh_cc:  1, NuHepMC.Provenance.NuWro.dyn_coh_nc:  1, NuHepMC.Provenance.NuWro.dyn_dis_cc:  1, NuHepMC.Provenance.NuWro.dyn_dis_nc:  1, NuHepMC.Provenance.NuWro.dyn_hyp_cc:  1, NuHepMC.Provenance.NuWro.dyn_lep:  1, NuHepMC.Provenance.NuWro.dyn_mec_cc:  1, NuHepMC.Provenance.NuWro.dyn_mec_nc:  1, NuHepMC.Provenance.NuWro.dyn_qel_cc:  1, NuHepMC.Provenance.NuWro.dyn_qel_el:  0, NuHepMC.Provenance.NuWro.dyn_qel_nc:  1, NuHepMC.Provenance.NuWro.dyn_res_cc:  1, NuHepMC.Provenance.NuWro.dyn_res_el:  0, NuHepMC.Provenance.NuWro.dyn_res_nc:  1, NuHepMC.Provenance.NuWro.e_spp_ff_set:  4, NuHepMC.Provenance.NuWro.eel_alg:  old, NuHepMC.Provenance.NuWro.el_costh_del:  1, NuHepMC.Provenance.NuWro.el_costh_lab:  0.5, NuHepMC.Provenance.NuWro.first_step:  1, NuHepMC.Provenance.NuWro.flux_correction:  0, NuHepMC.Provenance.NuWro.formation_length:  1, NuHepMC.Provenance.NuWro.formation_zone:  fz-new, NuHepMC.Provenance.NuWro.geo_d:  2000 2000 5000, NuHepMC.Provenance.NuWro.geo_file:  target/ND280_v9r7p5.root, NuHepMC.Provenance.NuWro.geo_name:  ND280Geometry_v9r7p5, NuHepMC.Provenance.NuWro.geo_o:  0 0 0, NuHepMC.Provenance.NuWro.geo_volume:  , NuHepMC.Provenance.NuWro.geom_density_convert:  1, NuHepMC.Provenance.NuWro.geom_length_units:  cm, NuHepMC.Provenance.NuWro.hyp_Lambda_Eb:  27, NuHepMC.Provenance.NuWro.hyp_Sigma_Eb:  -70, NuHepMC.Provenance.NuWro.hyp_axial_mass:  1030, NuHepMC.Provenance.NuWro.hyp_effmass:  1, NuHepMC.Provenance.NuWro.hyp_g2_Im_part:  0, NuHepMC.Provenance.NuWro.hyp_g2_Re_part:  0, NuHepMC.Provenance.NuWro.hyp_lambda:  1, NuHepMC.Provenance.NuWro.hyp_sigma_minus:  1, NuHepMC.Provenance.NuWro.hyp_sigma_zero:  1, NuHepMC.Provenance.NuWro.hyp_su3_sym_breaking:  0, NuHepMC.Provenance.NuWro.kaskada_NN_angle:  3, NuHepMC.Provenance.NuWro.kaskada_NN_corr:  1, NuHepMC.Provenance.NuWro.kaskada_NN_inel:  2, NuHepMC.Provenance.NuWro.kaskada_NN_mfp_scale:  1, NuHepMC.Provenance.NuWro.kaskada_NN_xsec:  2, NuHepMC.Provenance.NuWro.kaskada_on:  1, NuHepMC.Provenance.NuWro.kaskada_piN_xsec:  1, NuHepMC.Provenance.NuWro.kaskada_redo:  0, NuHepMC.Provenance.NuWro.kaskada_w:  7, NuHepMC.Provenance.NuWro.kaskada_writeall:  0, NuHepMC.Provenance.NuWro.mec_back_to_back_smearing:  0, NuHepMC.Provenance.NuWro.mec_central_motion:  0, NuHepMC.Provenance.NuWro.mec_kind:  3, NuHepMC.Provenance.NuWro.mec_pb_trials:  30, NuHepMC.Provenance.NuWro.mec_ratio_pp:  0.85, NuHepMC.Provenance.NuWro.mec_ratio_ppp:  0.8, NuHepMC.Provenance.NuWro.mec_scaling:  0, NuHepMC.Provenance.NuWro.mixed_order:  1, NuHepMC.Provenance.NuWro.nucleus_E_b:  34, NuHepMC.Provenance.NuWro.nucleus_kf:  220, NuHepMC.Provenance.NuWro.nucleus_model:  1, NuHepMC.Provenance.NuWro.nucleus_n:  22, NuHepMC.Provenance.NuWro.nucleus_p:  18, NuHepMC.Provenance.NuWro.nucleus_target:  2, NuHepMC.Provenance.NuWro.number_of_events:  100000, NuHepMC.Provenance.NuWro.number_of_test_events:  2000000, NuHepMC.Provenance.NuWro.path_to_data: , NuHepMC.Provenance.NuWro.pauli_blocking:  1, NuHepMC.Provenance.NuWro.pion_C5A:  1.19, NuHepMC.Provenance.NuWro.pion_axial_mass:  0.94, NuHepMC.Provenance.NuWro.qel_axial_ff_set:  1, NuHepMC.Provenance.NuWro.qel_cc_axial_mass:  1030, NuHepMC.Provenance.NuWro.qel_cc_vector_mass:  840, NuHepMC.Provenance.NuWro.qel_kinematics:  0, NuHepMC.Provenance.NuWro.qel_nc_axial_mass:  1030, NuHepMC.Provenance.NuWro.qel_rpa:  1, NuHepMC.Provenance.NuWro.qel_s_axial_mass:  1030, NuHepMC.Provenance.NuWro.qel_strange:  1, NuHepMC.Provenance.NuWro.qel_strangeEM:  0, NuHepMC.Provenance.NuWro.qel_vector_ff_set:  2, NuHepMC.Provenance.NuWro.random_seed:  1537, NuHepMC.Provenance.NuWro.res_dis_cut:  1600, NuHepMC.Provenance.NuWro.save_test_events:  0, NuHepMC.Provenance.NuWro.sf_coulomb:  1, NuHepMC.Provenance.NuWro.sf_fsi:  1, NuHepMC.Provenance.NuWro.sf_method:  0, NuHepMC.Provenance.NuWro.sf_pb:  1, NuHepMC.Provenance.NuWro.spp_precision:  500, NuHepMC.Provenance.NuWro.step:  0.2, NuHepMC.Provenance.NuWro.target_content: , NuHepMC.Provenance.NuWro.target_type:  0, NuHepMC.Provenance.NuWro.tau:  8, NuHepMC.Provenance.NuWro.user_events:  0, NuHepMC.Provenance.NuWro.user_params: , NuHepMC.Units.CrossSection.TargetScale: PerTargetNucleon, NuHepMC.Units.CrossSection.Unit: pb, NuHepMC.Version.Major: 0, NuHepMC.Version.Minor: 9, NuHepMC.Version.Patch: 0, NuHepMC.VertexStatusIDs: 1 2 21, NuHepMC.VertexStatusInfo[1].Description: The neutrino hard-scatter vertex, NuHepMC.VertexStatusInfo[1].Name: PrimaryVertex, NuHepMC.VertexStatusInfo[21].Description: Impulse approximation vertex that represents the separation of the single target nucleon from the target nucleus ground state., NuHepMC.VertexStatusInfo[21].Name: NucleonSeparationVertex, NuHepMC.VertexStatusInfo[2].Description: A single vertex representing the cascade, NuHepMC.VertexStatusInfo[2].Name: FSIVertex})>"
      ]
     },
     "execution_count": 9,
     "metadata": {},
     "output_type": "execute_result"
    }
   ],
   "source": [
    "ev"
   ]
  },
  {
   "cell_type": "markdown",
   "id": "5ccb1313-f38c-49fe-acad-fef5e32975d7",
   "metadata": {},
   "source": [
    "For this tutorial, I will mainly use `pyProSelecta` tooling, but now that you can loop on events and get them in a common format, you are welcome to write analyses however you want. The main aim of NUISANCE3 is interoperability.\n",
    "\n",
    "ProSelecta is a framework for writing declarative event selection and projection operators in C++. It provides a minimal set of 'helper' functions to achieve this, they are broken down into three categories:\n",
    "\n",
    "* event: Search events for particles by pdg MC codes\n",
    "* part: Operates on particles or lists thereof\n",
    "* vect: Some additional 3-vector functions supplementing HepMC3::FourVector\n",
    "\n",
    "More details [here](https://github.com/NUISANCEMC/ProSelecta/blob/main/README.md).\n",
    "\n",
    "I'm not going to step through this step-by-step, I'm just going to give an example of how we can convert an event stream into selected and projected tabular data (think 'flat tree') for onward analysis. First a simple example in 'pure' python, and then a more involved example leveraging cling to JIT some C++ for us."
   ]
  },
  {
   "cell_type": "code",
   "execution_count": 4,
   "id": "cd4c1389-1d41-479f-9918-d9ec9ae282f4",
   "metadata": {},
   "outputs": [],
   "source": [
    "import pyProSelecta as pps\n",
    "\n",
    "def sel_cc0pi(ev):\n",
    "    if not pps.event.has_beam_part(ev,14):\n",
    "        return False\n",
    "    beam_numu = pps.event.beam_part(ev,14)\n",
    "    \n",
    "    num_out_part = pps.event.num_out_part(ev)\n",
    "    num_out_nucleons = pps.event.num_out_part(ev, 2212) + pps.event.num_out_part(ev, 2112)\n",
    "    num_out_muon = pps.event.num_out_part(ev, 13)\n",
    "\n",
    "    return num_out_part == (num_out_nucleons + num_out_muon)\n",
    "        \n",
    "\n",
    "def enu_plep_gev(ev):\n",
    "    vals = [pps.kMissingDatum, pps.kMissingDatum]\n",
    "\n",
    "    if pps.event.has_beam_part(ev,14):\n",
    "        vals[0] = pps.event.beam_part(ev,14).momentum().e() / pps.unit.GeV\n",
    "\n",
    "    if pps.event.has_out_part(ev,13):\n",
    "        vals[1] = pps.event.hm_out_part(ev,13).momentum().e() / pps.unit.GeV\n",
    "\n",
    "    return vals"
   ]
  },
  {
   "cell_type": "markdown",
   "id": "c1986acf-94df-43b1-80c7-0225d57b3436",
   "metadata": {},
   "source": [
    "ProSelecta has a very 'look before you leap' philosophy. The API aims to never return a nullptr and so if you try and fetch a particle without safetly checking that the particle exists, it will throw an exception.\n",
    "\n",
    "Additionally, projection functions that return multiple projections should always return the same number of projections, with invalid entries set to `pps.kMissingDatum`. This enables clean columnar data with clearly-flagged unfilled entries.\n",
    "\n",
    "Lets test these functions on a few events.\n",
    "\n",
    "**N.B.** ProSelecta works with the `pyHepMC3` bindings and not the `pyhepmc` bindings, we will use the `eventinput` that we set up earlier."
   ]
  },
  {
   "cell_type": "code",
   "execution_count": 7,
   "id": "a3ee5cd0-f633-414b-bcad-6abdb7339bf3",
   "metadata": {},
   "outputs": [
    {
     "name": "stdout",
     "output_type": "stream",
     "text": [
      "event 0 with weight 1.0, is CC0Pi? False, with enu = 0.69 GeV, and plep = 0.21 GeV\n",
      "event 1 with weight 1.0, is CC0Pi? False, with enu = 0.40 GeV\n",
      "event 2 with weight 1.0, is CC0Pi? False, with enu = 1.07 GeV, and plep = 0.25 GeV\n",
      "event 3 with weight 1.0, is CC0Pi? False, with enu = 1.25 GeV, and plep = 0.57 GeV\n",
      "event 4 with weight 1.0, is CC0Pi? True, with enu = 0.38 GeV, and plep = 0.20 GeV\n",
      "event 5 with weight 1.0, is CC0Pi? True, with enu = 0.45 GeV, and plep = 0.39 GeV\n"
     ]
    }
   ],
   "source": [
    "for i, (ev, cvw) in enumerate(nuevs):\n",
    "    sel = sel_cc0pi(ev)\n",
    "    vals = enu_plep_gev(ev)\n",
    "    if vals[1] != pps.kMissingDatum:\n",
    "        print(f\"event {i} with weight {cvw}, is CC0Pi? {sel}, with enu = {vals[0]:.2f} GeV, and plep = {vals[1]:.2f} GeV\")\n",
    "    else:\n",
    "        print(f\"event {i} with weight {cvw}, is CC0Pi? {sel}, with enu = {vals[0]:.2f} GeV\")\n",
    "    if i >= 5:\n",
    "        break"
   ]
  },
  {
   "cell_type": "markdown",
   "id": "ee79376d-1edf-4025-99a8-42723723f770",
   "metadata": {},
   "source": [
    "Now to produce a table of all selected events from the input file."
   ]
  },
  {
   "cell_type": "code",
   "execution_count": 12,
   "id": "b95150ee-561e-4851-885b-d631c706f466",
   "metadata": {},
   "outputs": [],
   "source": [
    "ev_frame = pn.EventFrameGen(nuevs).filter(sel_cc0pi).add_columns([\"enu\",\"plep\"], enu_plep_gev).all()"
   ]
  },
  {
   "cell_type": "code",
   "execution_count": 13,
   "id": "554b7eea-7bdd-46b2-b0d8-d180ed89a56d",
   "metadata": {},
   "outputs": [
    {
     "name": "stdout",
     "output_type": "stream",
     "text": [
      " -----------------------------------------------------------\n",
      " | event.number | weight.cv | process.id |    enu |   plep |\n",
      " -----------------------------------------------------------\n",
      " |            4 |         1 |        200 | 0.3762 | 0.2013 |\n",
      " |            5 |         1 |        200 | 0.4516 | 0.3879 |\n",
      " |            8 |         1 |        200 | 0.5129 |   0.42 |\n",
      " |            9 |         1 |        300 | 0.7989 | 0.1664 |\n",
      " |           11 |         1 |        200 |  1.524 |  1.053 |\n",
      " |           13 |         1 |        400 |  1.738 |  1.276 |\n",
      " |           14 |         1 |        200 |  1.256 |  1.108 |\n",
      " |           15 |         1 |        400 |  1.163 | 0.3685 |\n",
      " |           19 |         1 |        300 | 0.5391 | 0.4561 |\n",
      " |           21 |         1 |        300 |  0.784 | 0.3599 |\n",
      " |           22 |         1 |        500 |  1.007 | 0.1851 |\n",
      " |           23 |         1 |        200 |  1.084 | 0.8987 |\n",
      " |           25 |         1 |        200 |  1.113 | 0.9846 |\n",
      " |           27 |         1 |        300 |  1.387 | 0.9602 |\n",
      " |           31 |         1 |        500 | 0.7777 | 0.4493 |\n",
      " |           34 |         1 |        200 | 0.9129 | 0.5855 |\n",
      " |           35 |         1 |        200 |  1.218 |  1.099 |\n",
      " |           37 |         1 |        200 | 0.5702 | 0.4382 |\n",
      " |           38 |         1 |        200 | 0.8907 | 0.6903 |\n",
      " |           39 |         1 |        300 | 0.9098 | 0.3468 |\n",
      " |           40 |         1 |        200 |  1.912 |  1.414 |\n",
      " |          ... |       ... |        ... |    ... |    ... |\n",
      " -----------------------------------------------------------\n",
      "Number of selected events: 53513\n"
     ]
    }
   ],
   "source": [
    "print(ev_frame)\n",
    "print(f\"Number of selected events: {ev_frame.num_rows}\")"
   ]
  },
  {
   "cell_type": "markdown",
   "id": "179ee22d-6477-40d3-a4b0-f1d0e39da5ba",
   "metadata": {},
   "source": [
    "These `EventFrame`s are great for working entirely in memory with only homogenous double-type columns. For saving to disk for later processing, or for interacting with other dataframe libraries, we provide a fully featured Apache Arrow interface that allows for typed columns, saving to disk in a variety of formats, and interop with a rich ecosystem of 'data science' tools."
   ]
  },
  {
   "cell_type": "code",
   "execution_count": 8,
   "id": "b0145d64-6154-4a7a-8cb3-34dff68e0836",
   "metadata": {},
   "outputs": [
    {
     "name": "stdout",
     "output_type": "stream",
     "text": [
      "pyarrow.RecordBatch\n",
      "event.number: int64\n",
      "weight.cv: double\n",
      "process.id: int64\n",
      "fatx.estimate: double\n",
      "enu: double\n",
      "plep: double\n"
     ]
    }
   ],
   "source": [
    "ev_frame_arrow = pn.EventFrameGen(nuevs).filter(sel_cc0pi).add_double_columns([\"enu\",\"plep\"], enu_plep_gev).firstArrow(100000)\n",
    "print(ev_frame_arrow)"
   ]
  },
  {
   "cell_type": "markdown",
   "id": "64c41af4-515c-4e28-a76c-84205808d1fc",
   "metadata": {},
   "source": [
    "`pyarrow` has first class support for conversion to a `pandas` dataframe, and `pandas` v2 and later uses Arrow as the backing storage for it's dataframe implementation, so the below conversion is 'free'."
   ]
  },
  {
   "cell_type": "code",
   "execution_count": 24,
   "id": "dcd78712-b39c-467e-8a2e-49d456254b17",
   "metadata": {},
   "outputs": [
    {
     "data": {
      "text/html": [
       "<div>\n",
       "<style scoped>\n",
       "    .dataframe tbody tr th:only-of-type {\n",
       "        vertical-align: middle;\n",
       "    }\n",
       "\n",
       "    .dataframe tbody tr th {\n",
       "        vertical-align: top;\n",
       "    }\n",
       "\n",
       "    .dataframe thead th {\n",
       "        text-align: right;\n",
       "    }\n",
       "</style>\n",
       "<table border=\"1\" class=\"dataframe\">\n",
       "  <thead>\n",
       "    <tr style=\"text-align: right;\">\n",
       "      <th></th>\n",
       "      <th>event.number</th>\n",
       "      <th>weight.cv</th>\n",
       "      <th>process.id</th>\n",
       "      <th>fatx.estimate</th>\n",
       "      <th>enu</th>\n",
       "      <th>plep</th>\n",
       "    </tr>\n",
       "  </thead>\n",
       "  <tbody>\n",
       "    <tr>\n",
       "      <th>0</th>\n",
       "      <td>4</td>\n",
       "      <td>1.0</td>\n",
       "      <td>200</td>\n",
       "      <td>0.37709</td>\n",
       "      <td>0.376179</td>\n",
       "      <td>0.201309</td>\n",
       "    </tr>\n",
       "    <tr>\n",
       "      <th>1</th>\n",
       "      <td>5</td>\n",
       "      <td>1.0</td>\n",
       "      <td>200</td>\n",
       "      <td>0.37709</td>\n",
       "      <td>0.451588</td>\n",
       "      <td>0.387897</td>\n",
       "    </tr>\n",
       "    <tr>\n",
       "      <th>2</th>\n",
       "      <td>8</td>\n",
       "      <td>1.0</td>\n",
       "      <td>200</td>\n",
       "      <td>0.37709</td>\n",
       "      <td>0.512935</td>\n",
       "      <td>0.420039</td>\n",
       "    </tr>\n",
       "    <tr>\n",
       "      <th>3</th>\n",
       "      <td>9</td>\n",
       "      <td>1.0</td>\n",
       "      <td>300</td>\n",
       "      <td>0.37709</td>\n",
       "      <td>0.798897</td>\n",
       "      <td>0.166363</td>\n",
       "    </tr>\n",
       "    <tr>\n",
       "      <th>4</th>\n",
       "      <td>11</td>\n",
       "      <td>1.0</td>\n",
       "      <td>200</td>\n",
       "      <td>0.37709</td>\n",
       "      <td>1.524072</td>\n",
       "      <td>1.052957</td>\n",
       "    </tr>\n",
       "    <tr>\n",
       "      <th>...</th>\n",
       "      <td>...</td>\n",
       "      <td>...</td>\n",
       "      <td>...</td>\n",
       "      <td>...</td>\n",
       "      <td>...</td>\n",
       "      <td>...</td>\n",
       "    </tr>\n",
       "    <tr>\n",
       "      <th>53508</th>\n",
       "      <td>99992</td>\n",
       "      <td>1.0</td>\n",
       "      <td>200</td>\n",
       "      <td>0.37709</td>\n",
       "      <td>1.378313</td>\n",
       "      <td>1.258990</td>\n",
       "    </tr>\n",
       "    <tr>\n",
       "      <th>53509</th>\n",
       "      <td>99993</td>\n",
       "      <td>1.0</td>\n",
       "      <td>200</td>\n",
       "      <td>0.37709</td>\n",
       "      <td>0.807081</td>\n",
       "      <td>0.653338</td>\n",
       "    </tr>\n",
       "    <tr>\n",
       "      <th>53510</th>\n",
       "      <td>99994</td>\n",
       "      <td>1.0</td>\n",
       "      <td>200</td>\n",
       "      <td>0.37709</td>\n",
       "      <td>1.165197</td>\n",
       "      <td>0.966825</td>\n",
       "    </tr>\n",
       "    <tr>\n",
       "      <th>53511</th>\n",
       "      <td>99996</td>\n",
       "      <td>1.0</td>\n",
       "      <td>300</td>\n",
       "      <td>0.37709</td>\n",
       "      <td>0.986174</td>\n",
       "      <td>0.541077</td>\n",
       "    </tr>\n",
       "    <tr>\n",
       "      <th>53512</th>\n",
       "      <td>99998</td>\n",
       "      <td>1.0</td>\n",
       "      <td>200</td>\n",
       "      <td>0.37709</td>\n",
       "      <td>0.535619</td>\n",
       "      <td>0.254991</td>\n",
       "    </tr>\n",
       "  </tbody>\n",
       "</table>\n",
       "<p>53513 rows × 6 columns</p>\n",
       "</div>"
      ],
      "text/plain": [
       "       event.number  weight.cv  process.id  fatx.estimate       enu      plep\n",
       "0                 4        1.0         200        0.37709  0.376179  0.201309\n",
       "1                 5        1.0         200        0.37709  0.451588  0.387897\n",
       "2                 8        1.0         200        0.37709  0.512935  0.420039\n",
       "3                 9        1.0         300        0.37709  0.798897  0.166363\n",
       "4                11        1.0         200        0.37709  1.524072  1.052957\n",
       "...             ...        ...         ...            ...       ...       ...\n",
       "53508         99992        1.0         200        0.37709  1.378313  1.258990\n",
       "53509         99993        1.0         200        0.37709  0.807081  0.653338\n",
       "53510         99994        1.0         200        0.37709  1.165197  0.966825\n",
       "53511         99996        1.0         300        0.37709  0.986174  0.541077\n",
       "53512         99998        1.0         200        0.37709  0.535619  0.254991\n",
       "\n",
       "[53513 rows x 6 columns]"
      ]
     },
     "execution_count": 24,
     "metadata": {},
     "output_type": "execute_result"
    }
   ],
   "source": [
    "df = ev_frame_arrow.to_pandas()\n",
    "df"
   ]
  },
  {
   "cell_type": "code",
   "execution_count": 31,
   "id": "d1ff9179-3efc-4722-bc46-29cd97457101",
   "metadata": {},
   "outputs": [
    {
     "data": {
      "text/plain": [
       "10       0.185094\n",
       "11       0.898678\n",
       "15       0.585521\n",
       "19       0.346800\n",
       "21       0.473770\n",
       "           ...   \n",
       "53490    0.902092\n",
       "53493    0.652208\n",
       "53495    0.531312\n",
       "53498    0.377853\n",
       "53511    0.541077\n",
       "Name: plep, Length: 9881, dtype: float64"
      ]
     },
     "execution_count": 31,
     "metadata": {},
     "output_type": "execute_result"
    }
   ],
   "source": [
    "df_slice = df[(df[\"enu\"] > 0.9) & (df[\"enu\"] < 1.1)]\n",
    "df_slice[\"plep\"]"
   ]
  },
  {
   "cell_type": "markdown",
   "id": "310ecdbc-0f59-4d69-99ab-5e1d036b5bb0",
   "metadata": {},
   "source": [
    " We can also use pandas to save the dataframe to disk and reload it for later use. The Apache parquet format offers a good compromise of speed and compression, the arrow-native feather format can also be used, which enables memory-mapped IO."
   ]
  },
  {
   "cell_type": "code",
   "execution_count": 1,
   "id": "f377c233-a04f-471b-8016-74b835d1bf43",
   "metadata": {},
   "outputs": [],
   "source": [
    "import pandas as pd\n",
    "import pyarrow as pa\n",
    "\n",
    "df_slice.to_parquet(\"NuWro.numu.BNB_uBooNE.CC0Pi.Flat.pq.sn\")\n",
    "df2 = pd.read_parquet(\"NuWro.numu.BNB_uBooNE.CC0Pi.Flat.pq.sn\")\n",
    "loaded_ev_frame_arrow = pa.Table.from_pandas(df2)"
   ]
  },
  {
   "cell_type": "markdown",
   "id": "d7f3182a-f3d3-4990-8973-68a21bb78df6",
   "metadata": {},
   "source": [
    "As Apache Arrow has become the *de facto* interop format for data science tools, we can use other data science libraries as well, like polars!"
   ]
  },
  {
   "cell_type": "code",
   "execution_count": 5,
   "id": "1a0fe850-2d34-441e-b371-1cd1f6c5d2b6",
   "metadata": {},
   "outputs": [
    {
     "data": {
      "text/html": [
       "<div><style>\n",
       ".dataframe > thead > tr,\n",
       ".dataframe > tbody > tr {\n",
       "  text-align: right;\n",
       "  white-space: pre-wrap;\n",
       "}\n",
       "</style>\n",
       "<small>shape: (9_881, 7)</small><table border=\"1\" class=\"dataframe\"><thead><tr><th>event.number</th><th>weight.cv</th><th>process.id</th><th>fatx.estimate</th><th>enu</th><th>plep</th><th>__index_level_0__</th></tr><tr><td>i64</td><td>f64</td><td>i64</td><td>f64</td><td>f64</td><td>f64</td><td>i64</td></tr></thead><tbody><tr><td>22</td><td>1.0</td><td>500</td><td>0.37709</td><td>1.006763</td><td>0.185094</td><td>10</td></tr><tr><td>23</td><td>1.0</td><td>200</td><td>0.37709</td><td>1.083625</td><td>0.898678</td><td>11</td></tr><tr><td>34</td><td>1.0</td><td>200</td><td>0.37709</td><td>0.912881</td><td>0.585521</td><td>15</td></tr><tr><td>39</td><td>1.0</td><td>300</td><td>0.37709</td><td>0.90976</td><td>0.3468</td><td>19</td></tr><tr><td>41</td><td>1.0</td><td>200</td><td>0.37709</td><td>0.995198</td><td>0.47377</td><td>21</td></tr><tr><td>&hellip;</td><td>&hellip;</td><td>&hellip;</td><td>&hellip;</td><td>&hellip;</td><td>&hellip;</td><td>&hellip;</td></tr><tr><td>99959</td><td>1.0</td><td>200</td><td>0.37709</td><td>1.001494</td><td>0.902092</td><td>53490</td></tr><tr><td>99967</td><td>1.0</td><td>200</td><td>0.37709</td><td>0.951765</td><td>0.652208</td><td>53493</td></tr><tr><td>99970</td><td>1.0</td><td>200</td><td>0.37709</td><td>1.089699</td><td>0.531312</td><td>53495</td></tr><tr><td>99976</td><td>1.0</td><td>400</td><td>0.37709</td><td>1.011633</td><td>0.377853</td><td>53498</td></tr><tr><td>99996</td><td>1.0</td><td>300</td><td>0.37709</td><td>0.986174</td><td>0.541077</td><td>53511</td></tr></tbody></table></div>"
      ],
      "text/plain": [
       "shape: (9_881, 7)\n",
       "┌──────────────┬───────────┬────────────┬───────────────┬──────────┬──────────┬───────────────────┐\n",
       "│ event.number ┆ weight.cv ┆ process.id ┆ fatx.estimate ┆ enu      ┆ plep     ┆ __index_level_0__ │\n",
       "│ ---          ┆ ---       ┆ ---        ┆ ---           ┆ ---      ┆ ---      ┆ ---               │\n",
       "│ i64          ┆ f64       ┆ i64        ┆ f64           ┆ f64      ┆ f64      ┆ i64               │\n",
       "╞══════════════╪═══════════╪════════════╪═══════════════╪══════════╪══════════╪═══════════════════╡\n",
       "│ 22           ┆ 1.0       ┆ 500        ┆ 0.37709       ┆ 1.006763 ┆ 0.185094 ┆ 10                │\n",
       "│ 23           ┆ 1.0       ┆ 200        ┆ 0.37709       ┆ 1.083625 ┆ 0.898678 ┆ 11                │\n",
       "│ 34           ┆ 1.0       ┆ 200        ┆ 0.37709       ┆ 0.912881 ┆ 0.585521 ┆ 15                │\n",
       "│ 39           ┆ 1.0       ┆ 300        ┆ 0.37709       ┆ 0.90976  ┆ 0.3468   ┆ 19                │\n",
       "│ 41           ┆ 1.0       ┆ 200        ┆ 0.37709       ┆ 0.995198 ┆ 0.47377  ┆ 21                │\n",
       "│ …            ┆ …         ┆ …          ┆ …             ┆ …        ┆ …        ┆ …                 │\n",
       "│ 99959        ┆ 1.0       ┆ 200        ┆ 0.37709       ┆ 1.001494 ┆ 0.902092 ┆ 53490             │\n",
       "│ 99967        ┆ 1.0       ┆ 200        ┆ 0.37709       ┆ 0.951765 ┆ 0.652208 ┆ 53493             │\n",
       "│ 99970        ┆ 1.0       ┆ 200        ┆ 0.37709       ┆ 1.089699 ┆ 0.531312 ┆ 53495             │\n",
       "│ 99976        ┆ 1.0       ┆ 400        ┆ 0.37709       ┆ 1.011633 ┆ 0.377853 ┆ 53498             │\n",
       "│ 99996        ┆ 1.0       ┆ 300        ┆ 0.37709       ┆ 0.986174 ┆ 0.541077 ┆ 53511             │\n",
       "└──────────────┴───────────┴────────────┴───────────────┴──────────┴──────────┴───────────────────┘"
      ]
     },
     "execution_count": 5,
     "metadata": {},
     "output_type": "execute_result"
    }
   ],
   "source": [
    "import polars as pl\n",
    "pl.from_arrow(loaded_ev_frame_arrow)"
   ]
  },
  {
   "cell_type": "markdown",
   "id": "8980d734-0084-471c-bc54-ae6b2838e8d3",
   "metadata": {},
   "source": [
    "## Histograms\n",
    "\n",
    "For the rest of this demo, we will use the `EventFrame` type for simplicity as we don't need any dataframe functionality or to save things to disk. The `fill_from_EventFrame` function below is one of a family of similar functions for filling histograms from tabular data, when working with arrow Tables, `fill_from_Arrow` should be used instead.\n",
    "\n",
    "Now we can histogram the event data up and take a look!"
   ]
  },
  {
   "cell_type": "code",
   "execution_count": 14,
   "id": "8533cebf-8ece-4d1e-b197-63636bfc8025",
   "metadata": {},
   "outputs": [
    {
     "data": {
      "image/png": "[encoded data removed]",
      "text/plain": [
       "<Figure size 640x480 with 1 Axes>"
      ]
     },
     "metadata": {},
     "output_type": "display_data"
    }
   ],
   "source": [
    "hist = pn.HistFrame(pn.Binning.lin_spaceND([[0.2,2,50],[0.2,2,50]],[r\"$E_\\nu$ [GeV]\",r\"$p_\\ell$ [GeV/c]\"]))\n",
    "hist.fill_from_EventFrame(ev_frame, [\"enu\", \"plep\"])\n",
    "hist.mpl().hist2d()\n",
    "plt.show()"
   ]
  },
  {
   "cell_type": "markdown",
   "id": "0d092b8a-d5a2-496b-88ee-85b80226adcb",
   "metadata": {},
   "source": [
    "We can break up the histogram by interaction mode with a variation of the filling helper, `fill_procid_columns_from_EventFrame` which adds a 'column' to the `HistFrame` for every interaction channel encountered. \n",
    "\n",
    "You can think of `HistFrame` columns a bit like 'stacks' in a ROOT histogram. There are no constraints that all columns sum to column zero. Each column represents a set of data assigned to every row in the `HistFrame`, where each row corresponds to a single bin. This structure has many uses, a common use beyond keeping track of sub-samples of a total is to represent systematically varied versions of the histogram, either randomly sampled 'universes' or specific variations used to build histfactory-like response functions (or bin splines in some experimental neutrino analyser parlance)."
   ]
  },
  {
   "cell_type": "code",
   "execution_count": 15,
   "id": "1f47f583-961e-4081-a5de-5316149521c8",
   "metadata": {},
   "outputs": [
    {
     "name": "stdout",
     "output_type": "stream",
     "text": [
      "0: Column: name=mc\n",
      "1: Column: name=200\n",
      "2: Column: name=300\n",
      "3: Column: name=400\n",
      "4: Column: name=500\n",
      "5: Column: name=600\n"
     ]
    }
   ],
   "source": [
    "hist = pn.HistFrame(pn.Binning.lin_spaceND([[0.2,2,50],[0.2,2,50]],[r\"$E_\\nu$ [GeV]\",r\"$p_\\ell$ [GeV/c]\"]))\n",
    "hist.fill_procid_columns_from_EventFrame(ev_frame, [\"enu\", \"plep\"])\n",
    "print(\"\\n\".join([ f\"{i}: {x}\" for i,x in enumerate(hist.column_info) ] ))"
   ]
  },
  {
   "cell_type": "markdown",
   "id": "ff894033-3964-4ca4-b3e9-4f2e2e292107",
   "metadata": {},
   "source": [
    "The interaction process ids are neccessarily generator-specific, but [NuHepMC](https://arxiv.org/pdf/2310.13211#page=11) provides a convention for common blocks of identifiers in E.C.1, *e.g.* 200 is CCQE. It is a requirement of NuHepMC that the process ids are documented in the file itself. We can check back to the GenRunInfo metadata to determine what the different identifers mean.\n",
    "\n",
    "The `matplotlib` helpers we used on the `HistFrame` before take args to to plot specific columns or to draw to specific axes, by default they plot the first column to the `plt.get_gca()` axis."
   ]
  },
  {
   "cell_type": "code",
   "execution_count": 16,
   "id": "7bd1b82e-3fec-4760-8749-44fc3fd5c1e5",
   "metadata": {},
   "outputs": [
    {
     "data": {
      "image/png": "[encoded data removed]",
      "text/plain": [
       "<Figure size 800x800 with 4 Axes>"
      ]
     },
     "metadata": {},
     "output_type": "display_data"
    }
   ],
   "source": [
    "fig, ((ax1,ax2),(ax3,ax4)) = plt.subplots(2,2, figsize=(8,8))\n",
    "\n",
    "hist.mpl().hist2d(column=\"mc\", plot_axis=ax1)\n",
    "ax1.text(1, 1.5, \"Total\", c=\"white\", fontsize=\"xx-large\")\n",
    "hist.mpl().hist2d(column=\"200\", plot_axis=ax2)\n",
    "ax2.text(1, 1.5, \"CCQE\", c=\"white\", fontsize=\"xx-large\")\n",
    "hist.mpl().hist2d(column=\"300\", plot_axis=ax3)\n",
    "ax3.text(1, 1.5, \"MEC\", c=\"white\", fontsize=\"xx-large\")\n",
    "hist.mpl().hist2d(column=\"400\", plot_axis=ax4)\n",
    "ax4.text(1, 1.5, \"SPP\", c=\"white\", fontsize=\"xx-large\")\n",
    "fig.show()"
   ]
  },
  {
   "cell_type": "markdown",
   "id": "44ccb58d-46c6-43b1-bf43-8208e1c255e9",
   "metadata": {},
   "source": [
    "The NUISANCE3 Histogramming utility also provide slice and project facilities for working with N-dimensional histograms."
   ]
  },
  {
   "cell_type": "code",
   "execution_count": 19,
   "id": "243241a7-d3e6-4836-b655-3e98db258687",
   "metadata": {},
   "outputs": [
    {
     "data": {
      "image/png": "[encoded data removed]",
      "text/plain": [
       "<Figure size 800x400 with 2 Axes>"
      ]
     },
     "metadata": {},
     "output_type": "display_data"
    }
   ],
   "source": [
    "hist_enu = hist.project(0)\n",
    "hist_pl = hist.project(1)\n",
    "\n",
    "fig, (ax1,ax2) = plt.subplots(1,2, figsize=(8,4))\n",
    "hist_enu.mpl().hist_all(plot_axis=ax1, histtype=\"step\", labels=[\"Total\",\"QE\",\"MEC\",\"1Pi\",\"SIS\",\"DIS\"])\n",
    "hist_pl.mpl().hist_all(plot_axis=ax2, histtype=\"step\")\n",
    "ax1.legend()\n",
    "fig.show()"
   ]
  },
  {
   "cell_type": "code",
   "execution_count": 23,
   "id": "557fe6da-c544-40ca-b52e-4bbec521aa6c",
   "metadata": {},
   "outputs": [
    {
     "data": {
      "image/png": "[encoded data removed]",
      "text/plain": [
       "<Figure size 800x400 with 2 Axes>"
      ]
     },
     "metadata": {},
     "output_type": "display_data"
    }
   ],
   "source": [
    "fig, (ax1,ax2) = plt.subplots(1,2, figsize=(8,4))\n",
    "\n",
    "hist.slice(0, [0.5,1.5]).mpl().hist2d(plot_axis=ax1)\n",
    "hist.slice(0, 1).mpl().hist_all(plot_axis=ax2, histtype=\"step\", labels=[\"Total\",\"QE\",\"MEC\",\"1Pi\",\"SIS\",\"DIS\"])\n",
    "ax2.legend()\n",
    "plt.show()"
   ]
  },
  {
   "cell_type": "markdown",
   "id": "b7e91981-3314-46ae-a52f-061e9dd6a892",
   "metadata": {},
   "source": [
    "## A Data Comparison\n",
    "\n",
    "NUISANCE3 will interface dynamically to HepData for automated data comparisons. At the time of writing the 350+ samples in NUISANCE2 have not been migrated to HepData, so we provide a NUISANCE2 interface, which lets you use some of the measurements from NUISANCE2 in NUISANCE3.\n",
    "\n",
    "We have not yet discussed scaling an event rate to a cross section. The ability to do this seemlessly in a generator-agnostic way is a core goal of NuHepMC, as a result it is fairly easy to do in NUISANCE. Both `eventinput` instances and `EventFrames` carefully track the sum of weights squared and the reported flux-averaged total cross section. The scale factor to take a weighted-filled histogram to a cross section prediction is simply to scale by the ratio of the two.\n",
    "\n",
    "Another detail that I will not dwell on much are that there are two types of binned objects, a `HistFrame` and a `BinnedValues`. A `HistFrame` can be filled and tracks the sum of fill weights and the sum of fill weights squared for each bin. A `BinnedValues` is static and has a value and an error associated with each bin. A `HistFrame` can be `finalise`d to a `BinnedValues` and a `BinnedValues` can spawn an empty `HistFrame` ready for filling."
   ]
  },
  {
   "cell_type": "code",
   "execution_count": 24,
   "id": "38618543-34a9-4612-b1fd-d01fcb3c26b9",
   "metadata": {},
   "outputs": [],
   "source": [
    "rf = pn.RecordFactory()\n",
    "nuis2 = rf.make_record({\"type\":\"nuisance2\"})\n",
    "MicroBooNE_CC1MuNp_XSec_1DPmu_nu = nuis2.table(\"MicroBooNE_CC1MuNp_XSec_1DPmu_nu\")\n",
    "\n",
    "ev_frame = pn.EventFrameGen(nuevs)\\\n",
    "            .filter(MicroBooNE_CC1MuNp_XSec_1DPmu_nu.select)\\\n",
    "            .add_columns([\"Pmu\"], MicroBooNE_CC1MuNp_XSec_1DPmu_nu.project)\\\n",
    "            .all()"
   ]
  },
  {
   "cell_type": "code",
   "execution_count": 25,
   "id": "24b03a41-ab22-4056-8bae-26328bf66a17",
   "metadata": {},
   "outputs": [
    {
     "name": "stdout",
     "output_type": "stream",
     "text": [
      " --------------------------------------------------\n",
      " | event.number | weight.cv | process.id |    Pmu |\n",
      " --------------------------------------------------\n",
      " |            4 |         1 |        200 | 0.1714 |\n",
      " |            9 |         1 |        300 | 0.1285 |\n",
      " |           13 |         1 |        400 |  1.272 |\n",
      " |           14 |         1 |        200 |  1.103 |\n",
      " |           15 |         1 |        400 |  0.353 |\n",
      " |           22 |         1 |        500 |  0.152 |\n",
      " |           23 |         1 |        200 | 0.8924 |\n",
      " |           25 |         1 |        200 |  0.979 |\n",
      " |           27 |         1 |        300 | 0.9544 |\n",
      " |           31 |         1 |        500 | 0.4367 |\n",
      " |           34 |         1 |        200 | 0.5759 |\n",
      " |           35 |         1 |        200 |  1.093 |\n",
      " |           37 |         1 |        200 | 0.4253 |\n",
      " |           38 |         1 |        200 | 0.6822 |\n",
      " |           40 |         1 |        200 |   1.41 |\n",
      " |           41 |         1 |        200 | 0.4618 |\n",
      " |           42 |         1 |        200 |  1.179 |\n",
      " |           48 |         1 |        200 |  1.111 |\n",
      " |           51 |         1 |        200 | 0.7591 |\n",
      " |           58 |         1 |        200 |  1.013 |\n",
      " |           59 |         1 |        200 | 0.3654 |\n",
      " |          ... |       ... |        ... |    ... |\n",
      " --------------------------------------------------\n",
      " The cross section scale factor: 3.770903350731617e-06 pb/A\n"
     ]
    }
   ],
   "source": [
    "print(ev_frame)\n",
    "print(f\" The cross section scale factor: {ev_frame.norm_info().fatx_per_sumweights()} pb/A\")"
   ]
  },
  {
   "cell_type": "code",
   "execution_count": 26,
   "id": "ab0fbdbc-14a6-46f7-948f-833205a42d47",
   "metadata": {},
   "outputs": [
    {
     "data": {
      "image/png": "[encoded data removed]",
      "text/plain": [
       "<Figure size 640x480 with 1 Axes>"
      ]
     },
     "metadata": {},
     "output_type": "display_data"
    }
   ],
   "source": [
    "comp = MicroBooNE_CC1MuNp_XSec_1DPmu_nu.comparison()\n",
    "\n",
    "comp.data.mpl().errorbar(marker=\".\", markersize=7.5, color=\"#000\", label=\"data\", linewidth=0, elinewidth=1, capsize=2.5)\n",
    "\n",
    "comp.mc.fill_from_EventFrame(ev_frame,[\"Pmu\"])\n",
    "\n",
    "pb_to_cm2 = 1E-36\n",
    "mcpred = comp.mc.finalise().scale(ev_frame.norm_info().fatx_per_sumweights() * pb_to_cm2)\n",
    "\n",
    "mcpred.mpl().hist(histtype=\"step\")\n",
    "plt.ylabel(r\"d$\\sigma$/d$p_{\\mu}$ [cm$^{2}$ /(GeV/c) /$^{40}$Ar]\")\n",
    "plt.xlabel(r\"$p_{\\mu}$ [GeV/c]\")\n",
    "plt.show()"
   ]
  },
  {
   "cell_type": "markdown",
   "id": "e73d0057-320c-4d63-b052-a978b1dfe901",
   "metadata": {},
   "source": [
    "## A HepData Comparison"
   ]
  },
  {
   "cell_type": "code",
   "execution_count": null,
   "id": "65cab94d-5fb9-45fb-97fc-b76798394967",
   "metadata": {},
   "outputs": [],
   "source": [
    "%%bash\n",
    "export NUISANCE_RECORD_DATABASE=$(pwd)\n",
    "nuis hepdata get-local-path hepdata-sandbox:1713917002/analysis.cxx"
   ]
  },
  {
   "cell_type": "code",
   "execution_count": null,
   "id": "9aabf0fd-df89-4734-993a-b3568e59ed83",
   "metadata": {},
   "outputs": [],
   "source": [
    "%cat hepdata-sandbox/1713917002/HEPData-1713917002-v1/analysis.cxx"
   ]
  }
 ],
 "metadata": {
  "kernelspec": {
   "display_name": "Python 3 (ipykernel)",
   "language": "python",
   "name": "python3"
  },
  "language_info": {
   "codemirror_mode": {
    "name": "ipython",
    "version": 3
   },
   "file_extension": ".py",
   "mimetype": "text/x-python",
   "name": "python",
   "nbconvert_exporter": "python",
   "pygments_lexer": "ipython3",
   "version": "3.9.18"
  }
 },
 "nbformat": 4,
 "nbformat_minor": 5
}
